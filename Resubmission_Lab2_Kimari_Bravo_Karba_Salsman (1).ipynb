{
  "nbformat": 4,
  "nbformat_minor": 0,
  "metadata": {
    "colab": {
      "name": "Resubmission_Lab2_Kimari_Bravo_Karba_Salsman.ipynb",
      "provenance": [],
      "collapsed_sections": [],
      "toc_visible": true
    },
    "kernelspec": {
      "name": "python3",
      "display_name": "Python 3"
    }
  },
  "cells": [
    {
      "cell_type": "markdown",
      "metadata": {
        "id": "7aSxNXnTF5Z2"
      },
      "source": [
        "\n",
        "..**New York City AirBnb** <br>\n",
        "Classification: Hotel-quality listings<br>\n",
        "Regression: Price<br>\n",
        "*Bravo, Karba, Kimari, Salsman*"
      ]
    },
    {
      "cell_type": "markdown",
      "metadata": {
        "id": "UVlRFKXWZDns"
      },
      "source": [
        "## **Resubmission Changes**\n",
        "\n",
        "**We are submitting all of the following parts for re-submission grade**\n",
        "\n",
        "Data Prep Part1: \n",
        "<blockquote>Fixed error so now shows df.info for both clf and reg data sets. Scaling was further down in the code and was not counted in grading but now moved to this section. Added a description to what was done for Data Preparation 1.</blockquote>\n",
        "\n",
        "Data Prep Part2:\n",
        "<blockquote> For each dataset that was used for classification and regression, I added df.info, I stated what the reponds variables and the features are, and finally I discribed how we were going to use these datasets to solve our problem. \n",
        "</blockquote>\n",
        "\n",
        "Modeling and Evaluation 1:\n",
        "<blockquote> Under the section New material for Modeling and Evaluation 1, i added why the metrics are appropriate for analyzing the results of our model, and not only why they are useful.</blockquote>\n",
        "\n",
        "Modeling and Evaluation 2:\n",
        "<blockquote> Under the section new material for Modeling and Evaluation2, I explained for each data set which cross validation method was used.</blockquote>\n",
        "\n",
        "\n",
        "Modeling and Evaluation 3:\n",
        "<blockquote> Previous submission had only accuracy optimized models, new submission also has recall optimized models.Grid searched and hypertuned recall optimizing models for all three classification tasks;Bernoulli Naive Bayes, KNN, Random Forest. </blockquote>\n",
        "\n",
        "<blockquote> The alpha for the Bernoulli Naive Bayes accuracy model is tuned and the output now displayed. It was not displayed during first submission.</blockquote>\n",
        "\n",
        "<blockquote> The gridsearch and output for KNN accuracy model was accidentally deleted and now has been fixed. Best estimator and KNN metrics are now visible.</blockquote>\n",
        "\n",
        "<blockquote>Linear Regression Description of modeling code added. Improper use of Stratified Kfolds changed to plain Kfold cv object for this task.</blockquote>\n",
        "\n",
        "<blockquote>KNRegressor description of modeling code added. Improper use of Stratified Kfolds changed to plain Kfold cv object for this task.</blockquote>\n",
        "\n",
        "<blockquote>Random Forest Regressor description of modeling code added. Improper use of Stratified Kfolds changed to plain Kfold cv object for this task.</blockquote>\n",
        "\n",
        "Modeling and Evaluation 4:\n",
        "<blockquote>Updated ROC for classifiers and re-wrote the write-up section</blockquote>\n",
        "\n",
        "<blockquote>Linear Regression visualization of its performance, as well as an assessment of Linear Regression.</blockquote>\n",
        "\n",
        "<blockquote>KNRegressor visualization of its performance, as well as assessment of the model.</blockquote>\n",
        "\n",
        "<blockquote>Random Forest Regressor visualization of its performance, as well as assessment of the model.</blockquote>\n",
        "\n",
        "Modeling and Evaluation 5:\n",
        "\n",
        "<blockquote>Classifier task comparison is now made for each model for each classifying task. Previously comparisons were made between different tasks,RF classifier and KNN classifier, instead of RF models to each other.</blockquote>\n",
        "<blockquote>Bernoulli Naive bayes model comparisons and write up added.</blockquote>\n",
        "<blockquote>Knn model comparisons and write up added.</blockquote>\n",
        "<blockquote>Random Forest model comparisons and write up added.</blockquote>\n",
        "\n",
        "\n",
        "\n",
        "Modeling and Evaluation 6:\n",
        "<blockquote>Moved Random Forest Classifier feature importance graph and description from Modeling and Evaluation 5.</blockquote>\n",
        "<blockquote>Added Naive Bayes feature importance graph and description.</blockquote>\n",
        "<blockquote>Feature importance between Naive Bayes classifier and Random Forest classifier write-up added.</blockquote>\n",
        "\n",
        "\n",
        "\n",
        "\n",
        "\n"
      ]
    },
    {
      "cell_type": "markdown",
      "metadata": {
        "id": "9mIbeyl4BEOJ"
      },
      "source": [
        "# **Data Preparation 1**"
      ]
    },
    {
      "cell_type": "code",
      "metadata": {
        "id": "nfIvGknGi1S4",
        "colab": {
          "base_uri": "https://localhost:8080/",
          "height": 1000
        },
        "outputId": "de583aad-b306-46d5-9214-dbe8bb456341"
      },
      "source": [
        "import pandas as pd\n",
        "import numpy as np\n",
        "data = pd.read_csv(r'https://raw.githubusercontent.com/thomaskarba/MachineLearningSMU/master/AB_NYC_2019.csv')\n",
        "\n",
        "#preparing data, class\n",
        "if 'price' in data.columns:\n",
        "  data['hotel_quality'] = data.price>=300\n",
        "  data.hotel_quality=data.hotel_quality.astype(np.int)\n",
        "\n",
        "# imputing reviews_per_month\n",
        "data = data.transform(lambda grp: grp.fillna(0))  \n",
        " \n",
        "# dummies\n",
        "if 'burrow_Bronx' not in data.columns:\n",
        "  burrows = pd.get_dummies(data.neighbourhood_group,prefix='burrow')\n",
        "  data = pd.concat((data,burrows),axis=1)\n",
        "if 'hood_Woodside' not in data.columns:\n",
        "  hood = pd.get_dummies(data.neighbourhood,prefix='hood')\n",
        "  data = pd.concat((data,hood),axis=1)\n",
        "if 'type_Private room' not in data.columns:\n",
        "  roomtype = pd.get_dummies(data.room_type,prefix='type')\n",
        "  data = pd.concat((data,roomtype),axis=1)  \n",
        "# removing original dummied features\n",
        "for item in ['neighbourhood_group','neighbourhood','room_type']:\n",
        "  if item in data.columns:\n",
        "    del data[item]\n",
        "# removing one of dummy variables\n",
        "if 'burrow_Staten Island' in data:\n",
        "  del data['burrow_Staten Island']\n",
        "if 'hood_Allerton' in data:\n",
        "  del data['hood_Allerton']\n",
        "if 'type_Shared room' in data:\n",
        "  del data['type_Shared room']\n",
        "# reference dummies are burrow:Staten Island, neighborhood: Allerton, room_type: Shared room\n",
        "\n",
        "# great_listing\n",
        "data['reviews_per_month']=data['reviews_per_month'].fillna(0)\n",
        "data['review_rate']=data['reviews_per_month']/30.0+.0001\n",
        "data['wanted_yr_rate']=(1-data['availability_365']/365.0)\n",
        "data['great_listing'] = data['review_rate']*data['wanted_yr_rate']\n",
        "if 'review_rate' in data:\n",
        "  del data['review_rate']\n",
        "if 'wanted_yr_rate' in data:\n",
        "  del data['wanted_yr_rate']\n",
        "\n",
        "\n",
        "#separate datasets for different prediction tasks\n",
        "rdata=data.copy()\n",
        "cdata=data\n",
        "\n",
        "#CLF: removed columns that are not useful \n",
        "for item in ['id','last_review','name','price','host_id','host_name']:\n",
        "  if item in cdata.columns:\n",
        "    del cdata[item]\n",
        "#REG: removed columns that are not useful \n",
        "for item in ['id','last_review','name','hotel_quality','host_id','host_name']:#,'reviews_per_month','number_of_reviews','availability_365','great_listing' not sure if its bad we dont take these out\n",
        "  if item in rdata.columns:\n",
        "    del rdata[item]\n",
        "\n",
        "#cdata.info(verbose=True)\n",
        "#rdata.info(verbose=True)\n",
        "cdata.info(verbose=True)\n",
        "rdata.info(verbose=True)\n",
        "\n",
        "if 'hotel_quality' in cdata.columns:\n",
        "  yc = cdata['hotel_quality'].values # get the labels we want\n",
        "  del cdata['hotel_quality'] # get rid of the class label\n",
        "  Xc = cdata.values\n",
        "\n",
        "from sklearn.preprocessing import StandardScaler\n",
        "scaler = StandardScaler()\n",
        "scaler.fit(Xc)\n",
        "scaled_Xc = scaler.transform(Xc)\n",
        "\n",
        "\n",
        "if 'price' in rdata.columns:\n",
        "  yr = rdata['price'].values \n",
        "  del rdata['price'] \n",
        "  Xr = rdata.values\n",
        "\n",
        "scaler = StandardScaler()\n",
        "scaler.fit(Xr)\n",
        "scaled_Xr = scaler.transform(Xr)"
      ],
      "execution_count": null,
      "outputs": [
        {
          "output_type": "stream",
          "text": [
            "<class 'pandas.core.frame.DataFrame'>\n",
            "RangeIndex: 48895 entries, 0 to 48894\n",
            "Data columns (total 235 columns):\n",
            " #   Column                           Dtype  \n",
            "---  ------                           -----  \n",
            " 0   latitude                         float64\n",
            " 1   longitude                        float64\n",
            " 2   minimum_nights                   int64  \n",
            " 3   number_of_reviews                int64  \n",
            " 4   reviews_per_month                float64\n",
            " 5   calculated_host_listings_count   int64  \n",
            " 6   availability_365                 int64  \n",
            " 7   hotel_quality                    int64  \n",
            " 8   burrow_Bronx                     uint8  \n",
            " 9   burrow_Brooklyn                  uint8  \n",
            " 10  burrow_Manhattan                 uint8  \n",
            " 11  burrow_Queens                    uint8  \n",
            " 12  hood_Arden Heights               uint8  \n",
            " 13  hood_Arrochar                    uint8  \n",
            " 14  hood_Arverne                     uint8  \n",
            " 15  hood_Astoria                     uint8  \n",
            " 16  hood_Bath Beach                  uint8  \n",
            " 17  hood_Battery Park City           uint8  \n",
            " 18  hood_Bay Ridge                   uint8  \n",
            " 19  hood_Bay Terrace                 uint8  \n",
            " 20  hood_Bay Terrace, Staten Island  uint8  \n",
            " 21  hood_Baychester                  uint8  \n",
            " 22  hood_Bayside                     uint8  \n",
            " 23  hood_Bayswater                   uint8  \n",
            " 24  hood_Bedford-Stuyvesant          uint8  \n",
            " 25  hood_Belle Harbor                uint8  \n",
            " 26  hood_Bellerose                   uint8  \n",
            " 27  hood_Belmont                     uint8  \n",
            " 28  hood_Bensonhurst                 uint8  \n",
            " 29  hood_Bergen Beach                uint8  \n",
            " 30  hood_Boerum Hill                 uint8  \n",
            " 31  hood_Borough Park                uint8  \n",
            " 32  hood_Breezy Point                uint8  \n",
            " 33  hood_Briarwood                   uint8  \n",
            " 34  hood_Brighton Beach              uint8  \n",
            " 35  hood_Bronxdale                   uint8  \n",
            " 36  hood_Brooklyn Heights            uint8  \n",
            " 37  hood_Brownsville                 uint8  \n",
            " 38  hood_Bull's Head                 uint8  \n",
            " 39  hood_Bushwick                    uint8  \n",
            " 40  hood_Cambria Heights             uint8  \n",
            " 41  hood_Canarsie                    uint8  \n",
            " 42  hood_Carroll Gardens             uint8  \n",
            " 43  hood_Castle Hill                 uint8  \n",
            " 44  hood_Castleton Corners           uint8  \n",
            " 45  hood_Chelsea                     uint8  \n",
            " 46  hood_Chinatown                   uint8  \n",
            " 47  hood_City Island                 uint8  \n",
            " 48  hood_Civic Center                uint8  \n",
            " 49  hood_Claremont Village           uint8  \n",
            " 50  hood_Clason Point                uint8  \n",
            " 51  hood_Clifton                     uint8  \n",
            " 52  hood_Clinton Hill                uint8  \n",
            " 53  hood_Co-op City                  uint8  \n",
            " 54  hood_Cobble Hill                 uint8  \n",
            " 55  hood_College Point               uint8  \n",
            " 56  hood_Columbia St                 uint8  \n",
            " 57  hood_Concord                     uint8  \n",
            " 58  hood_Concourse                   uint8  \n",
            " 59  hood_Concourse Village           uint8  \n",
            " 60  hood_Coney Island                uint8  \n",
            " 61  hood_Corona                      uint8  \n",
            " 62  hood_Crown Heights               uint8  \n",
            " 63  hood_Cypress Hills               uint8  \n",
            " 64  hood_DUMBO                       uint8  \n",
            " 65  hood_Ditmars Steinway            uint8  \n",
            " 66  hood_Dongan Hills                uint8  \n",
            " 67  hood_Douglaston                  uint8  \n",
            " 68  hood_Downtown Brooklyn           uint8  \n",
            " 69  hood_Dyker Heights               uint8  \n",
            " 70  hood_East Elmhurst               uint8  \n",
            " 71  hood_East Flatbush               uint8  \n",
            " 72  hood_East Harlem                 uint8  \n",
            " 73  hood_East Morrisania             uint8  \n",
            " 74  hood_East New York               uint8  \n",
            " 75  hood_East Village                uint8  \n",
            " 76  hood_Eastchester                 uint8  \n",
            " 77  hood_Edenwald                    uint8  \n",
            " 78  hood_Edgemere                    uint8  \n",
            " 79  hood_Elmhurst                    uint8  \n",
            " 80  hood_Eltingville                 uint8  \n",
            " 81  hood_Emerson Hill                uint8  \n",
            " 82  hood_Far Rockaway                uint8  \n",
            " 83  hood_Fieldston                   uint8  \n",
            " 84  hood_Financial District          uint8  \n",
            " 85  hood_Flatbush                    uint8  \n",
            " 86  hood_Flatiron District           uint8  \n",
            " 87  hood_Flatlands                   uint8  \n",
            " 88  hood_Flushing                    uint8  \n",
            " 89  hood_Fordham                     uint8  \n",
            " 90  hood_Forest Hills                uint8  \n",
            " 91  hood_Fort Greene                 uint8  \n",
            " 92  hood_Fort Hamilton               uint8  \n",
            " 93  hood_Fort Wadsworth              uint8  \n",
            " 94  hood_Fresh Meadows               uint8  \n",
            " 95  hood_Glendale                    uint8  \n",
            " 96  hood_Gowanus                     uint8  \n",
            " 97  hood_Gramercy                    uint8  \n",
            " 98  hood_Graniteville                uint8  \n",
            " 99  hood_Grant City                  uint8  \n",
            " 100 hood_Gravesend                   uint8  \n",
            " 101 hood_Great Kills                 uint8  \n",
            " 102 hood_Greenpoint                  uint8  \n",
            " 103 hood_Greenwich Village           uint8  \n",
            " 104 hood_Grymes Hill                 uint8  \n",
            " 105 hood_Harlem                      uint8  \n",
            " 106 hood_Hell's Kitchen              uint8  \n",
            " 107 hood_Highbridge                  uint8  \n",
            " 108 hood_Hollis                      uint8  \n",
            " 109 hood_Holliswood                  uint8  \n",
            " 110 hood_Howard Beach                uint8  \n",
            " 111 hood_Howland Hook                uint8  \n",
            " 112 hood_Huguenot                    uint8  \n",
            " 113 hood_Hunts Point                 uint8  \n",
            " 114 hood_Inwood                      uint8  \n",
            " 115 hood_Jackson Heights             uint8  \n",
            " 116 hood_Jamaica                     uint8  \n",
            " 117 hood_Jamaica Estates             uint8  \n",
            " 118 hood_Jamaica Hills               uint8  \n",
            " 119 hood_Kensington                  uint8  \n",
            " 120 hood_Kew Gardens                 uint8  \n",
            " 121 hood_Kew Gardens Hills           uint8  \n",
            " 122 hood_Kingsbridge                 uint8  \n",
            " 123 hood_Kips Bay                    uint8  \n",
            " 124 hood_Laurelton                   uint8  \n",
            " 125 hood_Lighthouse Hill             uint8  \n",
            " 126 hood_Little Italy                uint8  \n",
            " 127 hood_Little Neck                 uint8  \n",
            " 128 hood_Long Island City            uint8  \n",
            " 129 hood_Longwood                    uint8  \n",
            " 130 hood_Lower East Side             uint8  \n",
            " 131 hood_Manhattan Beach             uint8  \n",
            " 132 hood_Marble Hill                 uint8  \n",
            " 133 hood_Mariners Harbor             uint8  \n",
            " 134 hood_Maspeth                     uint8  \n",
            " 135 hood_Melrose                     uint8  \n",
            " 136 hood_Middle Village              uint8  \n",
            " 137 hood_Midland Beach               uint8  \n",
            " 138 hood_Midtown                     uint8  \n",
            " 139 hood_Midwood                     uint8  \n",
            " 140 hood_Mill Basin                  uint8  \n",
            " 141 hood_Morningside Heights         uint8  \n",
            " 142 hood_Morris Heights              uint8  \n",
            " 143 hood_Morris Park                 uint8  \n",
            " 144 hood_Morrisania                  uint8  \n",
            " 145 hood_Mott Haven                  uint8  \n",
            " 146 hood_Mount Eden                  uint8  \n",
            " 147 hood_Mount Hope                  uint8  \n",
            " 148 hood_Murray Hill                 uint8  \n",
            " 149 hood_Navy Yard                   uint8  \n",
            " 150 hood_Neponsit                    uint8  \n",
            " 151 hood_New Brighton                uint8  \n",
            " 152 hood_New Dorp                    uint8  \n",
            " 153 hood_New Dorp Beach              uint8  \n",
            " 154 hood_New Springville             uint8  \n",
            " 155 hood_NoHo                        uint8  \n",
            " 156 hood_Nolita                      uint8  \n",
            " 157 hood_North Riverdale             uint8  \n",
            " 158 hood_Norwood                     uint8  \n",
            " 159 hood_Oakwood                     uint8  \n",
            " 160 hood_Olinville                   uint8  \n",
            " 161 hood_Ozone Park                  uint8  \n",
            " 162 hood_Park Slope                  uint8  \n",
            " 163 hood_Parkchester                 uint8  \n",
            " 164 hood_Pelham Bay                  uint8  \n",
            " 165 hood_Pelham Gardens              uint8  \n",
            " 166 hood_Port Morris                 uint8  \n",
            " 167 hood_Port Richmond               uint8  \n",
            " 168 hood_Prince's Bay                uint8  \n",
            " 169 hood_Prospect Heights            uint8  \n",
            " 170 hood_Prospect-Lefferts Gardens   uint8  \n",
            " 171 hood_Queens Village              uint8  \n",
            " 172 hood_Randall Manor               uint8  \n",
            " 173 hood_Red Hook                    uint8  \n",
            " 174 hood_Rego Park                   uint8  \n",
            " 175 hood_Richmond Hill               uint8  \n",
            " 176 hood_Richmondtown                uint8  \n",
            " 177 hood_Ridgewood                   uint8  \n",
            " 178 hood_Riverdale                   uint8  \n",
            " 179 hood_Rockaway Beach              uint8  \n",
            " 180 hood_Roosevelt Island            uint8  \n",
            " 181 hood_Rosebank                    uint8  \n",
            " 182 hood_Rosedale                    uint8  \n",
            " 183 hood_Rossville                   uint8  \n",
            " 184 hood_Schuylerville               uint8  \n",
            " 185 hood_Sea Gate                    uint8  \n",
            " 186 hood_Sheepshead Bay              uint8  \n",
            " 187 hood_Shore Acres                 uint8  \n",
            " 188 hood_Silver Lake                 uint8  \n",
            " 189 hood_SoHo                        uint8  \n",
            " 190 hood_Soundview                   uint8  \n",
            " 191 hood_South Beach                 uint8  \n",
            " 192 hood_South Ozone Park            uint8  \n",
            " 193 hood_South Slope                 uint8  \n",
            " 194 hood_Springfield Gardens         uint8  \n",
            " 195 hood_Spuyten Duyvil              uint8  \n",
            " 196 hood_St. Albans                  uint8  \n",
            " 197 hood_St. George                  uint8  \n",
            " 198 hood_Stapleton                   uint8  \n",
            " 199 hood_Stuyvesant Town             uint8  \n",
            " 200 hood_Sunnyside                   uint8  \n",
            " 201 hood_Sunset Park                 uint8  \n",
            " 202 hood_Theater District            uint8  \n",
            " 203 hood_Throgs Neck                 uint8  \n",
            " 204 hood_Todt Hill                   uint8  \n",
            " 205 hood_Tompkinsville               uint8  \n",
            " 206 hood_Tottenville                 uint8  \n",
            " 207 hood_Tremont                     uint8  \n",
            " 208 hood_Tribeca                     uint8  \n",
            " 209 hood_Two Bridges                 uint8  \n",
            " 210 hood_Unionport                   uint8  \n",
            " 211 hood_University Heights          uint8  \n",
            " 212 hood_Upper East Side             uint8  \n",
            " 213 hood_Upper West Side             uint8  \n",
            " 214 hood_Van Nest                    uint8  \n",
            " 215 hood_Vinegar Hill                uint8  \n",
            " 216 hood_Wakefield                   uint8  \n",
            " 217 hood_Washington Heights          uint8  \n",
            " 218 hood_West Brighton               uint8  \n",
            " 219 hood_West Farms                  uint8  \n",
            " 220 hood_West Village                uint8  \n",
            " 221 hood_Westchester Square          uint8  \n",
            " 222 hood_Westerleigh                 uint8  \n",
            " 223 hood_Whitestone                  uint8  \n",
            " 224 hood_Williamsbridge              uint8  \n",
            " 225 hood_Williamsburg                uint8  \n",
            " 226 hood_Willowbrook                 uint8  \n",
            " 227 hood_Windsor Terrace             uint8  \n",
            " 228 hood_Woodhaven                   uint8  \n",
            " 229 hood_Woodlawn                    uint8  \n",
            " 230 hood_Woodrow                     uint8  \n",
            " 231 hood_Woodside                    uint8  \n",
            " 232 type_Entire home/apt             uint8  \n",
            " 233 type_Private room                uint8  \n",
            " 234 great_listing                    float64\n",
            "dtypes: float64(4), int64(5), uint8(226)\n",
            "memory usage: 13.9 MB\n",
            "<class 'pandas.core.frame.DataFrame'>\n",
            "RangeIndex: 48895 entries, 0 to 48894\n",
            "Data columns (total 235 columns):\n",
            " #   Column                           Dtype  \n",
            "---  ------                           -----  \n",
            " 0   latitude                         float64\n",
            " 1   longitude                        float64\n",
            " 2   price                            int64  \n",
            " 3   minimum_nights                   int64  \n",
            " 4   number_of_reviews                int64  \n",
            " 5   reviews_per_month                float64\n",
            " 6   calculated_host_listings_count   int64  \n",
            " 7   availability_365                 int64  \n",
            " 8   burrow_Bronx                     uint8  \n",
            " 9   burrow_Brooklyn                  uint8  \n",
            " 10  burrow_Manhattan                 uint8  \n",
            " 11  burrow_Queens                    uint8  \n",
            " 12  hood_Arden Heights               uint8  \n",
            " 13  hood_Arrochar                    uint8  \n",
            " 14  hood_Arverne                     uint8  \n",
            " 15  hood_Astoria                     uint8  \n",
            " 16  hood_Bath Beach                  uint8  \n",
            " 17  hood_Battery Park City           uint8  \n",
            " 18  hood_Bay Ridge                   uint8  \n",
            " 19  hood_Bay Terrace                 uint8  \n",
            " 20  hood_Bay Terrace, Staten Island  uint8  \n",
            " 21  hood_Baychester                  uint8  \n",
            " 22  hood_Bayside                     uint8  \n",
            " 23  hood_Bayswater                   uint8  \n",
            " 24  hood_Bedford-Stuyvesant          uint8  \n",
            " 25  hood_Belle Harbor                uint8  \n",
            " 26  hood_Bellerose                   uint8  \n",
            " 27  hood_Belmont                     uint8  \n",
            " 28  hood_Bensonhurst                 uint8  \n",
            " 29  hood_Bergen Beach                uint8  \n",
            " 30  hood_Boerum Hill                 uint8  \n",
            " 31  hood_Borough Park                uint8  \n",
            " 32  hood_Breezy Point                uint8  \n",
            " 33  hood_Briarwood                   uint8  \n",
            " 34  hood_Brighton Beach              uint8  \n",
            " 35  hood_Bronxdale                   uint8  \n",
            " 36  hood_Brooklyn Heights            uint8  \n",
            " 37  hood_Brownsville                 uint8  \n",
            " 38  hood_Bull's Head                 uint8  \n",
            " 39  hood_Bushwick                    uint8  \n",
            " 40  hood_Cambria Heights             uint8  \n",
            " 41  hood_Canarsie                    uint8  \n",
            " 42  hood_Carroll Gardens             uint8  \n",
            " 43  hood_Castle Hill                 uint8  \n",
            " 44  hood_Castleton Corners           uint8  \n",
            " 45  hood_Chelsea                     uint8  \n",
            " 46  hood_Chinatown                   uint8  \n",
            " 47  hood_City Island                 uint8  \n",
            " 48  hood_Civic Center                uint8  \n",
            " 49  hood_Claremont Village           uint8  \n",
            " 50  hood_Clason Point                uint8  \n",
            " 51  hood_Clifton                     uint8  \n",
            " 52  hood_Clinton Hill                uint8  \n",
            " 53  hood_Co-op City                  uint8  \n",
            " 54  hood_Cobble Hill                 uint8  \n",
            " 55  hood_College Point               uint8  \n",
            " 56  hood_Columbia St                 uint8  \n",
            " 57  hood_Concord                     uint8  \n",
            " 58  hood_Concourse                   uint8  \n",
            " 59  hood_Concourse Village           uint8  \n",
            " 60  hood_Coney Island                uint8  \n",
            " 61  hood_Corona                      uint8  \n",
            " 62  hood_Crown Heights               uint8  \n",
            " 63  hood_Cypress Hills               uint8  \n",
            " 64  hood_DUMBO                       uint8  \n",
            " 65  hood_Ditmars Steinway            uint8  \n",
            " 66  hood_Dongan Hills                uint8  \n",
            " 67  hood_Douglaston                  uint8  \n",
            " 68  hood_Downtown Brooklyn           uint8  \n",
            " 69  hood_Dyker Heights               uint8  \n",
            " 70  hood_East Elmhurst               uint8  \n",
            " 71  hood_East Flatbush               uint8  \n",
            " 72  hood_East Harlem                 uint8  \n",
            " 73  hood_East Morrisania             uint8  \n",
            " 74  hood_East New York               uint8  \n",
            " 75  hood_East Village                uint8  \n",
            " 76  hood_Eastchester                 uint8  \n",
            " 77  hood_Edenwald                    uint8  \n",
            " 78  hood_Edgemere                    uint8  \n",
            " 79  hood_Elmhurst                    uint8  \n",
            " 80  hood_Eltingville                 uint8  \n",
            " 81  hood_Emerson Hill                uint8  \n",
            " 82  hood_Far Rockaway                uint8  \n",
            " 83  hood_Fieldston                   uint8  \n",
            " 84  hood_Financial District          uint8  \n",
            " 85  hood_Flatbush                    uint8  \n",
            " 86  hood_Flatiron District           uint8  \n",
            " 87  hood_Flatlands                   uint8  \n",
            " 88  hood_Flushing                    uint8  \n",
            " 89  hood_Fordham                     uint8  \n",
            " 90  hood_Forest Hills                uint8  \n",
            " 91  hood_Fort Greene                 uint8  \n",
            " 92  hood_Fort Hamilton               uint8  \n",
            " 93  hood_Fort Wadsworth              uint8  \n",
            " 94  hood_Fresh Meadows               uint8  \n",
            " 95  hood_Glendale                    uint8  \n",
            " 96  hood_Gowanus                     uint8  \n",
            " 97  hood_Gramercy                    uint8  \n",
            " 98  hood_Graniteville                uint8  \n",
            " 99  hood_Grant City                  uint8  \n",
            " 100 hood_Gravesend                   uint8  \n",
            " 101 hood_Great Kills                 uint8  \n",
            " 102 hood_Greenpoint                  uint8  \n",
            " 103 hood_Greenwich Village           uint8  \n",
            " 104 hood_Grymes Hill                 uint8  \n",
            " 105 hood_Harlem                      uint8  \n",
            " 106 hood_Hell's Kitchen              uint8  \n",
            " 107 hood_Highbridge                  uint8  \n",
            " 108 hood_Hollis                      uint8  \n",
            " 109 hood_Holliswood                  uint8  \n",
            " 110 hood_Howard Beach                uint8  \n",
            " 111 hood_Howland Hook                uint8  \n",
            " 112 hood_Huguenot                    uint8  \n",
            " 113 hood_Hunts Point                 uint8  \n",
            " 114 hood_Inwood                      uint8  \n",
            " 115 hood_Jackson Heights             uint8  \n",
            " 116 hood_Jamaica                     uint8  \n",
            " 117 hood_Jamaica Estates             uint8  \n",
            " 118 hood_Jamaica Hills               uint8  \n",
            " 119 hood_Kensington                  uint8  \n",
            " 120 hood_Kew Gardens                 uint8  \n",
            " 121 hood_Kew Gardens Hills           uint8  \n",
            " 122 hood_Kingsbridge                 uint8  \n",
            " 123 hood_Kips Bay                    uint8  \n",
            " 124 hood_Laurelton                   uint8  \n",
            " 125 hood_Lighthouse Hill             uint8  \n",
            " 126 hood_Little Italy                uint8  \n",
            " 127 hood_Little Neck                 uint8  \n",
            " 128 hood_Long Island City            uint8  \n",
            " 129 hood_Longwood                    uint8  \n",
            " 130 hood_Lower East Side             uint8  \n",
            " 131 hood_Manhattan Beach             uint8  \n",
            " 132 hood_Marble Hill                 uint8  \n",
            " 133 hood_Mariners Harbor             uint8  \n",
            " 134 hood_Maspeth                     uint8  \n",
            " 135 hood_Melrose                     uint8  \n",
            " 136 hood_Middle Village              uint8  \n",
            " 137 hood_Midland Beach               uint8  \n",
            " 138 hood_Midtown                     uint8  \n",
            " 139 hood_Midwood                     uint8  \n",
            " 140 hood_Mill Basin                  uint8  \n",
            " 141 hood_Morningside Heights         uint8  \n",
            " 142 hood_Morris Heights              uint8  \n",
            " 143 hood_Morris Park                 uint8  \n",
            " 144 hood_Morrisania                  uint8  \n",
            " 145 hood_Mott Haven                  uint8  \n",
            " 146 hood_Mount Eden                  uint8  \n",
            " 147 hood_Mount Hope                  uint8  \n",
            " 148 hood_Murray Hill                 uint8  \n",
            " 149 hood_Navy Yard                   uint8  \n",
            " 150 hood_Neponsit                    uint8  \n",
            " 151 hood_New Brighton                uint8  \n",
            " 152 hood_New Dorp                    uint8  \n",
            " 153 hood_New Dorp Beach              uint8  \n",
            " 154 hood_New Springville             uint8  \n",
            " 155 hood_NoHo                        uint8  \n",
            " 156 hood_Nolita                      uint8  \n",
            " 157 hood_North Riverdale             uint8  \n",
            " 158 hood_Norwood                     uint8  \n",
            " 159 hood_Oakwood                     uint8  \n",
            " 160 hood_Olinville                   uint8  \n",
            " 161 hood_Ozone Park                  uint8  \n",
            " 162 hood_Park Slope                  uint8  \n",
            " 163 hood_Parkchester                 uint8  \n",
            " 164 hood_Pelham Bay                  uint8  \n",
            " 165 hood_Pelham Gardens              uint8  \n",
            " 166 hood_Port Morris                 uint8  \n",
            " 167 hood_Port Richmond               uint8  \n",
            " 168 hood_Prince's Bay                uint8  \n",
            " 169 hood_Prospect Heights            uint8  \n",
            " 170 hood_Prospect-Lefferts Gardens   uint8  \n",
            " 171 hood_Queens Village              uint8  \n",
            " 172 hood_Randall Manor               uint8  \n",
            " 173 hood_Red Hook                    uint8  \n",
            " 174 hood_Rego Park                   uint8  \n",
            " 175 hood_Richmond Hill               uint8  \n",
            " 176 hood_Richmondtown                uint8  \n",
            " 177 hood_Ridgewood                   uint8  \n",
            " 178 hood_Riverdale                   uint8  \n",
            " 179 hood_Rockaway Beach              uint8  \n",
            " 180 hood_Roosevelt Island            uint8  \n",
            " 181 hood_Rosebank                    uint8  \n",
            " 182 hood_Rosedale                    uint8  \n",
            " 183 hood_Rossville                   uint8  \n",
            " 184 hood_Schuylerville               uint8  \n",
            " 185 hood_Sea Gate                    uint8  \n",
            " 186 hood_Sheepshead Bay              uint8  \n",
            " 187 hood_Shore Acres                 uint8  \n",
            " 188 hood_Silver Lake                 uint8  \n",
            " 189 hood_SoHo                        uint8  \n",
            " 190 hood_Soundview                   uint8  \n",
            " 191 hood_South Beach                 uint8  \n",
            " 192 hood_South Ozone Park            uint8  \n",
            " 193 hood_South Slope                 uint8  \n",
            " 194 hood_Springfield Gardens         uint8  \n",
            " 195 hood_Spuyten Duyvil              uint8  \n",
            " 196 hood_St. Albans                  uint8  \n",
            " 197 hood_St. George                  uint8  \n",
            " 198 hood_Stapleton                   uint8  \n",
            " 199 hood_Stuyvesant Town             uint8  \n",
            " 200 hood_Sunnyside                   uint8  \n",
            " 201 hood_Sunset Park                 uint8  \n",
            " 202 hood_Theater District            uint8  \n",
            " 203 hood_Throgs Neck                 uint8  \n",
            " 204 hood_Todt Hill                   uint8  \n",
            " 205 hood_Tompkinsville               uint8  \n",
            " 206 hood_Tottenville                 uint8  \n",
            " 207 hood_Tremont                     uint8  \n",
            " 208 hood_Tribeca                     uint8  \n",
            " 209 hood_Two Bridges                 uint8  \n",
            " 210 hood_Unionport                   uint8  \n",
            " 211 hood_University Heights          uint8  \n",
            " 212 hood_Upper East Side             uint8  \n",
            " 213 hood_Upper West Side             uint8  \n",
            " 214 hood_Van Nest                    uint8  \n",
            " 215 hood_Vinegar Hill                uint8  \n",
            " 216 hood_Wakefield                   uint8  \n",
            " 217 hood_Washington Heights          uint8  \n",
            " 218 hood_West Brighton               uint8  \n",
            " 219 hood_West Farms                  uint8  \n",
            " 220 hood_West Village                uint8  \n",
            " 221 hood_Westchester Square          uint8  \n",
            " 222 hood_Westerleigh                 uint8  \n",
            " 223 hood_Whitestone                  uint8  \n",
            " 224 hood_Williamsbridge              uint8  \n",
            " 225 hood_Williamsburg                uint8  \n",
            " 226 hood_Willowbrook                 uint8  \n",
            " 227 hood_Windsor Terrace             uint8  \n",
            " 228 hood_Woodhaven                   uint8  \n",
            " 229 hood_Woodlawn                    uint8  \n",
            " 230 hood_Woodrow                     uint8  \n",
            " 231 hood_Woodside                    uint8  \n",
            " 232 type_Entire home/apt             uint8  \n",
            " 233 type_Private room                uint8  \n",
            " 234 great_listing                    float64\n",
            "dtypes: float64(4), int64(5), uint8(226)\n",
            "memory usage: 13.9 MB\n"
          ],
          "name": "stdout"
        }
      ]
    },
    {
      "cell_type": "markdown",
      "metadata": {
        "id": "BBcGWQ1Ra54s"
      },
      "source": [
        "**NEW MATERIAL**<br>\n",
        "Description:\n",
        "1. Created hotel_quality variable for classification tasks. This variable separates the listings by those that are assumed to be of hotel quality and priced as such.\n",
        "2. Imputed Reviews per month for listings that did not have values, simply 0 suffices.\n",
        "3. One hot-encode useful class features NYC burrow, neighborhood and room-type. Remove one of each feature to create a values=0 reference.\n",
        "4. Removed 6 host identifyable, date and target features for classification set.\n",
        "5. Removed 6 host identifyable, date, and class target features for regression set.\n",
        "6. Created Target variables for clf/reg and scalled X's for both."
      ]
    },
    {
      "cell_type": "markdown",
      "metadata": {
        "id": "LPVEAeeRoBRB"
      },
      "source": [
        "# **Data Preparation 2**"
      ]
    },
    {
      "cell_type": "markdown",
      "metadata": {
        "id": "evBsNRY34Kl7"
      },
      "source": [
        "*Describe the final dataset that is used for classification/regression (include a description of any newly formed variables you created).\n",
        "Modeling and Evaluation 1\t10\tChoose and explain your evaluation metrics that you will use (i.e., accuracy*\n",
        "\n",
        "  We have arrived at two datasets for our tasks, classification and regression.\n",
        "\n",
        "  The feature that was created was <u>great_listing</u>. This is beneficial for both tasks as it takes advantage of guest data such as reviews and availability. It primarily exposes demand for listings, assuming that the majority of hosts will adjust their pricing based on either reviews or lack of availability, exposing in-demand higher priced listings for our classifiers/regressors. This could have been a class with either zero or one, but we felt that a continuous value could be more convincing and informative. \n",
        "\n",
        "  For classification of perceived hotel-quality class listings on Airbnb utilized all the useful features following a general idea of how this will be deployed. Features are longitude, latitude, neighborhood, burrow, reviews, availability, room type, and host listings, less price. It is important that price be removed due to the idea that *all* other data should essentially be the deciding factor as to whether a listing is really deserving of a hotel-price averaged listing for New York City.\n",
        "\n",
        "  The chosen metric(s) of evaluation for classification are.... \n",
        "\n",
        "  The regression of price also utilized most features assuming that some of those features will be imputed at deployment, i.e. review features, great_listing, and availability. Other features of coordinates, burrow, neighborhoods will be present at the time of deployment.\n",
        "\n",
        "  The chosen metrics for evaluation of regression are mean absolute error for gridsearch of models and MAE and RMSE for the chosen models. MAE and RMSE both show magnitude of error in our predictions vs the true response. RMSE was important because it gives greater weight to larger errors. RMSE would show if one model exhibits greater consistency in prediction vs the other."
      ]
    },
    {
      "cell_type": "markdown",
      "metadata": {
        "id": "Suhkp8QzsBJs"
      },
      "source": [
        "**New material for Data Preparation 2**"
      ]
    },
    {
      "cell_type": "markdown",
      "metadata": {
        "id": "B4XCBQ3EUS2X"
      },
      "source": [
        "**Classification Final dataset**"
      ]
    },
    {
      "cell_type": "code",
      "metadata": {
        "id": "kQX2k7T2WYeS",
        "colab": {
          "base_uri": "https://localhost:8080/",
          "height": 1000
        },
        "outputId": "906e4911-49ec-4e55-8a0a-6e3220bd7f34"
      },
      "source": [
        "# Df.info for the classification data set\n",
        "cdata.info(verbose=True)"
      ],
      "execution_count": null,
      "outputs": [
        {
          "output_type": "stream",
          "text": [
            "<class 'pandas.core.frame.DataFrame'>\n",
            "RangeIndex: 48895 entries, 0 to 48894\n",
            "Data columns (total 234 columns):\n",
            " #   Column                           Dtype  \n",
            "---  ------                           -----  \n",
            " 0   latitude                         float64\n",
            " 1   longitude                        float64\n",
            " 2   minimum_nights                   int64  \n",
            " 3   number_of_reviews                int64  \n",
            " 4   reviews_per_month                float64\n",
            " 5   calculated_host_listings_count   int64  \n",
            " 6   availability_365                 int64  \n",
            " 7   burrow_Bronx                     uint8  \n",
            " 8   burrow_Brooklyn                  uint8  \n",
            " 9   burrow_Manhattan                 uint8  \n",
            " 10  burrow_Queens                    uint8  \n",
            " 11  hood_Arden Heights               uint8  \n",
            " 12  hood_Arrochar                    uint8  \n",
            " 13  hood_Arverne                     uint8  \n",
            " 14  hood_Astoria                     uint8  \n",
            " 15  hood_Bath Beach                  uint8  \n",
            " 16  hood_Battery Park City           uint8  \n",
            " 17  hood_Bay Ridge                   uint8  \n",
            " 18  hood_Bay Terrace                 uint8  \n",
            " 19  hood_Bay Terrace, Staten Island  uint8  \n",
            " 20  hood_Baychester                  uint8  \n",
            " 21  hood_Bayside                     uint8  \n",
            " 22  hood_Bayswater                   uint8  \n",
            " 23  hood_Bedford-Stuyvesant          uint8  \n",
            " 24  hood_Belle Harbor                uint8  \n",
            " 25  hood_Bellerose                   uint8  \n",
            " 26  hood_Belmont                     uint8  \n",
            " 27  hood_Bensonhurst                 uint8  \n",
            " 28  hood_Bergen Beach                uint8  \n",
            " 29  hood_Boerum Hill                 uint8  \n",
            " 30  hood_Borough Park                uint8  \n",
            " 31  hood_Breezy Point                uint8  \n",
            " 32  hood_Briarwood                   uint8  \n",
            " 33  hood_Brighton Beach              uint8  \n",
            " 34  hood_Bronxdale                   uint8  \n",
            " 35  hood_Brooklyn Heights            uint8  \n",
            " 36  hood_Brownsville                 uint8  \n",
            " 37  hood_Bull's Head                 uint8  \n",
            " 38  hood_Bushwick                    uint8  \n",
            " 39  hood_Cambria Heights             uint8  \n",
            " 40  hood_Canarsie                    uint8  \n",
            " 41  hood_Carroll Gardens             uint8  \n",
            " 42  hood_Castle Hill                 uint8  \n",
            " 43  hood_Castleton Corners           uint8  \n",
            " 44  hood_Chelsea                     uint8  \n",
            " 45  hood_Chinatown                   uint8  \n",
            " 46  hood_City Island                 uint8  \n",
            " 47  hood_Civic Center                uint8  \n",
            " 48  hood_Claremont Village           uint8  \n",
            " 49  hood_Clason Point                uint8  \n",
            " 50  hood_Clifton                     uint8  \n",
            " 51  hood_Clinton Hill                uint8  \n",
            " 52  hood_Co-op City                  uint8  \n",
            " 53  hood_Cobble Hill                 uint8  \n",
            " 54  hood_College Point               uint8  \n",
            " 55  hood_Columbia St                 uint8  \n",
            " 56  hood_Concord                     uint8  \n",
            " 57  hood_Concourse                   uint8  \n",
            " 58  hood_Concourse Village           uint8  \n",
            " 59  hood_Coney Island                uint8  \n",
            " 60  hood_Corona                      uint8  \n",
            " 61  hood_Crown Heights               uint8  \n",
            " 62  hood_Cypress Hills               uint8  \n",
            " 63  hood_DUMBO                       uint8  \n",
            " 64  hood_Ditmars Steinway            uint8  \n",
            " 65  hood_Dongan Hills                uint8  \n",
            " 66  hood_Douglaston                  uint8  \n",
            " 67  hood_Downtown Brooklyn           uint8  \n",
            " 68  hood_Dyker Heights               uint8  \n",
            " 69  hood_East Elmhurst               uint8  \n",
            " 70  hood_East Flatbush               uint8  \n",
            " 71  hood_East Harlem                 uint8  \n",
            " 72  hood_East Morrisania             uint8  \n",
            " 73  hood_East New York               uint8  \n",
            " 74  hood_East Village                uint8  \n",
            " 75  hood_Eastchester                 uint8  \n",
            " 76  hood_Edenwald                    uint8  \n",
            " 77  hood_Edgemere                    uint8  \n",
            " 78  hood_Elmhurst                    uint8  \n",
            " 79  hood_Eltingville                 uint8  \n",
            " 80  hood_Emerson Hill                uint8  \n",
            " 81  hood_Far Rockaway                uint8  \n",
            " 82  hood_Fieldston                   uint8  \n",
            " 83  hood_Financial District          uint8  \n",
            " 84  hood_Flatbush                    uint8  \n",
            " 85  hood_Flatiron District           uint8  \n",
            " 86  hood_Flatlands                   uint8  \n",
            " 87  hood_Flushing                    uint8  \n",
            " 88  hood_Fordham                     uint8  \n",
            " 89  hood_Forest Hills                uint8  \n",
            " 90  hood_Fort Greene                 uint8  \n",
            " 91  hood_Fort Hamilton               uint8  \n",
            " 92  hood_Fort Wadsworth              uint8  \n",
            " 93  hood_Fresh Meadows               uint8  \n",
            " 94  hood_Glendale                    uint8  \n",
            " 95  hood_Gowanus                     uint8  \n",
            " 96  hood_Gramercy                    uint8  \n",
            " 97  hood_Graniteville                uint8  \n",
            " 98  hood_Grant City                  uint8  \n",
            " 99  hood_Gravesend                   uint8  \n",
            " 100 hood_Great Kills                 uint8  \n",
            " 101 hood_Greenpoint                  uint8  \n",
            " 102 hood_Greenwich Village           uint8  \n",
            " 103 hood_Grymes Hill                 uint8  \n",
            " 104 hood_Harlem                      uint8  \n",
            " 105 hood_Hell's Kitchen              uint8  \n",
            " 106 hood_Highbridge                  uint8  \n",
            " 107 hood_Hollis                      uint8  \n",
            " 108 hood_Holliswood                  uint8  \n",
            " 109 hood_Howard Beach                uint8  \n",
            " 110 hood_Howland Hook                uint8  \n",
            " 111 hood_Huguenot                    uint8  \n",
            " 112 hood_Hunts Point                 uint8  \n",
            " 113 hood_Inwood                      uint8  \n",
            " 114 hood_Jackson Heights             uint8  \n",
            " 115 hood_Jamaica                     uint8  \n",
            " 116 hood_Jamaica Estates             uint8  \n",
            " 117 hood_Jamaica Hills               uint8  \n",
            " 118 hood_Kensington                  uint8  \n",
            " 119 hood_Kew Gardens                 uint8  \n",
            " 120 hood_Kew Gardens Hills           uint8  \n",
            " 121 hood_Kingsbridge                 uint8  \n",
            " 122 hood_Kips Bay                    uint8  \n",
            " 123 hood_Laurelton                   uint8  \n",
            " 124 hood_Lighthouse Hill             uint8  \n",
            " 125 hood_Little Italy                uint8  \n",
            " 126 hood_Little Neck                 uint8  \n",
            " 127 hood_Long Island City            uint8  \n",
            " 128 hood_Longwood                    uint8  \n",
            " 129 hood_Lower East Side             uint8  \n",
            " 130 hood_Manhattan Beach             uint8  \n",
            " 131 hood_Marble Hill                 uint8  \n",
            " 132 hood_Mariners Harbor             uint8  \n",
            " 133 hood_Maspeth                     uint8  \n",
            " 134 hood_Melrose                     uint8  \n",
            " 135 hood_Middle Village              uint8  \n",
            " 136 hood_Midland Beach               uint8  \n",
            " 137 hood_Midtown                     uint8  \n",
            " 138 hood_Midwood                     uint8  \n",
            " 139 hood_Mill Basin                  uint8  \n",
            " 140 hood_Morningside Heights         uint8  \n",
            " 141 hood_Morris Heights              uint8  \n",
            " 142 hood_Morris Park                 uint8  \n",
            " 143 hood_Morrisania                  uint8  \n",
            " 144 hood_Mott Haven                  uint8  \n",
            " 145 hood_Mount Eden                  uint8  \n",
            " 146 hood_Mount Hope                  uint8  \n",
            " 147 hood_Murray Hill                 uint8  \n",
            " 148 hood_Navy Yard                   uint8  \n",
            " 149 hood_Neponsit                    uint8  \n",
            " 150 hood_New Brighton                uint8  \n",
            " 151 hood_New Dorp                    uint8  \n",
            " 152 hood_New Dorp Beach              uint8  \n",
            " 153 hood_New Springville             uint8  \n",
            " 154 hood_NoHo                        uint8  \n",
            " 155 hood_Nolita                      uint8  \n",
            " 156 hood_North Riverdale             uint8  \n",
            " 157 hood_Norwood                     uint8  \n",
            " 158 hood_Oakwood                     uint8  \n",
            " 159 hood_Olinville                   uint8  \n",
            " 160 hood_Ozone Park                  uint8  \n",
            " 161 hood_Park Slope                  uint8  \n",
            " 162 hood_Parkchester                 uint8  \n",
            " 163 hood_Pelham Bay                  uint8  \n",
            " 164 hood_Pelham Gardens              uint8  \n",
            " 165 hood_Port Morris                 uint8  \n",
            " 166 hood_Port Richmond               uint8  \n",
            " 167 hood_Prince's Bay                uint8  \n",
            " 168 hood_Prospect Heights            uint8  \n",
            " 169 hood_Prospect-Lefferts Gardens   uint8  \n",
            " 170 hood_Queens Village              uint8  \n",
            " 171 hood_Randall Manor               uint8  \n",
            " 172 hood_Red Hook                    uint8  \n",
            " 173 hood_Rego Park                   uint8  \n",
            " 174 hood_Richmond Hill               uint8  \n",
            " 175 hood_Richmondtown                uint8  \n",
            " 176 hood_Ridgewood                   uint8  \n",
            " 177 hood_Riverdale                   uint8  \n",
            " 178 hood_Rockaway Beach              uint8  \n",
            " 179 hood_Roosevelt Island            uint8  \n",
            " 180 hood_Rosebank                    uint8  \n",
            " 181 hood_Rosedale                    uint8  \n",
            " 182 hood_Rossville                   uint8  \n",
            " 183 hood_Schuylerville               uint8  \n",
            " 184 hood_Sea Gate                    uint8  \n",
            " 185 hood_Sheepshead Bay              uint8  \n",
            " 186 hood_Shore Acres                 uint8  \n",
            " 187 hood_Silver Lake                 uint8  \n",
            " 188 hood_SoHo                        uint8  \n",
            " 189 hood_Soundview                   uint8  \n",
            " 190 hood_South Beach                 uint8  \n",
            " 191 hood_South Ozone Park            uint8  \n",
            " 192 hood_South Slope                 uint8  \n",
            " 193 hood_Springfield Gardens         uint8  \n",
            " 194 hood_Spuyten Duyvil              uint8  \n",
            " 195 hood_St. Albans                  uint8  \n",
            " 196 hood_St. George                  uint8  \n",
            " 197 hood_Stapleton                   uint8  \n",
            " 198 hood_Stuyvesant Town             uint8  \n",
            " 199 hood_Sunnyside                   uint8  \n",
            " 200 hood_Sunset Park                 uint8  \n",
            " 201 hood_Theater District            uint8  \n",
            " 202 hood_Throgs Neck                 uint8  \n",
            " 203 hood_Todt Hill                   uint8  \n",
            " 204 hood_Tompkinsville               uint8  \n",
            " 205 hood_Tottenville                 uint8  \n",
            " 206 hood_Tremont                     uint8  \n",
            " 207 hood_Tribeca                     uint8  \n",
            " 208 hood_Two Bridges                 uint8  \n",
            " 209 hood_Unionport                   uint8  \n",
            " 210 hood_University Heights          uint8  \n",
            " 211 hood_Upper East Side             uint8  \n",
            " 212 hood_Upper West Side             uint8  \n",
            " 213 hood_Van Nest                    uint8  \n",
            " 214 hood_Vinegar Hill                uint8  \n",
            " 215 hood_Wakefield                   uint8  \n",
            " 216 hood_Washington Heights          uint8  \n",
            " 217 hood_West Brighton               uint8  \n",
            " 218 hood_West Farms                  uint8  \n",
            " 219 hood_West Village                uint8  \n",
            " 220 hood_Westchester Square          uint8  \n",
            " 221 hood_Westerleigh                 uint8  \n",
            " 222 hood_Whitestone                  uint8  \n",
            " 223 hood_Williamsbridge              uint8  \n",
            " 224 hood_Williamsburg                uint8  \n",
            " 225 hood_Willowbrook                 uint8  \n",
            " 226 hood_Windsor Terrace             uint8  \n",
            " 227 hood_Woodhaven                   uint8  \n",
            " 228 hood_Woodlawn                    uint8  \n",
            " 229 hood_Woodrow                     uint8  \n",
            " 230 hood_Woodside                    uint8  \n",
            " 231 type_Entire home/apt             uint8  \n",
            " 232 type_Private room                uint8  \n",
            " 233 great_listing                    float64\n",
            "dtypes: float64(4), int64(4), uint8(226)\n",
            "memory usage: 13.5 MB\n"
          ],
          "name": "stdout"
        }
      ]
    },
    {
      "cell_type": "markdown",
      "metadata": {
        "id": "TrEG1Mh1bb_w"
      },
      "source": [
        "**Classification Data description**\n",
        "\n",
        "\n",
        "\n",
        "1.    Classification **response variable** is Hotel quality. This a variable that is was binned from our price variable. If price > 300 then Hotel quality is encoded as 1, it is 0 otherwise. 300 is determined by the average price for a hotel in NYC.\n",
        "2.   And the features for classification are  longitude, latitude, neighborhood, burrow, reviews, availability, room type, and host listings, less price.\n",
        "\n",
        "\n",
        "What we are trying to classify is basically given the features longitude, latitude, neighborhood, burrow, reviews, availability, room type, and host listings, can we predict whether  a listing is really deserving of a hotel-price averaged for New York City\n",
        "\n",
        "\n",
        "**Note**\n",
        "Price was removed because the goal is to classify Hotel quality\n",
        "\n",
        "\n"
      ]
    },
    {
      "cell_type": "markdown",
      "metadata": {
        "id": "jsBNSrZneLY4"
      },
      "source": [
        "**Regression Final Data Set**\n"
      ]
    },
    {
      "cell_type": "code",
      "metadata": {
        "id": "KYeRnYWCeJDU",
        "colab": {
          "base_uri": "https://localhost:8080/",
          "height": 1000
        },
        "outputId": "a2692fc5-684c-448e-d4cb-c5cecdfa47f6"
      },
      "source": [
        "rdata.info(verbose=True)"
      ],
      "execution_count": null,
      "outputs": [
        {
          "output_type": "stream",
          "text": [
            "<class 'pandas.core.frame.DataFrame'>\n",
            "RangeIndex: 48895 entries, 0 to 48894\n",
            "Data columns (total 234 columns):\n",
            " #   Column                           Dtype  \n",
            "---  ------                           -----  \n",
            " 0   latitude                         float64\n",
            " 1   longitude                        float64\n",
            " 2   minimum_nights                   int64  \n",
            " 3   number_of_reviews                int64  \n",
            " 4   reviews_per_month                float64\n",
            " 5   calculated_host_listings_count   int64  \n",
            " 6   availability_365                 int64  \n",
            " 7   burrow_Bronx                     uint8  \n",
            " 8   burrow_Brooklyn                  uint8  \n",
            " 9   burrow_Manhattan                 uint8  \n",
            " 10  burrow_Queens                    uint8  \n",
            " 11  hood_Arden Heights               uint8  \n",
            " 12  hood_Arrochar                    uint8  \n",
            " 13  hood_Arverne                     uint8  \n",
            " 14  hood_Astoria                     uint8  \n",
            " 15  hood_Bath Beach                  uint8  \n",
            " 16  hood_Battery Park City           uint8  \n",
            " 17  hood_Bay Ridge                   uint8  \n",
            " 18  hood_Bay Terrace                 uint8  \n",
            " 19  hood_Bay Terrace, Staten Island  uint8  \n",
            " 20  hood_Baychester                  uint8  \n",
            " 21  hood_Bayside                     uint8  \n",
            " 22  hood_Bayswater                   uint8  \n",
            " 23  hood_Bedford-Stuyvesant          uint8  \n",
            " 24  hood_Belle Harbor                uint8  \n",
            " 25  hood_Bellerose                   uint8  \n",
            " 26  hood_Belmont                     uint8  \n",
            " 27  hood_Bensonhurst                 uint8  \n",
            " 28  hood_Bergen Beach                uint8  \n",
            " 29  hood_Boerum Hill                 uint8  \n",
            " 30  hood_Borough Park                uint8  \n",
            " 31  hood_Breezy Point                uint8  \n",
            " 32  hood_Briarwood                   uint8  \n",
            " 33  hood_Brighton Beach              uint8  \n",
            " 34  hood_Bronxdale                   uint8  \n",
            " 35  hood_Brooklyn Heights            uint8  \n",
            " 36  hood_Brownsville                 uint8  \n",
            " 37  hood_Bull's Head                 uint8  \n",
            " 38  hood_Bushwick                    uint8  \n",
            " 39  hood_Cambria Heights             uint8  \n",
            " 40  hood_Canarsie                    uint8  \n",
            " 41  hood_Carroll Gardens             uint8  \n",
            " 42  hood_Castle Hill                 uint8  \n",
            " 43  hood_Castleton Corners           uint8  \n",
            " 44  hood_Chelsea                     uint8  \n",
            " 45  hood_Chinatown                   uint8  \n",
            " 46  hood_City Island                 uint8  \n",
            " 47  hood_Civic Center                uint8  \n",
            " 48  hood_Claremont Village           uint8  \n",
            " 49  hood_Clason Point                uint8  \n",
            " 50  hood_Clifton                     uint8  \n",
            " 51  hood_Clinton Hill                uint8  \n",
            " 52  hood_Co-op City                  uint8  \n",
            " 53  hood_Cobble Hill                 uint8  \n",
            " 54  hood_College Point               uint8  \n",
            " 55  hood_Columbia St                 uint8  \n",
            " 56  hood_Concord                     uint8  \n",
            " 57  hood_Concourse                   uint8  \n",
            " 58  hood_Concourse Village           uint8  \n",
            " 59  hood_Coney Island                uint8  \n",
            " 60  hood_Corona                      uint8  \n",
            " 61  hood_Crown Heights               uint8  \n",
            " 62  hood_Cypress Hills               uint8  \n",
            " 63  hood_DUMBO                       uint8  \n",
            " 64  hood_Ditmars Steinway            uint8  \n",
            " 65  hood_Dongan Hills                uint8  \n",
            " 66  hood_Douglaston                  uint8  \n",
            " 67  hood_Downtown Brooklyn           uint8  \n",
            " 68  hood_Dyker Heights               uint8  \n",
            " 69  hood_East Elmhurst               uint8  \n",
            " 70  hood_East Flatbush               uint8  \n",
            " 71  hood_East Harlem                 uint8  \n",
            " 72  hood_East Morrisania             uint8  \n",
            " 73  hood_East New York               uint8  \n",
            " 74  hood_East Village                uint8  \n",
            " 75  hood_Eastchester                 uint8  \n",
            " 76  hood_Edenwald                    uint8  \n",
            " 77  hood_Edgemere                    uint8  \n",
            " 78  hood_Elmhurst                    uint8  \n",
            " 79  hood_Eltingville                 uint8  \n",
            " 80  hood_Emerson Hill                uint8  \n",
            " 81  hood_Far Rockaway                uint8  \n",
            " 82  hood_Fieldston                   uint8  \n",
            " 83  hood_Financial District          uint8  \n",
            " 84  hood_Flatbush                    uint8  \n",
            " 85  hood_Flatiron District           uint8  \n",
            " 86  hood_Flatlands                   uint8  \n",
            " 87  hood_Flushing                    uint8  \n",
            " 88  hood_Fordham                     uint8  \n",
            " 89  hood_Forest Hills                uint8  \n",
            " 90  hood_Fort Greene                 uint8  \n",
            " 91  hood_Fort Hamilton               uint8  \n",
            " 92  hood_Fort Wadsworth              uint8  \n",
            " 93  hood_Fresh Meadows               uint8  \n",
            " 94  hood_Glendale                    uint8  \n",
            " 95  hood_Gowanus                     uint8  \n",
            " 96  hood_Gramercy                    uint8  \n",
            " 97  hood_Graniteville                uint8  \n",
            " 98  hood_Grant City                  uint8  \n",
            " 99  hood_Gravesend                   uint8  \n",
            " 100 hood_Great Kills                 uint8  \n",
            " 101 hood_Greenpoint                  uint8  \n",
            " 102 hood_Greenwich Village           uint8  \n",
            " 103 hood_Grymes Hill                 uint8  \n",
            " 104 hood_Harlem                      uint8  \n",
            " 105 hood_Hell's Kitchen              uint8  \n",
            " 106 hood_Highbridge                  uint8  \n",
            " 107 hood_Hollis                      uint8  \n",
            " 108 hood_Holliswood                  uint8  \n",
            " 109 hood_Howard Beach                uint8  \n",
            " 110 hood_Howland Hook                uint8  \n",
            " 111 hood_Huguenot                    uint8  \n",
            " 112 hood_Hunts Point                 uint8  \n",
            " 113 hood_Inwood                      uint8  \n",
            " 114 hood_Jackson Heights             uint8  \n",
            " 115 hood_Jamaica                     uint8  \n",
            " 116 hood_Jamaica Estates             uint8  \n",
            " 117 hood_Jamaica Hills               uint8  \n",
            " 118 hood_Kensington                  uint8  \n",
            " 119 hood_Kew Gardens                 uint8  \n",
            " 120 hood_Kew Gardens Hills           uint8  \n",
            " 121 hood_Kingsbridge                 uint8  \n",
            " 122 hood_Kips Bay                    uint8  \n",
            " 123 hood_Laurelton                   uint8  \n",
            " 124 hood_Lighthouse Hill             uint8  \n",
            " 125 hood_Little Italy                uint8  \n",
            " 126 hood_Little Neck                 uint8  \n",
            " 127 hood_Long Island City            uint8  \n",
            " 128 hood_Longwood                    uint8  \n",
            " 129 hood_Lower East Side             uint8  \n",
            " 130 hood_Manhattan Beach             uint8  \n",
            " 131 hood_Marble Hill                 uint8  \n",
            " 132 hood_Mariners Harbor             uint8  \n",
            " 133 hood_Maspeth                     uint8  \n",
            " 134 hood_Melrose                     uint8  \n",
            " 135 hood_Middle Village              uint8  \n",
            " 136 hood_Midland Beach               uint8  \n",
            " 137 hood_Midtown                     uint8  \n",
            " 138 hood_Midwood                     uint8  \n",
            " 139 hood_Mill Basin                  uint8  \n",
            " 140 hood_Morningside Heights         uint8  \n",
            " 141 hood_Morris Heights              uint8  \n",
            " 142 hood_Morris Park                 uint8  \n",
            " 143 hood_Morrisania                  uint8  \n",
            " 144 hood_Mott Haven                  uint8  \n",
            " 145 hood_Mount Eden                  uint8  \n",
            " 146 hood_Mount Hope                  uint8  \n",
            " 147 hood_Murray Hill                 uint8  \n",
            " 148 hood_Navy Yard                   uint8  \n",
            " 149 hood_Neponsit                    uint8  \n",
            " 150 hood_New Brighton                uint8  \n",
            " 151 hood_New Dorp                    uint8  \n",
            " 152 hood_New Dorp Beach              uint8  \n",
            " 153 hood_New Springville             uint8  \n",
            " 154 hood_NoHo                        uint8  \n",
            " 155 hood_Nolita                      uint8  \n",
            " 156 hood_North Riverdale             uint8  \n",
            " 157 hood_Norwood                     uint8  \n",
            " 158 hood_Oakwood                     uint8  \n",
            " 159 hood_Olinville                   uint8  \n",
            " 160 hood_Ozone Park                  uint8  \n",
            " 161 hood_Park Slope                  uint8  \n",
            " 162 hood_Parkchester                 uint8  \n",
            " 163 hood_Pelham Bay                  uint8  \n",
            " 164 hood_Pelham Gardens              uint8  \n",
            " 165 hood_Port Morris                 uint8  \n",
            " 166 hood_Port Richmond               uint8  \n",
            " 167 hood_Prince's Bay                uint8  \n",
            " 168 hood_Prospect Heights            uint8  \n",
            " 169 hood_Prospect-Lefferts Gardens   uint8  \n",
            " 170 hood_Queens Village              uint8  \n",
            " 171 hood_Randall Manor               uint8  \n",
            " 172 hood_Red Hook                    uint8  \n",
            " 173 hood_Rego Park                   uint8  \n",
            " 174 hood_Richmond Hill               uint8  \n",
            " 175 hood_Richmondtown                uint8  \n",
            " 176 hood_Ridgewood                   uint8  \n",
            " 177 hood_Riverdale                   uint8  \n",
            " 178 hood_Rockaway Beach              uint8  \n",
            " 179 hood_Roosevelt Island            uint8  \n",
            " 180 hood_Rosebank                    uint8  \n",
            " 181 hood_Rosedale                    uint8  \n",
            " 182 hood_Rossville                   uint8  \n",
            " 183 hood_Schuylerville               uint8  \n",
            " 184 hood_Sea Gate                    uint8  \n",
            " 185 hood_Sheepshead Bay              uint8  \n",
            " 186 hood_Shore Acres                 uint8  \n",
            " 187 hood_Silver Lake                 uint8  \n",
            " 188 hood_SoHo                        uint8  \n",
            " 189 hood_Soundview                   uint8  \n",
            " 190 hood_South Beach                 uint8  \n",
            " 191 hood_South Ozone Park            uint8  \n",
            " 192 hood_South Slope                 uint8  \n",
            " 193 hood_Springfield Gardens         uint8  \n",
            " 194 hood_Spuyten Duyvil              uint8  \n",
            " 195 hood_St. Albans                  uint8  \n",
            " 196 hood_St. George                  uint8  \n",
            " 197 hood_Stapleton                   uint8  \n",
            " 198 hood_Stuyvesant Town             uint8  \n",
            " 199 hood_Sunnyside                   uint8  \n",
            " 200 hood_Sunset Park                 uint8  \n",
            " 201 hood_Theater District            uint8  \n",
            " 202 hood_Throgs Neck                 uint8  \n",
            " 203 hood_Todt Hill                   uint8  \n",
            " 204 hood_Tompkinsville               uint8  \n",
            " 205 hood_Tottenville                 uint8  \n",
            " 206 hood_Tremont                     uint8  \n",
            " 207 hood_Tribeca                     uint8  \n",
            " 208 hood_Two Bridges                 uint8  \n",
            " 209 hood_Unionport                   uint8  \n",
            " 210 hood_University Heights          uint8  \n",
            " 211 hood_Upper East Side             uint8  \n",
            " 212 hood_Upper West Side             uint8  \n",
            " 213 hood_Van Nest                    uint8  \n",
            " 214 hood_Vinegar Hill                uint8  \n",
            " 215 hood_Wakefield                   uint8  \n",
            " 216 hood_Washington Heights          uint8  \n",
            " 217 hood_West Brighton               uint8  \n",
            " 218 hood_West Farms                  uint8  \n",
            " 219 hood_West Village                uint8  \n",
            " 220 hood_Westchester Square          uint8  \n",
            " 221 hood_Westerleigh                 uint8  \n",
            " 222 hood_Whitestone                  uint8  \n",
            " 223 hood_Williamsbridge              uint8  \n",
            " 224 hood_Williamsburg                uint8  \n",
            " 225 hood_Willowbrook                 uint8  \n",
            " 226 hood_Windsor Terrace             uint8  \n",
            " 227 hood_Woodhaven                   uint8  \n",
            " 228 hood_Woodlawn                    uint8  \n",
            " 229 hood_Woodrow                     uint8  \n",
            " 230 hood_Woodside                    uint8  \n",
            " 231 type_Entire home/apt             uint8  \n",
            " 232 type_Private room                uint8  \n",
            " 233 great_listing                    float64\n",
            "dtypes: float64(4), int64(4), uint8(226)\n",
            "memory usage: 13.5 MB\n"
          ],
          "name": "stdout"
        }
      ]
    },
    {
      "cell_type": "markdown",
      "metadata": {
        "id": "9dQsjBbbe2MR"
      },
      "source": [
        "**Regression Data Description**\n",
        "\n",
        "\n",
        "\n",
        "1.   The regression **response variable** is price\n",
        "2.    And the features for classification are  longitude, latitude, neighborhood, burrow, reviews, availability, room type, and host listings, less price.\n",
        "\n",
        "For this regression problem what we were trying to solve is, given data on longitude, latiude , neighborhood etc, can we predict prices on listings accurately in New York city. Getting a place to lease in newyork is generally expensive, therefore being able to predict prices can help identify listings that are unreasonably priced.\n",
        "\n",
        "\n"
      ]
    },
    {
      "cell_type": "markdown",
      "metadata": {
        "id": "RfC8joKooJD5"
      },
      "source": [
        "**New Feature**\n",
        "\n",
        "The feature that was created was great_listing. This is beneficial for both tasks as it takes advantage of guest data such as reviews and availability. It primarily exposes demand for listings, assuming that the majority of hosts will adjust their pricing based on either reviews or lack of availability, exposing in-demand higher priced listings for our classifiers/regressors. This could have been a class with either zero or one, but we felt that a continuous value could be more convincing and informative.\n"
      ]
    },
    {
      "cell_type": "markdown",
      "metadata": {
        "id": "8HgLo-sCGeEJ"
      },
      "source": [
        "# Modeling and Evaluation"
      ]
    },
    {
      "cell_type": "markdown",
      "metadata": {
        "id": "DD7I0yKCWkom"
      },
      "source": [
        "# **Modeling and Evaluation 1**\n",
        "\n",
        "Choose and explain your evaluation metrics that you will use (i.e., accuracy, precision, recall, F-measure, or any metric we have discussed). Why are the measure(s) appropriate for analyzing the results of your modeling? Give a detailed explanation backing up any assertions. \n",
        "\n",
        "\n",
        "For classifications the evaluations metrics will be using are:\n",
        "\n",
        "\n",
        "1.   **Accuracy - Accuracy is used in classification to measure how well we classified true positives and false positives. The calculation is the sum of true positives and false positives divide by the sum of true positives,false positives, false negatives and true negatives. This measure is appropriate for anaylyzing classification models, because we want to know how well ,given different variables, can a model accurately classify a class. Therefore, the higher the accuracy score the better. For example, for our Random forest classifier we got an average accuracy score of about 92% which is a good model.**\n",
        "\n",
        "2.   **Precision - So Accuracy should not be the only score used to measure a classification model. This is because what if a data scientist is trying to predict if someone has cancer, we want the model to be correct at all times, because incorect classification can lead to unnecessary surgeries. So Precision measures how well a model predicts True Positives. The calculation for Precision is true positive divide by the sum of true positives and false positives** \n",
        "\n",
        "\n",
        "3.   **Recall - This metric helps when the cost of miss classifying is high, for example a data scientist wont want to miss classify if someone has cancer or not. However, for our case study, we are predicting whether an area is expenisive or not, therefore the cost is not high. But this is still a good metric to measure. The calculation for Recall is True positive divide by true positives and false negative**\n",
        "\n",
        "For Regression the Evaluation metrics will be using are\n",
        "1. **MAE - The MAE is a good model for measuring error in a regression model. How it works, you sum all the absolute errors, and then you divide by the count of data points to get the mean. This good for comparing two regression models,where the model with the lowest MAE is the best. In our case the Random forest has the lowest MAE**\n",
        "\n",
        "2. **RSME - The RSME is the square root of the sum between the difference of the prediction and actual reponds variables. The difference between the RSME and the MAE is that it focuses on the large errors, which makes it a better meaure than the MAE**.\n",
        "\n",
        "3. **MAPE - The Mean absolute percentage error, measures how accurate a model can forecast. It measures accuracy as a percentage, and it is calculated by taking the average absolute percent error for each time period minus actual values divided by actual values.**\n",
        "\n",
        "\n",
        "\n",
        "\n"
      ]
    },
    {
      "cell_type": "markdown",
      "metadata": {
        "id": "rx3A_SAY0GjR"
      },
      "source": [
        "**New Material for Modeling and Evaluation 1**\n",
        "\n",
        "\n",
        "**Metrics for our classifiers**\n",
        "\n",
        "**Accuracy** - Accuracy is used to measure how accurately a model classifies a true positive and a false positive. Therefore in relation to our dataset, true positive is the high quality and false positives is the low quality. We have three classifiers, the one with the highest Accuracy will be our best model\n",
        "\n",
        "**Precision** - To add on to Accuracy, its good to measure Precision as well. Since we are basically concerned with mostly high quality listings, we want to make sure the classifiers are not missclassifing  high quality listings. Since high quality is our true positive, precision is the optimal measure because it measure how well we classified true positives\n",
        "\n",
        "**Recall** - This metric measures the cost of miss classifying is high. In relation to our dataset the cost of miss classifying whether is a listing is of high quality is not high, but it would be a good metric to measure against our three model\n",
        "\n",
        "\n",
        "**Metrics for our Regression Models**\n",
        "\n",
        "**MAE** - In relation to our datasets, we want our regression models to accurately or closely predict price. MAE can solve this problem because it measures error in regression models. Therefore, best model should be the one with the lowest error in predicting price\n",
        "\n",
        "**RSME** - Since RSME focuses on large errors , we can use this metric in addition to MAE to compare which models have the lowest large errors in predicting price. Therefore the model with the lowest RSME is the best.\n",
        "\n",
        "\n",
        "**MAPE** - We also want a good model that can forecast price accurately, because want to be confident that the prices we predicted are good to compare with the different prices in New York City. MAPE is a good metric becasue it measures how accurately a model can forecast. The Model with the highest MAPE is the best.\n",
        "\n"
      ]
    },
    {
      "cell_type": "markdown",
      "metadata": {
        "id": "9k65wUKPWr0Y"
      },
      "source": [
        "# **Modeling and Evaluation 2**\n",
        " \n",
        " Choose the method you will use for dividing your data into training and testing splits (i.e., are you using Stratiﬁed 10-fold cross validation? Why?). Explain why your chosen method is appropriate or use more than one method as appropriate. \n",
        "\n",
        "\n",
        " **We used crossvalidation to reduce bias in our models. So we chose Stratified Kfold, which rearranges the data to make sure it is a good representation of the whole. This good for our models because we have unequal representation of the data for each of our classes, and the best way to represent each data point is by using a stratified Kfold. which shuffles your data, and then after that splits the data into n_splits parts**"
      ]
    },
    {
      "cell_type": "markdown",
      "metadata": {
        "id": "MpCEdoya6Gg7"
      },
      "source": [
        "**New Material for Modeling and Evaluation 2**\n",
        "\n",
        "We chose our cross validation based on whether the model was a classifier or regressor:\n",
        "\n",
        "\n",
        "**Classifier**\n",
        "\n",
        "The issue with our data is that the distribution of data across our classes is not even, so we have an imbalance problem, please see below:"
      ]
    },
    {
      "cell_type": "code",
      "metadata": {
        "id": "Zx4et3nwmW_S",
        "colab": {
          "base_uri": "https://localhost:8080/",
          "height": 155
        },
        "outputId": "e5de8126-77a7-4208-935b-e4c3b0da0bda"
      },
      "source": [
        "df1 = pd.read_csv(r'https://raw.githubusercontent.com/thomaskarba/MachineLearningSMU/master/AB_NYC_2019.csv')\n",
        "if 'price' in df1.columns:\n",
        "  df1['hotel_quality'] = df1.price>=300\n",
        "  df1.hotel_quality=df1.hotel_quality.astype(np.int)\n",
        "\n",
        "\n",
        "df1.groupby('hotel_quality').count() "
      ],
      "execution_count": null,
      "outputs": [
        {
          "output_type": "execute_result",
          "data": {
            "text/html": [
              "<div>\n",
              "<style scoped>\n",
              "    .dataframe tbody tr th:only-of-type {\n",
              "        vertical-align: middle;\n",
              "    }\n",
              "\n",
              "    .dataframe tbody tr th {\n",
              "        vertical-align: top;\n",
              "    }\n",
              "\n",
              "    .dataframe thead th {\n",
              "        text-align: right;\n",
              "    }\n",
              "</style>\n",
              "<table border=\"1\" class=\"dataframe\">\n",
              "  <thead>\n",
              "    <tr style=\"text-align: right;\">\n",
              "      <th></th>\n",
              "      <th>id</th>\n",
              "      <th>name</th>\n",
              "      <th>host_id</th>\n",
              "      <th>host_name</th>\n",
              "      <th>neighbourhood_group</th>\n",
              "      <th>neighbourhood</th>\n",
              "      <th>latitude</th>\n",
              "      <th>longitude</th>\n",
              "      <th>room_type</th>\n",
              "      <th>price</th>\n",
              "      <th>minimum_nights</th>\n",
              "      <th>number_of_reviews</th>\n",
              "      <th>last_review</th>\n",
              "      <th>reviews_per_month</th>\n",
              "      <th>calculated_host_listings_count</th>\n",
              "      <th>availability_365</th>\n",
              "    </tr>\n",
              "    <tr>\n",
              "      <th>hotel_quality</th>\n",
              "      <th></th>\n",
              "      <th></th>\n",
              "      <th></th>\n",
              "      <th></th>\n",
              "      <th></th>\n",
              "      <th></th>\n",
              "      <th></th>\n",
              "      <th></th>\n",
              "      <th></th>\n",
              "      <th></th>\n",
              "      <th></th>\n",
              "      <th></th>\n",
              "      <th></th>\n",
              "      <th></th>\n",
              "      <th></th>\n",
              "      <th></th>\n",
              "    </tr>\n",
              "  </thead>\n",
              "  <tbody>\n",
              "    <tr>\n",
              "      <th>0</th>\n",
              "      <td>44977</td>\n",
              "      <td>44963</td>\n",
              "      <td>44977</td>\n",
              "      <td>44957</td>\n",
              "      <td>44977</td>\n",
              "      <td>44977</td>\n",
              "      <td>44977</td>\n",
              "      <td>44977</td>\n",
              "      <td>44977</td>\n",
              "      <td>44977</td>\n",
              "      <td>44977</td>\n",
              "      <td>44977</td>\n",
              "      <td>36280</td>\n",
              "      <td>36280</td>\n",
              "      <td>44977</td>\n",
              "      <td>44977</td>\n",
              "    </tr>\n",
              "    <tr>\n",
              "      <th>1</th>\n",
              "      <td>3918</td>\n",
              "      <td>3916</td>\n",
              "      <td>3918</td>\n",
              "      <td>3917</td>\n",
              "      <td>3918</td>\n",
              "      <td>3918</td>\n",
              "      <td>3918</td>\n",
              "      <td>3918</td>\n",
              "      <td>3918</td>\n",
              "      <td>3918</td>\n",
              "      <td>3918</td>\n",
              "      <td>3918</td>\n",
              "      <td>2563</td>\n",
              "      <td>2563</td>\n",
              "      <td>3918</td>\n",
              "      <td>3918</td>\n",
              "    </tr>\n",
              "  </tbody>\n",
              "</table>\n",
              "</div>"
            ],
            "text/plain": [
              "                  id   name  ...  calculated_host_listings_count  availability_365\n",
              "hotel_quality                ...                                                  \n",
              "0              44977  44963  ...                           44977             44977\n",
              "1               3918   3916  ...                            3918              3918\n",
              "\n",
              "[2 rows x 16 columns]"
            ]
          },
          "metadata": {
            "tags": []
          },
          "execution_count": 9
        }
      ]
    },
    {
      "cell_type": "markdown",
      "metadata": {
        "id": "6dRKOhY2qK1M"
      },
      "source": [
        "If we did a Kfold, and splitted the data by 10, most likely we would have had a situation where we would be training mostly on lower quality (which is 0 on a our responds variable). We want our training data set to have the best representation of our data. Consquently, the method that will help us solve this problem is StratifiedKFold.\n",
        "\n",
        "So what is **StratifiedKfold** - It is a crossvalidation method where partition across the classes are held constant. In relation to our dataset since the class labled 0 is 90% of our data and 1 is 10% of our data, Statifiedkfold will keep this distribution constant in our training dataset. This will give us a more reliable estimate of our model.\n",
        "\n",
        "For our  classification models we used 10 n_splits and we set shuffle to true"
      ]
    },
    {
      "cell_type": "markdown",
      "metadata": {
        "id": "i559NacrunE3"
      },
      "source": [
        "**Regressor**\n",
        "\n",
        "\n",
        "For our regression model, the problem is different. We are predicting price which is a scalar value not a class label like hotel quality. Therefore, the best crossvalidation method is a Kfold  with the parameter  shuffle set to true. The reason we want our shuffle set to be true is so that we have random partitions. This will give us a reliable estimate for our regression models\n",
        "\n",
        "So for our regression models we decided to use 10 n_splits, and we set the shuffle parameter to true"
      ]
    },
    {
      "cell_type": "markdown",
      "metadata": {
        "id": "7cL0tIjCoXjU"
      },
      "source": [
        "# **Modeling and Evaluation 3**"
      ]
    },
    {
      "cell_type": "markdown",
      "metadata": {
        "id": "ADoLZl_xRvpL"
      },
      "source": [
        "# Classification Models"
      ]
    },
    {
      "cell_type": "markdown",
      "metadata": {
        "id": "m-eIDX4iXYBL"
      },
      "source": [
        "### BernoulliNB"
      ]
    },
    {
      "cell_type": "code",
      "metadata": {
        "id": "BYnVLas1jgpd",
        "colab": {
          "base_uri": "https://localhost:8080/",
          "height": 450
        },
        "outputId": "e9136afd-4d2d-424b-ef4c-7e3423c3a7f5"
      },
      "source": [
        "# JORDAN Naive Bayes\n",
        "# Top Accuracy Model\n",
        "import warnings\n",
        "warnings.filterwarnings(\"ignore\") ## Suppresses User Warning Alpha too small for numeric error\n",
        "from sklearn.naive_bayes import BernoulliNB\n",
        "from sklearn.model_selection import RandomizedSearchCV\n",
        "from sklearn.model_selection import StratifiedKFold\n",
        "from sklearn.preprocessing import StandardScaler\n",
        "import numpy as np\n",
        "cv = StratifiedKFold(n_splits=10,shuffle=True, random_state=0)\n",
        "\n",
        "# Laplace Smoothing parameter\n",
        "alpha = [0,.1,.2,.3,.4,.5,.6,.7,.8,.9,1,1.1,1.2,1.3]\n",
        "# Create the random grid for alphas\n",
        "params = {'alpha': alpha\n",
        "          }\n",
        "\n",
        "Bnb = BernoulliNB()\n",
        "Bnb_accuracy = RandomizedSearchCV(estimator = Bnb, param_distributions = params, cv = cv)# Fit the random accuracy search model\n",
        "Bnb_accuracy.fit(scaled_Xc, yc)\n",
        "\n",
        "\n",
        "from sklearn.model_selection import cross_validate\n",
        "def EvaluateClassifierEstimator(classifierEstimator, X, y, cv):\n",
        "   \n",
        "    #Perform cross validation \n",
        "    scores = cross_validate(classifierEstimator, scaled_Xc, yc, scoring=['accuracy','precision','recall']\n",
        "                            , cv=cv, return_train_score=True)\n",
        "\n",
        "    Accavg = scores['test_accuracy'].mean()\n",
        "    Preavg = scores['test_precision'].mean()\n",
        "    Recavg = scores['test_recall'].mean()\n",
        "\n",
        "    print(\"The average accuracy for all cv folds is:\", Accavg)\n",
        "    print(\"The average precision for all cv folds is:\", Preavg)\n",
        "    print(\"The average recall for all cv folds is:\", Recavg)\n",
        "    \n",
        "   \n",
        "    print('*********************************************************')\n",
        "\n",
        "    print('Cross Validation Fold Mean Error Scores')\n",
        "    scoresResults = pd.DataFrame()\n",
        "    scoresResults['Accuracy'] = scores['test_accuracy']\n",
        "    scoresResults['Precision'] = scores['test_precision']\n",
        "    scoresResults['Recall'] = scores['test_recall']\n",
        "    return scoresResults\n",
        "\n",
        "\n",
        "#Use the best parameters \n",
        "NBclassifierEst = Bnb_accuracy.best_estimator_\n",
        "\n",
        "#Evaluate the estimator above using our pre-defined cross validation and scoring metrics. \n",
        "EvaluateClassifierEstimator(NBclassifierEst, scaled_Xc, yc, cv)\n"
      ],
      "execution_count": null,
      "outputs": [
        {
          "output_type": "stream",
          "text": [
            "The average accuracy for all cv folds is: 0.8251968004631239\n",
            "The average precision for all cv folds is: 0.23699195266926992\n",
            "The average recall for all cv folds is: 0.531399733806566\n",
            "*********************************************************\n",
            "Cross Validation Fold Mean Error Scores\n"
          ],
          "name": "stdout"
        },
        {
          "output_type": "execute_result",
          "data": {
            "text/html": [
              "<div>\n",
              "<style scoped>\n",
              "    .dataframe tbody tr th:only-of-type {\n",
              "        vertical-align: middle;\n",
              "    }\n",
              "\n",
              "    .dataframe tbody tr th {\n",
              "        vertical-align: top;\n",
              "    }\n",
              "\n",
              "    .dataframe thead th {\n",
              "        text-align: right;\n",
              "    }\n",
              "</style>\n",
              "<table border=\"1\" class=\"dataframe\">\n",
              "  <thead>\n",
              "    <tr style=\"text-align: right;\">\n",
              "      <th></th>\n",
              "      <th>Accuracy</th>\n",
              "      <th>Precision</th>\n",
              "      <th>Recall</th>\n",
              "    </tr>\n",
              "  </thead>\n",
              "  <tbody>\n",
              "    <tr>\n",
              "      <th>0</th>\n",
              "      <td>0.823313</td>\n",
              "      <td>0.232426</td>\n",
              "      <td>0.522959</td>\n",
              "    </tr>\n",
              "    <tr>\n",
              "      <th>1</th>\n",
              "      <td>0.830266</td>\n",
              "      <td>0.241745</td>\n",
              "      <td>0.522959</td>\n",
              "    </tr>\n",
              "    <tr>\n",
              "      <th>2</th>\n",
              "      <td>0.829652</td>\n",
              "      <td>0.242707</td>\n",
              "      <td>0.530612</td>\n",
              "    </tr>\n",
              "    <tr>\n",
              "      <th>3</th>\n",
              "      <td>0.819836</td>\n",
              "      <td>0.228031</td>\n",
              "      <td>0.522959</td>\n",
              "    </tr>\n",
              "    <tr>\n",
              "      <th>4</th>\n",
              "      <td>0.825358</td>\n",
              "      <td>0.236902</td>\n",
              "      <td>0.530612</td>\n",
              "    </tr>\n",
              "    <tr>\n",
              "      <th>5</th>\n",
              "      <td>0.836776</td>\n",
              "      <td>0.250307</td>\n",
              "      <td>0.521739</td>\n",
              "    </tr>\n",
              "    <tr>\n",
              "      <th>6</th>\n",
              "      <td>0.821231</td>\n",
              "      <td>0.238919</td>\n",
              "      <td>0.565217</td>\n",
              "    </tr>\n",
              "    <tr>\n",
              "      <th>7</th>\n",
              "      <td>0.820209</td>\n",
              "      <td>0.230343</td>\n",
              "      <td>0.530612</td>\n",
              "    </tr>\n",
              "    <tr>\n",
              "      <th>8</th>\n",
              "      <td>0.828390</td>\n",
              "      <td>0.241020</td>\n",
              "      <td>0.530612</td>\n",
              "    </tr>\n",
              "    <tr>\n",
              "      <th>9</th>\n",
              "      <td>0.816936</td>\n",
              "      <td>0.227519</td>\n",
              "      <td>0.535714</td>\n",
              "    </tr>\n",
              "  </tbody>\n",
              "</table>\n",
              "</div>"
            ],
            "text/plain": [
              "   Accuracy  Precision    Recall\n",
              "0  0.823313   0.232426  0.522959\n",
              "1  0.830266   0.241745  0.522959\n",
              "2  0.829652   0.242707  0.530612\n",
              "3  0.819836   0.228031  0.522959\n",
              "4  0.825358   0.236902  0.530612\n",
              "5  0.836776   0.250307  0.521739\n",
              "6  0.821231   0.238919  0.565217\n",
              "7  0.820209   0.230343  0.530612\n",
              "8  0.828390   0.241020  0.530612\n",
              "9  0.816936   0.227519  0.535714"
            ]
          },
          "metadata": {
            "tags": []
          },
          "execution_count": 11
        }
      ]
    },
    {
      "cell_type": "markdown",
      "metadata": {
        "id": "ih5p1OtLi9xd"
      },
      "source": [
        "Description:\n",
        "Use a Bernoulli Naive Bayes classifier since most of the features are binary. Tune the alpha (Laplace Smoothing) parameter to find the model that yields the best estimator ( Accuracy). Use 10 fold Stratified cross validation so results are more trustworthy. Record our three important classifier metrics, Accuracy, Precision, and Recall for our best Accuracy Model."
      ]
    },
    {
      "cell_type": "markdown",
      "metadata": {
        "id": "UicF99-P3l-H"
      },
      "source": [
        "**New Material:** Recall Bernoulli Naive Bayes hypertuned and cross validated with metrics table"
      ]
    },
    {
      "cell_type": "code",
      "metadata": {
        "id": "2vmIdHOuTC4B",
        "colab": {
          "base_uri": "https://localhost:8080/",
          "height": 450
        },
        "outputId": "abfda5f4-9f20-4179-d08f-e0bb9a15c6d4"
      },
      "source": [
        "### Find the model with the best recall score Model\n",
        "import warnings\n",
        "warnings.filterwarnings(\"ignore\") ## Suppresses User Warning Alpha too small for numeric error\n",
        "Bnb = BernoulliNB()\n",
        "Bnb_recall = RandomizedSearchCV(estimator = Bnb, param_distributions = params, scoring='recall',cv = cv)# Fit the random search model\n",
        "Bnb_recall.fit(scaled_Xc, yc)\n",
        "\n",
        "NBclassifierEst = Bnb_recall.best_estimator_\n",
        "\n",
        "#Evaluate the  estimator above using our pre-defined cross validation and scoring metrics. \n",
        "EvaluateClassifierEstimator(NBclassifierEst, scaled_Xc, yc, cv)"
      ],
      "execution_count": null,
      "outputs": [
        {
          "output_type": "stream",
          "text": [
            "The average accuracy for all cv folds is: 0.8204928680511026\n",
            "The average precision for all cv folds is: 0.23365395549925316\n",
            "The average recall for all cv folds is: 0.5431402995981001\n",
            "*********************************************************\n",
            "Cross Validation Fold Mean Error Scores\n"
          ],
          "name": "stdout"
        },
        {
          "output_type": "execute_result",
          "data": {
            "text/html": [
              "<div>\n",
              "<style scoped>\n",
              "    .dataframe tbody tr th:only-of-type {\n",
              "        vertical-align: middle;\n",
              "    }\n",
              "\n",
              "    .dataframe tbody tr th {\n",
              "        vertical-align: top;\n",
              "    }\n",
              "\n",
              "    .dataframe thead th {\n",
              "        text-align: right;\n",
              "    }\n",
              "</style>\n",
              "<table border=\"1\" class=\"dataframe\">\n",
              "  <thead>\n",
              "    <tr style=\"text-align: right;\">\n",
              "      <th></th>\n",
              "      <th>Accuracy</th>\n",
              "      <th>Precision</th>\n",
              "      <th>Recall</th>\n",
              "    </tr>\n",
              "  </thead>\n",
              "  <tbody>\n",
              "    <tr>\n",
              "      <th>0</th>\n",
              "      <td>0.819018</td>\n",
              "      <td>0.227021</td>\n",
              "      <td>0.522959</td>\n",
              "    </tr>\n",
              "    <tr>\n",
              "      <th>1</th>\n",
              "      <td>0.824335</td>\n",
              "      <td>0.236158</td>\n",
              "      <td>0.533163</td>\n",
              "    </tr>\n",
              "    <tr>\n",
              "      <th>2</th>\n",
              "      <td>0.823517</td>\n",
              "      <td>0.238624</td>\n",
              "      <td>0.548469</td>\n",
              "    </tr>\n",
              "    <tr>\n",
              "      <th>3</th>\n",
              "      <td>0.813088</td>\n",
              "      <td>0.224101</td>\n",
              "      <td>0.540816</td>\n",
              "    </tr>\n",
              "    <tr>\n",
              "      <th>4</th>\n",
              "      <td>0.823722</td>\n",
              "      <td>0.235955</td>\n",
              "      <td>0.535714</td>\n",
              "    </tr>\n",
              "    <tr>\n",
              "      <th>5</th>\n",
              "      <td>0.831458</td>\n",
              "      <td>0.247375</td>\n",
              "      <td>0.542199</td>\n",
              "    </tr>\n",
              "    <tr>\n",
              "      <th>6</th>\n",
              "      <td>0.820209</td>\n",
              "      <td>0.238197</td>\n",
              "      <td>0.567775</td>\n",
              "    </tr>\n",
              "    <tr>\n",
              "      <th>7</th>\n",
              "      <td>0.819390</td>\n",
              "      <td>0.229923</td>\n",
              "      <td>0.533163</td>\n",
              "    </tr>\n",
              "    <tr>\n",
              "      <th>8</th>\n",
              "      <td>0.821027</td>\n",
              "      <td>0.235487</td>\n",
              "      <td>0.548469</td>\n",
              "    </tr>\n",
              "    <tr>\n",
              "      <th>9</th>\n",
              "      <td>0.809163</td>\n",
              "      <td>0.223698</td>\n",
              "      <td>0.558673</td>\n",
              "    </tr>\n",
              "  </tbody>\n",
              "</table>\n",
              "</div>"
            ],
            "text/plain": [
              "   Accuracy  Precision    Recall\n",
              "0  0.819018   0.227021  0.522959\n",
              "1  0.824335   0.236158  0.533163\n",
              "2  0.823517   0.238624  0.548469\n",
              "3  0.813088   0.224101  0.540816\n",
              "4  0.823722   0.235955  0.535714\n",
              "5  0.831458   0.247375  0.542199\n",
              "6  0.820209   0.238197  0.567775\n",
              "7  0.819390   0.229923  0.533163\n",
              "8  0.821027   0.235487  0.548469\n",
              "9  0.809163   0.223698  0.558673"
            ]
          },
          "metadata": {
            "tags": []
          },
          "execution_count": 12
        }
      ]
    },
    {
      "cell_type": "markdown",
      "metadata": {
        "id": "qasCbkgDUe2c"
      },
      "source": [
        "Description:\n",
        "Use a Bernoulli Naive Bayes classifier since most of the features are binary. Tune the alpha (Laplace Smoothing) parameter to find the model that yields the best estimator ( Recall). Use 10 fold Stratified cross validation so results are more trustworthy. Record our three important classifier metrics, Accuracy, Precision, and Recall for our best Accuracy Model."
      ]
    },
    {
      "cell_type": "markdown",
      "metadata": {
        "id": "zjwnj52PamV9"
      },
      "source": [
        "### KNN"
      ]
    },
    {
      "cell_type": "code",
      "metadata": {
        "id": "ToY9AeGcEFPM",
        "colab": {
          "base_uri": "https://localhost:8080/",
          "height": 450
        },
        "outputId": "b4bea7fd-c692-4ccd-a206-508540c42242"
      },
      "source": [
        "# ANGELO'S KNN CODE\n",
        "# Find the KNN model with the best accuracy\n",
        "from sklearn.neighbors import KNeighborsClassifier\n",
        "from sklearn.model_selection import RandomizedSearchCV\n",
        "from sklearn.model_selection import StratifiedKFold\n",
        "from sklearn.preprocessing import StandardScaler\n",
        "import numpy as np\n",
        "cv = StratifiedKFold(n_splits=10,shuffle=True, random_state=0)\n",
        "\n",
        "n_neighbors = [5,10,15] # number of neighbors\n",
        "weights = ['uniform','distance'] # how to weight the points\n",
        "metric = ['euclidean','manhattan'] # how to measure distance between points\n",
        "# Create the random grid\n",
        "params = {'n_neighbors': n_neighbors,\n",
        "          'metric': metric,\n",
        "          'weights': weights\n",
        "          }\n",
        "\n",
        "Knn = KNeighborsClassifier()\n",
        "Knn_accuracy = RandomizedSearchCV(estimator = Knn, param_distributions = params, cv = cv)# Fit the random accuracy search model\n",
        "Knn_accuracy.fit(scaled_Xc, yc)\n",
        "\n",
        "\n",
        "from sklearn.model_selection import cross_validate\n",
        "def EvaluateClassifierEstimator(classifierEstimator, X, y, cv):\n",
        "   \n",
        "    #Perform cross validation \n",
        "    scores = cross_validate(classifierEstimator, scaled_Xc, yc, scoring=['accuracy','precision','recall']\n",
        "                            , cv=cv, return_train_score=True)\n",
        "\n",
        "    Accavg = scores['test_accuracy'].mean()\n",
        "    Preavg = scores['test_precision'].mean()\n",
        "    Recavg = scores['test_recall'].mean()\n",
        "\n",
        "    print(\"The average accuracy for all cv folds is:\", Accavg)\n",
        "    print(\"The average precision for all cv folds is:\", Preavg)\n",
        "    print(\"The average recall for all cv folds is:\", Recavg)\n",
        "    \n",
        "    \n",
        "    print('*********************************************************')\n",
        "\n",
        "    print('Cross Validation Fold Mean Error Scores')\n",
        "    scoresResults = pd.DataFrame()\n",
        "    scoresResults['Accuracy'] = scores['test_accuracy']\n",
        "    scoresResults['Precision'] = scores['test_precision']\n",
        "    scoresResults['Recall'] = scores['test_recall']\n",
        "    return scoresResults\n",
        "\n",
        "\n",
        "#Use the best parameters\n",
        "KNNclassifierEst = Knn_accuracy.best_estimator_\n",
        "\n",
        "#Evaluate the  estimator above using our pre-defined cross validation and scoring metrics. \n",
        "EvaluateClassifierEstimator(KNNclassifierEst, scaled_Xc, yc, cv)"
      ],
      "execution_count": null,
      "outputs": [
        {
          "output_type": "stream",
          "text": [
            "The average accuracy for all cv folds is: 0.9241026660994736\n",
            "The average precision for all cv folds is: 0.6080724983092318\n",
            "The average recall for all cv folds is: 0.15211584633853542\n",
            "*********************************************************\n",
            "Cross Validation Fold Mean Error Scores\n"
          ],
          "name": "stdout"
        },
        {
          "output_type": "execute_result",
          "data": {
            "text/html": [
              "<div>\n",
              "<style scoped>\n",
              "    .dataframe tbody tr th:only-of-type {\n",
              "        vertical-align: middle;\n",
              "    }\n",
              "\n",
              "    .dataframe tbody tr th {\n",
              "        vertical-align: top;\n",
              "    }\n",
              "\n",
              "    .dataframe thead th {\n",
              "        text-align: right;\n",
              "    }\n",
              "</style>\n",
              "<table border=\"1\" class=\"dataframe\">\n",
              "  <thead>\n",
              "    <tr style=\"text-align: right;\">\n",
              "      <th></th>\n",
              "      <th>Accuracy</th>\n",
              "      <th>Precision</th>\n",
              "      <th>Recall</th>\n",
              "    </tr>\n",
              "  </thead>\n",
              "  <tbody>\n",
              "    <tr>\n",
              "      <th>0</th>\n",
              "      <td>0.922904</td>\n",
              "      <td>0.574257</td>\n",
              "      <td>0.147959</td>\n",
              "    </tr>\n",
              "    <tr>\n",
              "      <th>1</th>\n",
              "      <td>0.925562</td>\n",
              "      <td>0.648936</td>\n",
              "      <td>0.155612</td>\n",
              "    </tr>\n",
              "    <tr>\n",
              "      <th>2</th>\n",
              "      <td>0.923313</td>\n",
              "      <td>0.584158</td>\n",
              "      <td>0.150510</td>\n",
              "    </tr>\n",
              "    <tr>\n",
              "      <th>3</th>\n",
              "      <td>0.924131</td>\n",
              "      <td>0.617978</td>\n",
              "      <td>0.140306</td>\n",
              "    </tr>\n",
              "    <tr>\n",
              "      <th>4</th>\n",
              "      <td>0.924744</td>\n",
              "      <td>0.625000</td>\n",
              "      <td>0.153061</td>\n",
              "    </tr>\n",
              "    <tr>\n",
              "      <th>5</th>\n",
              "      <td>0.926774</td>\n",
              "      <td>0.698795</td>\n",
              "      <td>0.148338</td>\n",
              "    </tr>\n",
              "    <tr>\n",
              "      <th>6</th>\n",
              "      <td>0.920843</td>\n",
              "      <td>0.518182</td>\n",
              "      <td>0.145780</td>\n",
              "    </tr>\n",
              "    <tr>\n",
              "      <th>7</th>\n",
              "      <td>0.923502</td>\n",
              "      <td>0.588235</td>\n",
              "      <td>0.153061</td>\n",
              "    </tr>\n",
              "    <tr>\n",
              "      <th>8</th>\n",
              "      <td>0.923297</td>\n",
              "      <td>0.580952</td>\n",
              "      <td>0.155612</td>\n",
              "    </tr>\n",
              "    <tr>\n",
              "      <th>9</th>\n",
              "      <td>0.925956</td>\n",
              "      <td>0.644231</td>\n",
              "      <td>0.170918</td>\n",
              "    </tr>\n",
              "  </tbody>\n",
              "</table>\n",
              "</div>"
            ],
            "text/plain": [
              "   Accuracy  Precision    Recall\n",
              "0  0.922904   0.574257  0.147959\n",
              "1  0.925562   0.648936  0.155612\n",
              "2  0.923313   0.584158  0.150510\n",
              "3  0.924131   0.617978  0.140306\n",
              "4  0.924744   0.625000  0.153061\n",
              "5  0.926774   0.698795  0.148338\n",
              "6  0.920843   0.518182  0.145780\n",
              "7  0.923502   0.588235  0.153061\n",
              "8  0.923297   0.580952  0.155612\n",
              "9  0.925956   0.644231  0.170918"
            ]
          },
          "metadata": {
            "tags": []
          },
          "execution_count": 7
        }
      ]
    },
    {
      "cell_type": "markdown",
      "metadata": {
        "id": "vYQdFon9hwCF"
      },
      "source": [
        "Description:\n",
        "A grid search hypertuning of the parameter for different KNN models. The models were cross validated to ensure the results were trustworthy. The model that produced the highest Accuracy was saved as the best parameter model."
      ]
    },
    {
      "cell_type": "code",
      "metadata": {
        "id": "vukiVcYU-8bi",
        "colab": {
          "base_uri": "https://localhost:8080/",
          "height": 69
        },
        "outputId": "3d9f3996-dc08-40be-a291-de40d745c73e"
      },
      "source": [
        "Knn_accuracy.best_estimator_"
      ],
      "execution_count": null,
      "outputs": [
        {
          "output_type": "execute_result",
          "data": {
            "text/plain": [
              "KNeighborsClassifier(algorithm='auto', leaf_size=30, metric='manhattan',\n",
              "                     metric_params=None, n_jobs=None, n_neighbors=10, p=2,\n",
              "                     weights='uniform')"
            ]
          },
          "metadata": {
            "tags": []
          },
          "execution_count": 8
        }
      ]
    },
    {
      "cell_type": "markdown",
      "metadata": {
        "id": "YwJv-0XciJe1"
      },
      "source": [
        "The parameters that resulted in the highest accuracy KNN used Manhattan distancing, uniform weights, and had a k =10."
      ]
    },
    {
      "cell_type": "markdown",
      "metadata": {
        "id": "6yBfeGM73uT3"
      },
      "source": [
        "**New Material:** Recall KNN model hypertuned and cross validated with metrics table"
      ]
    },
    {
      "cell_type": "code",
      "metadata": {
        "id": "5AiyW3OSiLML",
        "colab": {
          "base_uri": "https://localhost:8080/",
          "height": 345
        },
        "outputId": "fb850703-8bd6-4051-de0e-5a24bfa6b010"
      },
      "source": [
        "#Find the KNN model with the best Recall\n",
        "from sklearn.neighbors import KNeighborsClassifier\n",
        "n_neighbors = [5,7,9,11,13] # number of neighbors\n",
        "metric = ['euclidean','manhattan'] # how to measure distance between points\n",
        "# Create the random grid\n",
        "params = {'n_neighbors': n_neighbors,\n",
        "          'metric': metric\n",
        "          }\n",
        "cv = StratifiedKFold(n_splits=5,shuffle=True, random_state=0)\n",
        "Knn = KNeighborsClassifier()\n",
        "Knn_recall = RandomizedSearchCV(estimator = Knn, param_distributions = params, scoring='recall',cv = cv)# Fit the random search model\n",
        "Knn_recall.fit(scaled_Xc, yc)\n",
        "\n",
        "KNNclassifierEst = Knn_recall.best_estimator_\n",
        "\n",
        "print(Knn_recall.best_estimator_)\n",
        "#Evaluate the  estimator above using our pre-defined cross validation and scoring metrics. \n",
        "EvaluateClassifierEstimator(KNNclassifierEst, scaled_Xc, yc, cv)\n"
      ],
      "execution_count": null,
      "outputs": [
        {
          "output_type": "stream",
          "text": [
            "KNeighborsClassifier(algorithm='auto', leaf_size=30, metric='manhattan',\n",
            "                     metric_params=None, n_jobs=None, n_neighbors=5, p=2,\n",
            "                     weights='uniform')\n",
            "The average accuracy for all cv folds is: 0.9174966765517947\n",
            "The average precision for all cv folds is: 0.46949598282779154\n",
            "The average recall for all cv folds is: 0.22001394427502802\n",
            "*********************************************************\n",
            "Cross Validation Fold Mean Error Scores\n"
          ],
          "name": "stdout"
        },
        {
          "output_type": "execute_result",
          "data": {
            "text/html": [
              "<div>\n",
              "<style scoped>\n",
              "    .dataframe tbody tr th:only-of-type {\n",
              "        vertical-align: middle;\n",
              "    }\n",
              "\n",
              "    .dataframe tbody tr th {\n",
              "        vertical-align: top;\n",
              "    }\n",
              "\n",
              "    .dataframe thead th {\n",
              "        text-align: right;\n",
              "    }\n",
              "</style>\n",
              "<table border=\"1\" class=\"dataframe\">\n",
              "  <thead>\n",
              "    <tr style=\"text-align: right;\">\n",
              "      <th></th>\n",
              "      <th>Accuracy</th>\n",
              "      <th>Precision</th>\n",
              "      <th>Recall</th>\n",
              "    </tr>\n",
              "  </thead>\n",
              "  <tbody>\n",
              "    <tr>\n",
              "      <th>0</th>\n",
              "      <td>0.918601</td>\n",
              "      <td>0.483461</td>\n",
              "      <td>0.242656</td>\n",
              "    </tr>\n",
              "    <tr>\n",
              "      <th>1</th>\n",
              "      <td>0.915329</td>\n",
              "      <td>0.440318</td>\n",
              "      <td>0.212005</td>\n",
              "    </tr>\n",
              "    <tr>\n",
              "      <th>2</th>\n",
              "      <td>0.918908</td>\n",
              "      <td>0.486068</td>\n",
              "      <td>0.200255</td>\n",
              "    </tr>\n",
              "    <tr>\n",
              "      <th>3</th>\n",
              "      <td>0.914715</td>\n",
              "      <td>0.436224</td>\n",
              "      <td>0.218112</td>\n",
              "    </tr>\n",
              "    <tr>\n",
              "      <th>4</th>\n",
              "      <td>0.919930</td>\n",
              "      <td>0.501408</td>\n",
              "      <td>0.227041</td>\n",
              "    </tr>\n",
              "  </tbody>\n",
              "</table>\n",
              "</div>"
            ],
            "text/plain": [
              "   Accuracy  Precision    Recall\n",
              "0  0.918601   0.483461  0.242656\n",
              "1  0.915329   0.440318  0.212005\n",
              "2  0.918908   0.486068  0.200255\n",
              "3  0.914715   0.436224  0.218112\n",
              "4  0.919930   0.501408  0.227041"
            ]
          },
          "metadata": {
            "tags": []
          },
          "execution_count": 12
        }
      ]
    },
    {
      "cell_type": "markdown",
      "metadata": {
        "id": "c_8yOAeTQG8A"
      },
      "source": [
        "Description: A grid search was done to find the best Recall score for KNN classifier task. Then that best Recall model was cross validated and scored using our three major metrics."
      ]
    },
    {
      "cell_type": "code",
      "metadata": {
        "id": "H6Tu1RwqQlRm",
        "colab": {
          "base_uri": "https://localhost:8080/",
          "height": 69
        },
        "outputId": "fe0adf78-441f-465f-b221-e64726c5fa34"
      },
      "source": [
        "Knn_recall.best_estimator_"
      ],
      "execution_count": null,
      "outputs": [
        {
          "output_type": "execute_result",
          "data": {
            "text/plain": [
              "KNeighborsClassifier(algorithm='auto', leaf_size=30, metric='manhattan',\n",
              "                     metric_params=None, n_jobs=None, n_neighbors=5, p=2,\n",
              "                     weights='uniform')"
            ]
          },
          "metadata": {
            "tags": []
          },
          "execution_count": 13
        }
      ]
    },
    {
      "cell_type": "markdown",
      "metadata": {
        "id": "IoUrsdpwQp3N"
      },
      "source": [
        "Description: The best Recall Knn also used Manhattan distancing but this time the Knn had 5 neighbors instead of 10 for the accuracy Knn."
      ]
    },
    {
      "cell_type": "markdown",
      "metadata": {
        "id": "4t-iI5aaavmv"
      },
      "source": [
        "### Random Forest"
      ]
    },
    {
      "cell_type": "code",
      "metadata": {
        "id": "BJ-klsu4hAZI",
        "colab": {
          "base_uri": "https://localhost:8080/",
          "height": 1000
        },
        "outputId": "4eb9747d-d1e1-48b8-8beb-222ba3f180b5"
      },
      "source": [
        "# JORDAN random forest Accuracy classification\n",
        "\n",
        "from sklearn.model_selection import RandomizedSearchCV# Number of trees in random forest\n",
        "import numpy as np\n",
        "from sklearn.ensemble import RandomForestClassifier\n",
        "n_estimators = [int(x) for x in np.linspace(start = 200, stop = 2000, num = 10)]\n",
        "# Number of features to consider at every split\n",
        "max_features = ['auto', 'sqrt']\n",
        "# Maximum number of levels in tree\n",
        "max_depth = [int(x) for x in np.linspace(10, 110, num = 11)]\n",
        "max_depth.append(None)\n",
        "# Minimum number of samples required to split a node\n",
        "min_samples_split = [2, 5, 10]\n",
        "# Minimum number of samples required at each leaf node\n",
        "min_samples_leaf = [1, 2, 4]\n",
        "# Method of selecting samples for training each tree\n",
        "bootstrap = [True, False]# Create the random grid\n",
        "random_grid = {'n_estimators': n_estimators,\n",
        "               'max_features': max_features,\n",
        "               'max_depth': max_depth,\n",
        "               'min_samples_split': min_samples_split,\n",
        "               'min_samples_leaf': min_samples_leaf,\n",
        "               'bootstrap': bootstrap\n",
        "               }\n",
        "\n",
        "rf = RandomForestClassifier()\n",
        "# Random search of parameters, using 3 fold cross validation, \n",
        "# search across 100 different combinations, and use all available cores\n",
        "rf_random = RandomizedSearchCV(estimator = rf, param_distributions = random_grid, n_iter = 50, cv = 3, verbose=2, random_state=0)# Fit the random search model\n",
        "rf_random.fit(scaled_Xc, yc)\n",
        "\n",
        "rf_random.best_estimator_"
      ],
      "execution_count": null,
      "outputs": [
        {
          "output_type": "stream",
          "text": [
            "Fitting 3 folds for each of 50 candidates, totalling 150 fits\n",
            "[CV] n_estimators=400, min_samples_split=10, min_samples_leaf=1, max_features=sqrt, max_depth=40, bootstrap=True \n"
          ],
          "name": "stdout"
        },
        {
          "output_type": "stream",
          "text": [
            "[Parallel(n_jobs=1)]: Using backend SequentialBackend with 1 concurrent workers.\n"
          ],
          "name": "stderr"
        },
        {
          "output_type": "stream",
          "text": [
            "[CV]  n_estimators=400, min_samples_split=10, min_samples_leaf=1, max_features=sqrt, max_depth=40, bootstrap=True, total=  27.8s\n",
            "[CV] n_estimators=400, min_samples_split=10, min_samples_leaf=1, max_features=sqrt, max_depth=40, bootstrap=True \n"
          ],
          "name": "stdout"
        },
        {
          "output_type": "stream",
          "text": [
            "[Parallel(n_jobs=1)]: Done   1 out of   1 | elapsed:   27.8s remaining:    0.0s\n"
          ],
          "name": "stderr"
        },
        {
          "output_type": "stream",
          "text": [
            "[CV]  n_estimators=400, min_samples_split=10, min_samples_leaf=1, max_features=sqrt, max_depth=40, bootstrap=True, total=  28.6s\n",
            "[CV] n_estimators=400, min_samples_split=10, min_samples_leaf=1, max_features=sqrt, max_depth=40, bootstrap=True \n",
            "[CV]  n_estimators=400, min_samples_split=10, min_samples_leaf=1, max_features=sqrt, max_depth=40, bootstrap=True, total=  28.8s\n",
            "[CV] n_estimators=1200, min_samples_split=2, min_samples_leaf=1, max_features=sqrt, max_depth=90, bootstrap=True \n",
            "[CV]  n_estimators=1200, min_samples_split=2, min_samples_leaf=1, max_features=sqrt, max_depth=90, bootstrap=True, total= 1.4min\n",
            "[CV] n_estimators=1200, min_samples_split=2, min_samples_leaf=1, max_features=sqrt, max_depth=90, bootstrap=True \n",
            "[CV]  n_estimators=1200, min_samples_split=2, min_samples_leaf=1, max_features=sqrt, max_depth=90, bootstrap=True, total= 1.7min\n",
            "[CV] n_estimators=1200, min_samples_split=2, min_samples_leaf=1, max_features=sqrt, max_depth=90, bootstrap=True \n",
            "[CV]  n_estimators=1200, min_samples_split=2, min_samples_leaf=1, max_features=sqrt, max_depth=90, bootstrap=True, total= 1.8min\n",
            "[CV] n_estimators=200, min_samples_split=5, min_samples_leaf=2, max_features=sqrt, max_depth=20, bootstrap=False \n",
            "[CV]  n_estimators=200, min_samples_split=5, min_samples_leaf=2, max_features=sqrt, max_depth=20, bootstrap=False, total=  23.1s\n",
            "[CV] n_estimators=200, min_samples_split=5, min_samples_leaf=2, max_features=sqrt, max_depth=20, bootstrap=False \n",
            "[CV]  n_estimators=200, min_samples_split=5, min_samples_leaf=2, max_features=sqrt, max_depth=20, bootstrap=False, total=  23.0s\n",
            "[CV] n_estimators=200, min_samples_split=5, min_samples_leaf=2, max_features=sqrt, max_depth=20, bootstrap=False \n",
            "[CV]  n_estimators=200, min_samples_split=5, min_samples_leaf=2, max_features=sqrt, max_depth=20, bootstrap=False, total=  22.4s\n",
            "[CV] n_estimators=600, min_samples_split=2, min_samples_leaf=2, max_features=auto, max_depth=20, bootstrap=False \n",
            "[CV]  n_estimators=600, min_samples_split=2, min_samples_leaf=2, max_features=auto, max_depth=20, bootstrap=False, total= 1.1min\n",
            "[CV] n_estimators=600, min_samples_split=2, min_samples_leaf=2, max_features=auto, max_depth=20, bootstrap=False \n",
            "[CV]  n_estimators=600, min_samples_split=2, min_samples_leaf=2, max_features=auto, max_depth=20, bootstrap=False, total= 1.1min\n",
            "[CV] n_estimators=600, min_samples_split=2, min_samples_leaf=2, max_features=auto, max_depth=20, bootstrap=False \n",
            "[CV]  n_estimators=600, min_samples_split=2, min_samples_leaf=2, max_features=auto, max_depth=20, bootstrap=False, total= 1.2min\n",
            "[CV] n_estimators=400, min_samples_split=2, min_samples_leaf=1, max_features=sqrt, max_depth=None, bootstrap=False \n",
            "[CV]  n_estimators=400, min_samples_split=2, min_samples_leaf=1, max_features=sqrt, max_depth=None, bootstrap=False, total=  55.0s\n",
            "[CV] n_estimators=400, min_samples_split=2, min_samples_leaf=1, max_features=sqrt, max_depth=None, bootstrap=False \n",
            "[CV]  n_estimators=400, min_samples_split=2, min_samples_leaf=1, max_features=sqrt, max_depth=None, bootstrap=False, total=  55.5s\n",
            "[CV] n_estimators=400, min_samples_split=2, min_samples_leaf=1, max_features=sqrt, max_depth=None, bootstrap=False \n",
            "[CV]  n_estimators=400, min_samples_split=2, min_samples_leaf=1, max_features=sqrt, max_depth=None, bootstrap=False, total=  57.6s\n",
            "[CV] n_estimators=400, min_samples_split=5, min_samples_leaf=4, max_features=sqrt, max_depth=20, bootstrap=False \n",
            "[CV]  n_estimators=400, min_samples_split=5, min_samples_leaf=4, max_features=sqrt, max_depth=20, bootstrap=False, total=  44.0s\n",
            "[CV] n_estimators=400, min_samples_split=5, min_samples_leaf=4, max_features=sqrt, max_depth=20, bootstrap=False \n",
            "[CV]  n_estimators=400, min_samples_split=5, min_samples_leaf=4, max_features=sqrt, max_depth=20, bootstrap=False, total=  45.6s\n",
            "[CV] n_estimators=400, min_samples_split=5, min_samples_leaf=4, max_features=sqrt, max_depth=20, bootstrap=False \n",
            "[CV]  n_estimators=400, min_samples_split=5, min_samples_leaf=4, max_features=sqrt, max_depth=20, bootstrap=False, total=  43.1s\n",
            "[CV] n_estimators=2000, min_samples_split=5, min_samples_leaf=1, max_features=sqrt, max_depth=30, bootstrap=False \n",
            "[CV]  n_estimators=2000, min_samples_split=5, min_samples_leaf=1, max_features=sqrt, max_depth=30, bootstrap=False, total= 4.1min\n",
            "[CV] n_estimators=2000, min_samples_split=5, min_samples_leaf=1, max_features=sqrt, max_depth=30, bootstrap=False \n",
            "[CV]  n_estimators=2000, min_samples_split=5, min_samples_leaf=1, max_features=sqrt, max_depth=30, bootstrap=False, total= 4.2min\n",
            "[CV] n_estimators=2000, min_samples_split=5, min_samples_leaf=1, max_features=sqrt, max_depth=30, bootstrap=False \n",
            "[CV]  n_estimators=2000, min_samples_split=5, min_samples_leaf=1, max_features=sqrt, max_depth=30, bootstrap=False, total= 4.4min\n",
            "[CV] n_estimators=1200, min_samples_split=5, min_samples_leaf=2, max_features=auto, max_depth=110, bootstrap=False \n",
            "[CV]  n_estimators=1200, min_samples_split=5, min_samples_leaf=2, max_features=auto, max_depth=110, bootstrap=False, total= 2.3min\n",
            "[CV] n_estimators=1200, min_samples_split=5, min_samples_leaf=2, max_features=auto, max_depth=110, bootstrap=False \n",
            "[CV]  n_estimators=1200, min_samples_split=5, min_samples_leaf=2, max_features=auto, max_depth=110, bootstrap=False, total= 2.3min\n",
            "[CV] n_estimators=1200, min_samples_split=5, min_samples_leaf=2, max_features=auto, max_depth=110, bootstrap=False \n",
            "[CV]  n_estimators=1200, min_samples_split=5, min_samples_leaf=2, max_features=auto, max_depth=110, bootstrap=False, total= 2.5min\n",
            "[CV] n_estimators=200, min_samples_split=2, min_samples_leaf=2, max_features=sqrt, max_depth=80, bootstrap=True \n",
            "[CV]  n_estimators=200, min_samples_split=2, min_samples_leaf=2, max_features=sqrt, max_depth=80, bootstrap=True, total=  14.7s\n",
            "[CV] n_estimators=200, min_samples_split=2, min_samples_leaf=2, max_features=sqrt, max_depth=80, bootstrap=True \n",
            "[CV]  n_estimators=200, min_samples_split=2, min_samples_leaf=2, max_features=sqrt, max_depth=80, bootstrap=True, total=  14.2s\n",
            "[CV] n_estimators=200, min_samples_split=2, min_samples_leaf=2, max_features=sqrt, max_depth=80, bootstrap=True \n",
            "[CV]  n_estimators=200, min_samples_split=2, min_samples_leaf=2, max_features=sqrt, max_depth=80, bootstrap=True, total=  14.9s\n",
            "[CV] n_estimators=600, min_samples_split=5, min_samples_leaf=4, max_features=auto, max_depth=10, bootstrap=False \n",
            "[CV]  n_estimators=600, min_samples_split=5, min_samples_leaf=4, max_features=auto, max_depth=10, bootstrap=False, total=  43.6s\n",
            "[CV] n_estimators=600, min_samples_split=5, min_samples_leaf=4, max_features=auto, max_depth=10, bootstrap=False \n",
            "[CV]  n_estimators=600, min_samples_split=5, min_samples_leaf=4, max_features=auto, max_depth=10, bootstrap=False, total=  43.3s\n",
            "[CV] n_estimators=600, min_samples_split=5, min_samples_leaf=4, max_features=auto, max_depth=10, bootstrap=False \n",
            "[CV]  n_estimators=600, min_samples_split=5, min_samples_leaf=4, max_features=auto, max_depth=10, bootstrap=False, total=  43.9s\n",
            "[CV] n_estimators=600, min_samples_split=2, min_samples_leaf=4, max_features=sqrt, max_depth=70, bootstrap=False \n",
            "[CV]  n_estimators=600, min_samples_split=2, min_samples_leaf=4, max_features=sqrt, max_depth=70, bootstrap=False, total= 1.1min\n",
            "[CV] n_estimators=600, min_samples_split=2, min_samples_leaf=4, max_features=sqrt, max_depth=70, bootstrap=False \n",
            "[CV]  n_estimators=600, min_samples_split=2, min_samples_leaf=4, max_features=sqrt, max_depth=70, bootstrap=False, total= 1.1min\n",
            "[CV] n_estimators=600, min_samples_split=2, min_samples_leaf=4, max_features=sqrt, max_depth=70, bootstrap=False \n",
            "[CV]  n_estimators=600, min_samples_split=2, min_samples_leaf=4, max_features=sqrt, max_depth=70, bootstrap=False, total= 1.1min\n",
            "[CV] n_estimators=1800, min_samples_split=10, min_samples_leaf=1, max_features=auto, max_depth=100, bootstrap=False \n",
            "[CV]  n_estimators=1800, min_samples_split=10, min_samples_leaf=1, max_features=auto, max_depth=100, bootstrap=False, total= 3.6min\n",
            "[CV] n_estimators=1800, min_samples_split=10, min_samples_leaf=1, max_features=auto, max_depth=100, bootstrap=False \n",
            "[CV]  n_estimators=1800, min_samples_split=10, min_samples_leaf=1, max_features=auto, max_depth=100, bootstrap=False, total= 3.6min\n",
            "[CV] n_estimators=1800, min_samples_split=10, min_samples_leaf=1, max_features=auto, max_depth=100, bootstrap=False \n",
            "[CV]  n_estimators=1800, min_samples_split=10, min_samples_leaf=1, max_features=auto, max_depth=100, bootstrap=False, total= 3.8min\n",
            "[CV] n_estimators=2000, min_samples_split=10, min_samples_leaf=4, max_features=auto, max_depth=50, bootstrap=True \n",
            "[CV]  n_estimators=2000, min_samples_split=10, min_samples_leaf=4, max_features=auto, max_depth=50, bootstrap=True, total= 1.8min\n",
            "[CV] n_estimators=2000, min_samples_split=10, min_samples_leaf=4, max_features=auto, max_depth=50, bootstrap=True \n",
            "[CV]  n_estimators=2000, min_samples_split=10, min_samples_leaf=4, max_features=auto, max_depth=50, bootstrap=True, total= 2.1min\n",
            "[CV] n_estimators=2000, min_samples_split=10, min_samples_leaf=4, max_features=auto, max_depth=50, bootstrap=True \n",
            "[CV]  n_estimators=2000, min_samples_split=10, min_samples_leaf=4, max_features=auto, max_depth=50, bootstrap=True, total= 2.2min\n",
            "[CV] n_estimators=1800, min_samples_split=2, min_samples_leaf=1, max_features=sqrt, max_depth=None, bootstrap=True \n",
            "[CV]  n_estimators=1800, min_samples_split=2, min_samples_leaf=1, max_features=sqrt, max_depth=None, bootstrap=True, total= 2.3min\n",
            "[CV] n_estimators=1800, min_samples_split=2, min_samples_leaf=1, max_features=sqrt, max_depth=None, bootstrap=True \n",
            "[CV]  n_estimators=1800, min_samples_split=2, min_samples_leaf=1, max_features=sqrt, max_depth=None, bootstrap=True, total= 2.3min\n",
            "[CV] n_estimators=1800, min_samples_split=2, min_samples_leaf=1, max_features=sqrt, max_depth=None, bootstrap=True \n",
            "[CV]  n_estimators=1800, min_samples_split=2, min_samples_leaf=1, max_features=sqrt, max_depth=None, bootstrap=True, total= 2.4min\n",
            "[CV] n_estimators=800, min_samples_split=10, min_samples_leaf=2, max_features=sqrt, max_depth=110, bootstrap=True \n",
            "[CV]  n_estimators=800, min_samples_split=10, min_samples_leaf=2, max_features=sqrt, max_depth=110, bootstrap=True, total=  47.9s\n",
            "[CV] n_estimators=800, min_samples_split=10, min_samples_leaf=2, max_features=sqrt, max_depth=110, bootstrap=True \n",
            "[CV]  n_estimators=800, min_samples_split=10, min_samples_leaf=2, max_features=sqrt, max_depth=110, bootstrap=True, total=  55.7s\n",
            "[CV] n_estimators=800, min_samples_split=10, min_samples_leaf=2, max_features=sqrt, max_depth=110, bootstrap=True \n",
            "[CV]  n_estimators=800, min_samples_split=10, min_samples_leaf=2, max_features=sqrt, max_depth=110, bootstrap=True, total=  58.1s\n",
            "[CV] n_estimators=1000, min_samples_split=2, min_samples_leaf=1, max_features=sqrt, max_depth=10, bootstrap=False \n",
            "[CV]  n_estimators=1000, min_samples_split=2, min_samples_leaf=1, max_features=sqrt, max_depth=10, bootstrap=False, total= 1.2min\n",
            "[CV] n_estimators=1000, min_samples_split=2, min_samples_leaf=1, max_features=sqrt, max_depth=10, bootstrap=False \n",
            "[CV]  n_estimators=1000, min_samples_split=2, min_samples_leaf=1, max_features=sqrt, max_depth=10, bootstrap=False, total= 1.2min\n",
            "[CV] n_estimators=1000, min_samples_split=2, min_samples_leaf=1, max_features=sqrt, max_depth=10, bootstrap=False \n",
            "[CV]  n_estimators=1000, min_samples_split=2, min_samples_leaf=1, max_features=sqrt, max_depth=10, bootstrap=False, total= 1.2min\n",
            "[CV] n_estimators=1800, min_samples_split=2, min_samples_leaf=2, max_features=auto, max_depth=80, bootstrap=False \n",
            "[CV]  n_estimators=1800, min_samples_split=2, min_samples_leaf=2, max_features=auto, max_depth=80, bootstrap=False, total= 3.4min\n",
            "[CV] n_estimators=1800, min_samples_split=2, min_samples_leaf=2, max_features=auto, max_depth=80, bootstrap=False \n",
            "[CV]  n_estimators=1800, min_samples_split=2, min_samples_leaf=2, max_features=auto, max_depth=80, bootstrap=False, total= 3.6min\n",
            "[CV] n_estimators=1800, min_samples_split=2, min_samples_leaf=2, max_features=auto, max_depth=80, bootstrap=False \n",
            "[CV]  n_estimators=1800, min_samples_split=2, min_samples_leaf=2, max_features=auto, max_depth=80, bootstrap=False, total= 3.6min\n",
            "[CV] n_estimators=1800, min_samples_split=5, min_samples_leaf=4, max_features=sqrt, max_depth=30, bootstrap=True \n",
            "[CV]  n_estimators=1800, min_samples_split=5, min_samples_leaf=4, max_features=sqrt, max_depth=30, bootstrap=True, total= 2.0min\n",
            "[CV] n_estimators=1800, min_samples_split=5, min_samples_leaf=4, max_features=sqrt, max_depth=30, bootstrap=True \n",
            "[CV]  n_estimators=1800, min_samples_split=5, min_samples_leaf=4, max_features=sqrt, max_depth=30, bootstrap=True, total= 1.9min\n",
            "[CV] n_estimators=1800, min_samples_split=5, min_samples_leaf=4, max_features=sqrt, max_depth=30, bootstrap=True \n",
            "[CV]  n_estimators=1800, min_samples_split=5, min_samples_leaf=4, max_features=sqrt, max_depth=30, bootstrap=True, total= 2.0min\n",
            "[CV] n_estimators=2000, min_samples_split=5, min_samples_leaf=4, max_features=auto, max_depth=10, bootstrap=False \n",
            "[CV]  n_estimators=2000, min_samples_split=5, min_samples_leaf=4, max_features=auto, max_depth=10, bootstrap=False, total= 2.2min\n",
            "[CV] n_estimators=2000, min_samples_split=5, min_samples_leaf=4, max_features=auto, max_depth=10, bootstrap=False \n",
            "[CV]  n_estimators=2000, min_samples_split=5, min_samples_leaf=4, max_features=auto, max_depth=10, bootstrap=False, total= 2.4min\n",
            "[CV] n_estimators=2000, min_samples_split=5, min_samples_leaf=4, max_features=auto, max_depth=10, bootstrap=False \n",
            "[CV]  n_estimators=2000, min_samples_split=5, min_samples_leaf=4, max_features=auto, max_depth=10, bootstrap=False, total= 2.4min\n",
            "[CV] n_estimators=600, min_samples_split=5, min_samples_leaf=2, max_features=sqrt, max_depth=None, bootstrap=True \n",
            "[CV]  n_estimators=600, min_samples_split=5, min_samples_leaf=2, max_features=sqrt, max_depth=None, bootstrap=True, total=  39.2s\n",
            "[CV] n_estimators=600, min_samples_split=5, min_samples_leaf=2, max_features=sqrt, max_depth=None, bootstrap=True \n",
            "[CV]  n_estimators=600, min_samples_split=5, min_samples_leaf=2, max_features=sqrt, max_depth=None, bootstrap=True, total=  38.3s\n",
            "[CV] n_estimators=600, min_samples_split=5, min_samples_leaf=2, max_features=sqrt, max_depth=None, bootstrap=True \n",
            "[CV]  n_estimators=600, min_samples_split=5, min_samples_leaf=2, max_features=sqrt, max_depth=None, bootstrap=True, total=  39.4s\n",
            "[CV] n_estimators=600, min_samples_split=2, min_samples_leaf=2, max_features=sqrt, max_depth=20, bootstrap=True \n",
            "[CV]  n_estimators=600, min_samples_split=2, min_samples_leaf=2, max_features=sqrt, max_depth=20, bootstrap=True, total=  38.8s\n",
            "[CV] n_estimators=600, min_samples_split=2, min_samples_leaf=2, max_features=sqrt, max_depth=20, bootstrap=True \n",
            "[CV]  n_estimators=600, min_samples_split=2, min_samples_leaf=2, max_features=sqrt, max_depth=20, bootstrap=True, total=  39.0s\n",
            "[CV] n_estimators=600, min_samples_split=2, min_samples_leaf=2, max_features=sqrt, max_depth=20, bootstrap=True \n",
            "[CV]  n_estimators=600, min_samples_split=2, min_samples_leaf=2, max_features=sqrt, max_depth=20, bootstrap=True, total=  40.4s\n",
            "[CV] n_estimators=800, min_samples_split=10, min_samples_leaf=2, max_features=auto, max_depth=110, bootstrap=False \n",
            "[CV]  n_estimators=800, min_samples_split=10, min_samples_leaf=2, max_features=auto, max_depth=110, bootstrap=False, total= 1.3min\n",
            "[CV] n_estimators=800, min_samples_split=10, min_samples_leaf=2, max_features=auto, max_depth=110, bootstrap=False \n",
            "[CV]  n_estimators=800, min_samples_split=10, min_samples_leaf=2, max_features=auto, max_depth=110, bootstrap=False, total= 1.5min\n",
            "[CV] n_estimators=800, min_samples_split=10, min_samples_leaf=2, max_features=auto, max_depth=110, bootstrap=False \n",
            "[CV]  n_estimators=800, min_samples_split=10, min_samples_leaf=2, max_features=auto, max_depth=110, bootstrap=False, total= 1.6min\n",
            "[CV] n_estimators=1200, min_samples_split=5, min_samples_leaf=2, max_features=auto, max_depth=30, bootstrap=False \n",
            "[CV]  n_estimators=1200, min_samples_split=5, min_samples_leaf=2, max_features=auto, max_depth=30, bootstrap=False, total= 2.2min\n",
            "[CV] n_estimators=1200, min_samples_split=5, min_samples_leaf=2, max_features=auto, max_depth=30, bootstrap=False \n",
            "[CV]  n_estimators=1200, min_samples_split=5, min_samples_leaf=2, max_features=auto, max_depth=30, bootstrap=False, total= 2.2min\n",
            "[CV] n_estimators=1200, min_samples_split=5, min_samples_leaf=2, max_features=auto, max_depth=30, bootstrap=False \n",
            "[CV]  n_estimators=1200, min_samples_split=5, min_samples_leaf=2, max_features=auto, max_depth=30, bootstrap=False, total= 2.2min\n",
            "[CV] n_estimators=200, min_samples_split=5, min_samples_leaf=2, max_features=auto, max_depth=90, bootstrap=False \n",
            "[CV]  n_estimators=200, min_samples_split=5, min_samples_leaf=2, max_features=auto, max_depth=90, bootstrap=False, total=  22.4s\n",
            "[CV] n_estimators=200, min_samples_split=5, min_samples_leaf=2, max_features=auto, max_depth=90, bootstrap=False \n",
            "[CV]  n_estimators=200, min_samples_split=5, min_samples_leaf=2, max_features=auto, max_depth=90, bootstrap=False, total=  23.0s\n",
            "[CV] n_estimators=200, min_samples_split=5, min_samples_leaf=2, max_features=auto, max_depth=90, bootstrap=False \n",
            "[CV]  n_estimators=200, min_samples_split=5, min_samples_leaf=2, max_features=auto, max_depth=90, bootstrap=False, total=  22.1s\n",
            "[CV] n_estimators=800, min_samples_split=2, min_samples_leaf=2, max_features=sqrt, max_depth=50, bootstrap=False \n",
            "[CV]  n_estimators=800, min_samples_split=2, min_samples_leaf=2, max_features=sqrt, max_depth=50, bootstrap=False, total= 1.4min\n",
            "[CV] n_estimators=800, min_samples_split=2, min_samples_leaf=2, max_features=sqrt, max_depth=50, bootstrap=False \n",
            "[CV]  n_estimators=800, min_samples_split=2, min_samples_leaf=2, max_features=sqrt, max_depth=50, bootstrap=False, total= 1.5min\n",
            "[CV] n_estimators=800, min_samples_split=2, min_samples_leaf=2, max_features=sqrt, max_depth=50, bootstrap=False \n",
            "[CV]  n_estimators=800, min_samples_split=2, min_samples_leaf=2, max_features=sqrt, max_depth=50, bootstrap=False, total= 1.6min\n",
            "[CV] n_estimators=1800, min_samples_split=10, min_samples_leaf=4, max_features=auto, max_depth=110, bootstrap=True \n",
            "[CV]  n_estimators=1800, min_samples_split=10, min_samples_leaf=4, max_features=auto, max_depth=110, bootstrap=True, total= 1.9min\n",
            "[CV] n_estimators=1800, min_samples_split=10, min_samples_leaf=4, max_features=auto, max_depth=110, bootstrap=True \n",
            "[CV]  n_estimators=1800, min_samples_split=10, min_samples_leaf=4, max_features=auto, max_depth=110, bootstrap=True, total= 1.7min\n",
            "[CV] n_estimators=1800, min_samples_split=10, min_samples_leaf=4, max_features=auto, max_depth=110, bootstrap=True \n",
            "[CV]  n_estimators=1800, min_samples_split=10, min_samples_leaf=4, max_features=auto, max_depth=110, bootstrap=True, total= 1.8min\n",
            "[CV] n_estimators=1000, min_samples_split=5, min_samples_leaf=1, max_features=auto, max_depth=40, bootstrap=False \n",
            "[CV]  n_estimators=1000, min_samples_split=5, min_samples_leaf=1, max_features=auto, max_depth=40, bootstrap=False, total= 2.0min\n",
            "[CV] n_estimators=1000, min_samples_split=5, min_samples_leaf=1, max_features=auto, max_depth=40, bootstrap=False \n",
            "[CV]  n_estimators=1000, min_samples_split=5, min_samples_leaf=1, max_features=auto, max_depth=40, bootstrap=False, total= 2.0min\n",
            "[CV] n_estimators=1000, min_samples_split=5, min_samples_leaf=1, max_features=auto, max_depth=40, bootstrap=False \n",
            "[CV]  n_estimators=1000, min_samples_split=5, min_samples_leaf=1, max_features=auto, max_depth=40, bootstrap=False, total= 2.1min\n",
            "[CV] n_estimators=800, min_samples_split=10, min_samples_leaf=2, max_features=sqrt, max_depth=60, bootstrap=False \n",
            "[CV]  n_estimators=800, min_samples_split=10, min_samples_leaf=2, max_features=sqrt, max_depth=60, bootstrap=False, total= 1.5min\n",
            "[CV] n_estimators=800, min_samples_split=10, min_samples_leaf=2, max_features=sqrt, max_depth=60, bootstrap=False \n",
            "[CV]  n_estimators=800, min_samples_split=10, min_samples_leaf=2, max_features=sqrt, max_depth=60, bootstrap=False, total= 1.5min\n",
            "[CV] n_estimators=800, min_samples_split=10, min_samples_leaf=2, max_features=sqrt, max_depth=60, bootstrap=False \n",
            "[CV]  n_estimators=800, min_samples_split=10, min_samples_leaf=2, max_features=sqrt, max_depth=60, bootstrap=False, total= 1.6min\n",
            "[CV] n_estimators=1600, min_samples_split=10, min_samples_leaf=2, max_features=sqrt, max_depth=40, bootstrap=False \n",
            "[CV]  n_estimators=1600, min_samples_split=10, min_samples_leaf=2, max_features=sqrt, max_depth=40, bootstrap=False, total= 3.0min\n",
            "[CV] n_estimators=1600, min_samples_split=10, min_samples_leaf=2, max_features=sqrt, max_depth=40, bootstrap=False \n",
            "[CV]  n_estimators=1600, min_samples_split=10, min_samples_leaf=2, max_features=sqrt, max_depth=40, bootstrap=False, total= 3.0min\n",
            "[CV] n_estimators=1600, min_samples_split=10, min_samples_leaf=2, max_features=sqrt, max_depth=40, bootstrap=False \n",
            "[CV]  n_estimators=1600, min_samples_split=10, min_samples_leaf=2, max_features=sqrt, max_depth=40, bootstrap=False, total= 3.0min\n",
            "[CV] n_estimators=1400, min_samples_split=5, min_samples_leaf=4, max_features=sqrt, max_depth=30, bootstrap=True \n",
            "[CV]  n_estimators=1400, min_samples_split=5, min_samples_leaf=4, max_features=sqrt, max_depth=30, bootstrap=True, total= 1.4min\n",
            "[CV] n_estimators=1400, min_samples_split=5, min_samples_leaf=4, max_features=sqrt, max_depth=30, bootstrap=True \n",
            "[CV]  n_estimators=1400, min_samples_split=5, min_samples_leaf=4, max_features=sqrt, max_depth=30, bootstrap=True, total= 1.5min\n",
            "[CV] n_estimators=1400, min_samples_split=5, min_samples_leaf=4, max_features=sqrt, max_depth=30, bootstrap=True \n",
            "[CV]  n_estimators=1400, min_samples_split=5, min_samples_leaf=4, max_features=sqrt, max_depth=30, bootstrap=True, total= 1.6min\n",
            "[CV] n_estimators=1600, min_samples_split=10, min_samples_leaf=2, max_features=sqrt, max_depth=30, bootstrap=False \n",
            "[CV]  n_estimators=1600, min_samples_split=10, min_samples_leaf=2, max_features=sqrt, max_depth=30, bootstrap=False, total= 2.9min\n",
            "[CV] n_estimators=1600, min_samples_split=10, min_samples_leaf=2, max_features=sqrt, max_depth=30, bootstrap=False \n",
            "[CV]  n_estimators=1600, min_samples_split=10, min_samples_leaf=2, max_features=sqrt, max_depth=30, bootstrap=False, total= 2.8min\n",
            "[CV] n_estimators=1600, min_samples_split=10, min_samples_leaf=2, max_features=sqrt, max_depth=30, bootstrap=False \n",
            "[CV]  n_estimators=1600, min_samples_split=10, min_samples_leaf=2, max_features=sqrt, max_depth=30, bootstrap=False, total= 3.1min\n",
            "[CV] n_estimators=1000, min_samples_split=5, min_samples_leaf=4, max_features=auto, max_depth=30, bootstrap=False \n",
            "[CV]  n_estimators=1000, min_samples_split=5, min_samples_leaf=4, max_features=auto, max_depth=30, bootstrap=False, total= 1.7min\n",
            "[CV] n_estimators=1000, min_samples_split=5, min_samples_leaf=4, max_features=auto, max_depth=30, bootstrap=False \n",
            "[CV]  n_estimators=1000, min_samples_split=5, min_samples_leaf=4, max_features=auto, max_depth=30, bootstrap=False, total= 1.8min\n",
            "[CV] n_estimators=1000, min_samples_split=5, min_samples_leaf=4, max_features=auto, max_depth=30, bootstrap=False \n",
            "[CV]  n_estimators=1000, min_samples_split=5, min_samples_leaf=4, max_features=auto, max_depth=30, bootstrap=False, total= 1.8min\n",
            "[CV] n_estimators=1400, min_samples_split=10, min_samples_leaf=1, max_features=auto, max_depth=110, bootstrap=False \n",
            "[CV]  n_estimators=1400, min_samples_split=10, min_samples_leaf=1, max_features=auto, max_depth=110, bootstrap=False, total= 2.8min\n",
            "[CV] n_estimators=1400, min_samples_split=10, min_samples_leaf=1, max_features=auto, max_depth=110, bootstrap=False \n",
            "[CV]  n_estimators=1400, min_samples_split=10, min_samples_leaf=1, max_features=auto, max_depth=110, bootstrap=False, total= 2.8min\n",
            "[CV] n_estimators=1400, min_samples_split=10, min_samples_leaf=1, max_features=auto, max_depth=110, bootstrap=False \n",
            "[CV]  n_estimators=1400, min_samples_split=10, min_samples_leaf=1, max_features=auto, max_depth=110, bootstrap=False, total= 2.7min\n",
            "[CV] n_estimators=1200, min_samples_split=10, min_samples_leaf=2, max_features=sqrt, max_depth=80, bootstrap=False \n",
            "[CV]  n_estimators=1200, min_samples_split=10, min_samples_leaf=2, max_features=sqrt, max_depth=80, bootstrap=False, total= 2.0min\n",
            "[CV] n_estimators=1200, min_samples_split=10, min_samples_leaf=2, max_features=sqrt, max_depth=80, bootstrap=False \n",
            "[CV]  n_estimators=1200, min_samples_split=10, min_samples_leaf=2, max_features=sqrt, max_depth=80, bootstrap=False, total= 2.1min\n",
            "[CV] n_estimators=1200, min_samples_split=10, min_samples_leaf=2, max_features=sqrt, max_depth=80, bootstrap=False \n",
            "[CV]  n_estimators=1200, min_samples_split=10, min_samples_leaf=2, max_features=sqrt, max_depth=80, bootstrap=False, total= 2.4min\n",
            "[CV] n_estimators=1000, min_samples_split=2, min_samples_leaf=2, max_features=auto, max_depth=70, bootstrap=True \n",
            "[CV]  n_estimators=1000, min_samples_split=2, min_samples_leaf=2, max_features=auto, max_depth=70, bootstrap=True, total= 1.2min\n",
            "[CV] n_estimators=1000, min_samples_split=2, min_samples_leaf=2, max_features=auto, max_depth=70, bootstrap=True \n",
            "[CV]  n_estimators=1000, min_samples_split=2, min_samples_leaf=2, max_features=auto, max_depth=70, bootstrap=True, total= 1.2min\n",
            "[CV] n_estimators=1000, min_samples_split=2, min_samples_leaf=2, max_features=auto, max_depth=70, bootstrap=True \n",
            "[CV]  n_estimators=1000, min_samples_split=2, min_samples_leaf=2, max_features=auto, max_depth=70, bootstrap=True, total= 1.2min\n",
            "[CV] n_estimators=2000, min_samples_split=5, min_samples_leaf=2, max_features=auto, max_depth=90, bootstrap=True \n",
            "[CV]  n_estimators=2000, min_samples_split=5, min_samples_leaf=2, max_features=auto, max_depth=90, bootstrap=True, total= 2.2min\n",
            "[CV] n_estimators=2000, min_samples_split=5, min_samples_leaf=2, max_features=auto, max_depth=90, bootstrap=True \n",
            "[CV]  n_estimators=2000, min_samples_split=5, min_samples_leaf=2, max_features=auto, max_depth=90, bootstrap=True, total= 2.3min\n",
            "[CV] n_estimators=2000, min_samples_split=5, min_samples_leaf=2, max_features=auto, max_depth=90, bootstrap=True \n",
            "[CV]  n_estimators=2000, min_samples_split=5, min_samples_leaf=2, max_features=auto, max_depth=90, bootstrap=True, total= 2.4min\n",
            "[CV] n_estimators=1400, min_samples_split=2, min_samples_leaf=2, max_features=auto, max_depth=100, bootstrap=False \n",
            "[CV]  n_estimators=1400, min_samples_split=2, min_samples_leaf=2, max_features=auto, max_depth=100, bootstrap=False, total= 2.6min\n",
            "[CV] n_estimators=1400, min_samples_split=2, min_samples_leaf=2, max_features=auto, max_depth=100, bootstrap=False \n",
            "[CV]  n_estimators=1400, min_samples_split=2, min_samples_leaf=2, max_features=auto, max_depth=100, bootstrap=False, total= 2.7min\n",
            "[CV] n_estimators=1400, min_samples_split=2, min_samples_leaf=2, max_features=auto, max_depth=100, bootstrap=False \n",
            "[CV]  n_estimators=1400, min_samples_split=2, min_samples_leaf=2, max_features=auto, max_depth=100, bootstrap=False, total= 2.8min\n",
            "[CV] n_estimators=2000, min_samples_split=5, min_samples_leaf=4, max_features=sqrt, max_depth=100, bootstrap=True \n",
            "[CV]  n_estimators=2000, min_samples_split=5, min_samples_leaf=4, max_features=sqrt, max_depth=100, bootstrap=True, total= 2.2min\n",
            "[CV] n_estimators=2000, min_samples_split=5, min_samples_leaf=4, max_features=sqrt, max_depth=100, bootstrap=True \n",
            "[CV]  n_estimators=2000, min_samples_split=5, min_samples_leaf=4, max_features=sqrt, max_depth=100, bootstrap=True, total= 2.2min\n",
            "[CV] n_estimators=2000, min_samples_split=5, min_samples_leaf=4, max_features=sqrt, max_depth=100, bootstrap=True \n",
            "[CV]  n_estimators=2000, min_samples_split=5, min_samples_leaf=4, max_features=sqrt, max_depth=100, bootstrap=True, total= 2.3min\n",
            "[CV] n_estimators=1400, min_samples_split=10, min_samples_leaf=4, max_features=sqrt, max_depth=40, bootstrap=True \n",
            "[CV]  n_estimators=1400, min_samples_split=10, min_samples_leaf=4, max_features=sqrt, max_depth=40, bootstrap=True, total= 1.5min\n",
            "[CV] n_estimators=1400, min_samples_split=10, min_samples_leaf=4, max_features=sqrt, max_depth=40, bootstrap=True \n",
            "[CV]  n_estimators=1400, min_samples_split=10, min_samples_leaf=4, max_features=sqrt, max_depth=40, bootstrap=True, total= 1.4min\n",
            "[CV] n_estimators=1400, min_samples_split=10, min_samples_leaf=4, max_features=sqrt, max_depth=40, bootstrap=True \n",
            "[CV]  n_estimators=1400, min_samples_split=10, min_samples_leaf=4, max_features=sqrt, max_depth=40, bootstrap=True, total= 1.5min\n",
            "[CV] n_estimators=400, min_samples_split=2, min_samples_leaf=1, max_features=auto, max_depth=100, bootstrap=True \n",
            "[CV]  n_estimators=400, min_samples_split=2, min_samples_leaf=1, max_features=auto, max_depth=100, bootstrap=True, total=  28.4s\n",
            "[CV] n_estimators=400, min_samples_split=2, min_samples_leaf=1, max_features=auto, max_depth=100, bootstrap=True \n",
            "[CV]  n_estimators=400, min_samples_split=2, min_samples_leaf=1, max_features=auto, max_depth=100, bootstrap=True, total=  29.5s\n",
            "[CV] n_estimators=400, min_samples_split=2, min_samples_leaf=1, max_features=auto, max_depth=100, bootstrap=True \n",
            "[CV]  n_estimators=400, min_samples_split=2, min_samples_leaf=1, max_features=auto, max_depth=100, bootstrap=True, total=  30.7s\n",
            "[CV] n_estimators=1200, min_samples_split=5, min_samples_leaf=2, max_features=sqrt, max_depth=None, bootstrap=True \n",
            "[CV]  n_estimators=1200, min_samples_split=5, min_samples_leaf=2, max_features=sqrt, max_depth=None, bootstrap=True, total= 1.3min\n",
            "[CV] n_estimators=1200, min_samples_split=5, min_samples_leaf=2, max_features=sqrt, max_depth=None, bootstrap=True \n",
            "[CV]  n_estimators=1200, min_samples_split=5, min_samples_leaf=2, max_features=sqrt, max_depth=None, bootstrap=True, total= 1.3min\n",
            "[CV] n_estimators=1200, min_samples_split=5, min_samples_leaf=2, max_features=sqrt, max_depth=None, bootstrap=True \n",
            "[CV]  n_estimators=1200, min_samples_split=5, min_samples_leaf=2, max_features=sqrt, max_depth=None, bootstrap=True, total= 1.4min\n",
            "[CV] n_estimators=2000, min_samples_split=5, min_samples_leaf=1, max_features=auto, max_depth=100, bootstrap=False \n",
            "[CV]  n_estimators=2000, min_samples_split=5, min_samples_leaf=1, max_features=auto, max_depth=100, bootstrap=False, total= 3.8min\n",
            "[CV] n_estimators=2000, min_samples_split=5, min_samples_leaf=1, max_features=auto, max_depth=100, bootstrap=False \n",
            "[CV]  n_estimators=2000, min_samples_split=5, min_samples_leaf=1, max_features=auto, max_depth=100, bootstrap=False, total= 3.8min\n",
            "[CV] n_estimators=2000, min_samples_split=5, min_samples_leaf=1, max_features=auto, max_depth=100, bootstrap=False \n",
            "[CV]  n_estimators=2000, min_samples_split=5, min_samples_leaf=1, max_features=auto, max_depth=100, bootstrap=False, total= 3.9min\n",
            "[CV] n_estimators=1000, min_samples_split=2, min_samples_leaf=2, max_features=auto, max_depth=20, bootstrap=True \n",
            "[CV]  n_estimators=1000, min_samples_split=2, min_samples_leaf=2, max_features=auto, max_depth=20, bootstrap=True, total= 1.1min\n",
            "[CV] n_estimators=1000, min_samples_split=2, min_samples_leaf=2, max_features=auto, max_depth=20, bootstrap=True \n",
            "[CV]  n_estimators=1000, min_samples_split=2, min_samples_leaf=2, max_features=auto, max_depth=20, bootstrap=True, total= 1.0min\n",
            "[CV] n_estimators=1000, min_samples_split=2, min_samples_leaf=2, max_features=auto, max_depth=20, bootstrap=True \n",
            "[CV]  n_estimators=1000, min_samples_split=2, min_samples_leaf=2, max_features=auto, max_depth=20, bootstrap=True, total= 1.0min\n",
            "[CV] n_estimators=800, min_samples_split=5, min_samples_leaf=1, max_features=sqrt, max_depth=30, bootstrap=False \n",
            "[CV]  n_estimators=800, min_samples_split=5, min_samples_leaf=1, max_features=sqrt, max_depth=30, bootstrap=False, total= 1.5min\n",
            "[CV] n_estimators=800, min_samples_split=5, min_samples_leaf=1, max_features=sqrt, max_depth=30, bootstrap=False \n",
            "[CV]  n_estimators=800, min_samples_split=5, min_samples_leaf=1, max_features=sqrt, max_depth=30, bootstrap=False, total= 1.5min\n",
            "[CV] n_estimators=800, min_samples_split=5, min_samples_leaf=1, max_features=sqrt, max_depth=30, bootstrap=False \n",
            "[CV]  n_estimators=800, min_samples_split=5, min_samples_leaf=1, max_features=sqrt, max_depth=30, bootstrap=False, total= 1.8min\n",
            "[CV] n_estimators=400, min_samples_split=10, min_samples_leaf=4, max_features=auto, max_depth=30, bootstrap=False \n",
            "[CV]  n_estimators=400, min_samples_split=10, min_samples_leaf=4, max_features=auto, max_depth=30, bootstrap=False, total=  43.7s\n",
            "[CV] n_estimators=400, min_samples_split=10, min_samples_leaf=4, max_features=auto, max_depth=30, bootstrap=False \n",
            "[CV]  n_estimators=400, min_samples_split=10, min_samples_leaf=4, max_features=auto, max_depth=30, bootstrap=False, total=  44.0s\n",
            "[CV] n_estimators=400, min_samples_split=10, min_samples_leaf=4, max_features=auto, max_depth=30, bootstrap=False \n",
            "[CV]  n_estimators=400, min_samples_split=10, min_samples_leaf=4, max_features=auto, max_depth=30, bootstrap=False, total=  46.7s\n",
            "[CV] n_estimators=1200, min_samples_split=10, min_samples_leaf=1, max_features=auto, max_depth=100, bootstrap=False \n",
            "[CV]  n_estimators=1200, min_samples_split=10, min_samples_leaf=1, max_features=auto, max_depth=100, bootstrap=False, total= 2.4min\n",
            "[CV] n_estimators=1200, min_samples_split=10, min_samples_leaf=1, max_features=auto, max_depth=100, bootstrap=False \n",
            "[CV]  n_estimators=1200, min_samples_split=10, min_samples_leaf=1, max_features=auto, max_depth=100, bootstrap=False, total= 2.3min\n",
            "[CV] n_estimators=1200, min_samples_split=10, min_samples_leaf=1, max_features=auto, max_depth=100, bootstrap=False \n",
            "[CV]  n_estimators=1200, min_samples_split=10, min_samples_leaf=1, max_features=auto, max_depth=100, bootstrap=False, total= 2.6min\n",
            "[CV] n_estimators=1200, min_samples_split=10, min_samples_leaf=1, max_features=sqrt, max_depth=None, bootstrap=True \n",
            "[CV]  n_estimators=1200, min_samples_split=10, min_samples_leaf=1, max_features=sqrt, max_depth=None, bootstrap=True, total= 1.5min\n",
            "[CV] n_estimators=1200, min_samples_split=10, min_samples_leaf=1, max_features=sqrt, max_depth=None, bootstrap=True \n",
            "[CV]  n_estimators=1200, min_samples_split=10, min_samples_leaf=1, max_features=sqrt, max_depth=None, bootstrap=True, total= 1.5min\n",
            "[CV] n_estimators=1200, min_samples_split=10, min_samples_leaf=1, max_features=sqrt, max_depth=None, bootstrap=True \n",
            "[CV]  n_estimators=1200, min_samples_split=10, min_samples_leaf=1, max_features=sqrt, max_depth=None, bootstrap=True, total= 1.6min\n",
            "[CV] n_estimators=1600, min_samples_split=10, min_samples_leaf=1, max_features=sqrt, max_depth=10, bootstrap=False \n",
            "[CV]  n_estimators=1600, min_samples_split=10, min_samples_leaf=1, max_features=sqrt, max_depth=10, bootstrap=False, total= 2.0min\n",
            "[CV] n_estimators=1600, min_samples_split=10, min_samples_leaf=1, max_features=sqrt, max_depth=10, bootstrap=False \n",
            "[CV]  n_estimators=1600, min_samples_split=10, min_samples_leaf=1, max_features=sqrt, max_depth=10, bootstrap=False, total= 2.0min\n",
            "[CV] n_estimators=1600, min_samples_split=10, min_samples_leaf=1, max_features=sqrt, max_depth=10, bootstrap=False \n",
            "[CV]  n_estimators=1600, min_samples_split=10, min_samples_leaf=1, max_features=sqrt, max_depth=10, bootstrap=False, total= 2.0min\n",
            "[CV] n_estimators=1800, min_samples_split=5, min_samples_leaf=2, max_features=sqrt, max_depth=40, bootstrap=True \n",
            "[CV]  n_estimators=1800, min_samples_split=5, min_samples_leaf=2, max_features=sqrt, max_depth=40, bootstrap=True, total= 1.9min\n",
            "[CV] n_estimators=1800, min_samples_split=5, min_samples_leaf=2, max_features=sqrt, max_depth=40, bootstrap=True \n",
            "[CV]  n_estimators=1800, min_samples_split=5, min_samples_leaf=2, max_features=sqrt, max_depth=40, bootstrap=True, total= 2.1min\n",
            "[CV] n_estimators=1800, min_samples_split=5, min_samples_leaf=2, max_features=sqrt, max_depth=40, bootstrap=True \n",
            "[CV]  n_estimators=1800, min_samples_split=5, min_samples_leaf=2, max_features=sqrt, max_depth=40, bootstrap=True, total= 2.2min\n",
            "[CV] n_estimators=1400, min_samples_split=2, min_samples_leaf=4, max_features=sqrt, max_depth=100, bootstrap=False \n",
            "[CV]  n_estimators=1400, min_samples_split=2, min_samples_leaf=4, max_features=sqrt, max_depth=100, bootstrap=False, total= 2.4min\n",
            "[CV] n_estimators=1400, min_samples_split=2, min_samples_leaf=4, max_features=sqrt, max_depth=100, bootstrap=False \n",
            "[CV]  n_estimators=1400, min_samples_split=2, min_samples_leaf=4, max_features=sqrt, max_depth=100, bootstrap=False, total= 2.5min\n",
            "[CV] n_estimators=1400, min_samples_split=2, min_samples_leaf=4, max_features=sqrt, max_depth=100, bootstrap=False \n",
            "[CV]  n_estimators=1400, min_samples_split=2, min_samples_leaf=4, max_features=sqrt, max_depth=100, bootstrap=False, total= 2.5min\n"
          ],
          "name": "stdout"
        },
        {
          "output_type": "stream",
          "text": [
            "[Parallel(n_jobs=1)]: Done 150 out of 150 | elapsed: 262.9min finished\n"
          ],
          "name": "stderr"
        },
        {
          "output_type": "execute_result",
          "data": {
            "text/plain": [
              "RandomForestClassifier(bootstrap=True, ccp_alpha=0.0, class_weight=None,\n",
              "                       criterion='gini', max_depth=40, max_features='sqrt',\n",
              "                       max_leaf_nodes=None, max_samples=None,\n",
              "                       min_impurity_decrease=0.0, min_impurity_split=None,\n",
              "                       min_samples_leaf=1, min_samples_split=10,\n",
              "                       min_weight_fraction_leaf=0.0, n_estimators=400,\n",
              "                       n_jobs=None, oob_score=False, random_state=None,\n",
              "                       verbose=0, warm_start=False)"
            ]
          },
          "metadata": {
            "tags": []
          },
          "execution_count": 26
        }
      ]
    },
    {
      "cell_type": "markdown",
      "metadata": {
        "id": "Iw-ZrkNjilTO"
      },
      "source": [
        "Description:\n",
        "Grid search various parameters for the Random Forest classifier to find the parameter combination which yields the best accuracy. Use stratified K-fold for uneven distribution of classes."
      ]
    },
    {
      "cell_type": "code",
      "metadata": {
        "id": "uHKo9w4JSraB",
        "colab": {
          "base_uri": "https://localhost:8080/",
          "height": 450
        },
        "outputId": "063539ea-51d1-482e-9a5e-a467491bc386"
      },
      "source": [
        "\n",
        "from sklearn.model_selection import StratifiedKFold\n",
        "cv = StratifiedKFold(n_splits=10,shuffle=True, random_state=0) #make sure to keep same random_state across models\n",
        "\n",
        "#Display the top model parameters\n",
        "rf_random.best_estimator_\n",
        "\n",
        "from sklearn.model_selection import cross_validate\n",
        "\n",
        "def EvaluateClassifierEstimator(classifierEstimator, X, y, cv):\n",
        "   \n",
        "    #Perform cross validation \n",
        "    scores = cross_validate(classifierEstimator, scaled_Xc, yc, scoring=['accuracy','precision','recall']\n",
        "                            , cv=cv, return_train_score=True)\n",
        "\n",
        "    Accavg = scores['test_accuracy'].mean()\n",
        "    Preavg = scores['test_precision'].mean()\n",
        "    Recavg = scores['test_recall'].mean()\n",
        "\n",
        "    print(\"The average accuracy for all cv folds is:\", Accavg)\n",
        "    print(\"The average precision for all cv folds is:\", Preavg)\n",
        "    print(\"The average recall for all cv folds is:\", Recavg)\n",
        "    \n",
        "    \n",
        "    print('*********************************************************')\n",
        "\n",
        "    print('Cross Validation Fold Mean Error Scores')\n",
        "    scoresResults = pd.DataFrame()\n",
        "    scoresResults['Accuracy'] = scores['test_accuracy']\n",
        "    scoresResults['Precision'] = scores['test_precision']\n",
        "    scoresResults['Recall'] = scores['test_recall']\n",
        "    return scoresResults\n",
        "\n",
        "#Use the best parameters\n",
        "classifierEst = rf_random.best_estimator_\n",
        "\n",
        "\n",
        "#Evaluate the estimator above using our pre-defined cross validation and scoring metrics. \n",
        "EvaluateClassifierEstimator(classifierEst, scaled_Xc, yc, cv)\n"
      ],
      "execution_count": null,
      "outputs": [
        {
          "output_type": "stream",
          "text": [
            "The average precision for all cv folds is: 0.9238981545734528\n",
            "The average precision for all cv folds is: 0.7729323701708787\n",
            "The average recall for all cv folds is: 0.07120543869721802\n",
            "*********************************************************\n",
            "Cross Validation Fold Mean Error Scores\n"
          ],
          "name": "stdout"
        },
        {
          "output_type": "execute_result",
          "data": {
            "text/html": [
              "<div>\n",
              "<style scoped>\n",
              "    .dataframe tbody tr th:only-of-type {\n",
              "        vertical-align: middle;\n",
              "    }\n",
              "\n",
              "    .dataframe tbody tr th {\n",
              "        vertical-align: top;\n",
              "    }\n",
              "\n",
              "    .dataframe thead th {\n",
              "        text-align: right;\n",
              "    }\n",
              "</style>\n",
              "<table border=\"1\" class=\"dataframe\">\n",
              "  <thead>\n",
              "    <tr style=\"text-align: right;\">\n",
              "      <th></th>\n",
              "      <th>Accuracy</th>\n",
              "      <th>Precision</th>\n",
              "      <th>Recall</th>\n",
              "    </tr>\n",
              "  </thead>\n",
              "  <tbody>\n",
              "    <tr>\n",
              "      <th>0</th>\n",
              "      <td>0.924540</td>\n",
              "      <td>0.767442</td>\n",
              "      <td>0.084184</td>\n",
              "    </tr>\n",
              "    <tr>\n",
              "      <th>1</th>\n",
              "      <td>0.923108</td>\n",
              "      <td>0.766667</td>\n",
              "      <td>0.058673</td>\n",
              "    </tr>\n",
              "    <tr>\n",
              "      <th>2</th>\n",
              "      <td>0.923108</td>\n",
              "      <td>0.710526</td>\n",
              "      <td>0.068878</td>\n",
              "    </tr>\n",
              "    <tr>\n",
              "      <th>3</th>\n",
              "      <td>0.923722</td>\n",
              "      <td>0.806452</td>\n",
              "      <td>0.063776</td>\n",
              "    </tr>\n",
              "    <tr>\n",
              "      <th>4</th>\n",
              "      <td>0.924744</td>\n",
              "      <td>0.800000</td>\n",
              "      <td>0.081633</td>\n",
              "    </tr>\n",
              "    <tr>\n",
              "      <th>5</th>\n",
              "      <td>0.923706</td>\n",
              "      <td>0.764706</td>\n",
              "      <td>0.066496</td>\n",
              "    </tr>\n",
              "    <tr>\n",
              "      <th>6</th>\n",
              "      <td>0.922070</td>\n",
              "      <td>0.638889</td>\n",
              "      <td>0.058824</td>\n",
              "    </tr>\n",
              "    <tr>\n",
              "      <th>7</th>\n",
              "      <td>0.925752</td>\n",
              "      <td>0.891892</td>\n",
              "      <td>0.084184</td>\n",
              "    </tr>\n",
              "    <tr>\n",
              "      <th>8</th>\n",
              "      <td>0.923706</td>\n",
              "      <td>0.787879</td>\n",
              "      <td>0.066327</td>\n",
              "    </tr>\n",
              "    <tr>\n",
              "      <th>9</th>\n",
              "      <td>0.924524</td>\n",
              "      <td>0.794872</td>\n",
              "      <td>0.079082</td>\n",
              "    </tr>\n",
              "  </tbody>\n",
              "</table>\n",
              "</div>"
            ],
            "text/plain": [
              "   Accuracy  Precision    Recall\n",
              "0  0.924540   0.767442  0.084184\n",
              "1  0.923108   0.766667  0.058673\n",
              "2  0.923108   0.710526  0.068878\n",
              "3  0.923722   0.806452  0.063776\n",
              "4  0.924744   0.800000  0.081633\n",
              "5  0.923706   0.764706  0.066496\n",
              "6  0.922070   0.638889  0.058824\n",
              "7  0.925752   0.891892  0.084184\n",
              "8  0.923706   0.787879  0.066327\n",
              "9  0.924524   0.794872  0.079082"
            ]
          },
          "metadata": {
            "tags": []
          },
          "execution_count": 74
        }
      ]
    },
    {
      "cell_type": "markdown",
      "metadata": {
        "id": "bBwkrQp7iST8"
      },
      "source": [
        "Description:\n",
        "10 fold K-stratified cross validation of our best accuracy Random Forest classifier from our hypertuning. Calculated and display our three major metrics for classification, Accuracy, Precision, and Recall."
      ]
    },
    {
      "cell_type": "markdown",
      "metadata": {
        "id": "6JXpKCkL31G-"
      },
      "source": [
        "**New Material: **Recall Random Forest Model hypertuned and cross validated with metrics table"
      ]
    },
    {
      "cell_type": "code",
      "metadata": {
        "id": "r8aOiDXnjwB0",
        "colab": {
          "base_uri": "https://localhost:8080/",
          "height": 1000
        },
        "outputId": "2b3cdb2f-ebdb-4daf-fbf7-a007eaeac2d7"
      },
      "source": [
        "# JORDAN random forest Recall classification Hypertuning\n",
        "\n",
        "from sklearn.model_selection import RandomizedSearchCV# Number of trees in random forest\n",
        "import numpy as np\n",
        "from sklearn.ensemble import RandomForestClassifier\n",
        "n_estimators = [int(x) for x in np.linspace(start = 200, stop = 2000, num = 10)]\n",
        "# Number of features to consider at every split\n",
        "max_features = ['auto', 'sqrt']\n",
        "# Maximum number of levels in tree\n",
        "max_depth = [int(x) for x in np.linspace(10, 110, num = 11)]\n",
        "max_depth.append(None)\n",
        "# Minimum number of samples required to split a node\n",
        "min_samples_split = [2, 5, 10]\n",
        "# Minimum number of samples required at each leaf node\n",
        "min_samples_leaf = [1, 2, 4]\n",
        "# Method of selecting samples for training each tree\n",
        "bootstrap = [True, False]# Create the random grid\n",
        "random_grid = {'n_estimators': n_estimators,\n",
        "               'max_features': max_features,\n",
        "               'max_depth': max_depth,\n",
        "               'min_samples_split': min_samples_split,\n",
        "               'min_samples_leaf': min_samples_leaf,\n",
        "               'bootstrap': bootstrap\n",
        "               }\n",
        "\n",
        "rf = RandomForestClassifier()\n",
        "# Random search of parameters, using 3 fold cross validation, \n",
        "# search across 100 different combinations, and use all available cores\n",
        "rf_recall = RandomizedSearchCV(estimator = rf, param_distributions = random_grid,scoring='recall', n_iter = 50, cv = 3, verbose=2, random_state=0)# Fit the random search model\n",
        "rf_recall.fit(scaled_Xc, yc)\n",
        "\n",
        "rf_recall.best_estimator_"
      ],
      "execution_count": null,
      "outputs": [
        {
          "output_type": "stream",
          "text": [
            "Fitting 3 folds for each of 50 candidates, totalling 150 fits\n",
            "[CV] n_estimators=400, min_samples_split=10, min_samples_leaf=1, max_features=sqrt, max_depth=40, bootstrap=True \n"
          ],
          "name": "stdout"
        },
        {
          "output_type": "stream",
          "text": [
            "[Parallel(n_jobs=1)]: Using backend SequentialBackend with 1 concurrent workers.\n"
          ],
          "name": "stderr"
        },
        {
          "output_type": "stream",
          "text": [
            "[CV]  n_estimators=400, min_samples_split=10, min_samples_leaf=1, max_features=sqrt, max_depth=40, bootstrap=True, total=  24.9s\n",
            "[CV] n_estimators=400, min_samples_split=10, min_samples_leaf=1, max_features=sqrt, max_depth=40, bootstrap=True \n"
          ],
          "name": "stdout"
        },
        {
          "output_type": "stream",
          "text": [
            "[Parallel(n_jobs=1)]: Done   1 out of   1 | elapsed:   24.9s remaining:    0.0s\n"
          ],
          "name": "stderr"
        },
        {
          "output_type": "stream",
          "text": [
            "[CV]  n_estimators=400, min_samples_split=10, min_samples_leaf=1, max_features=sqrt, max_depth=40, bootstrap=True, total=  25.1s\n",
            "[CV] n_estimators=400, min_samples_split=10, min_samples_leaf=1, max_features=sqrt, max_depth=40, bootstrap=True \n",
            "[CV]  n_estimators=400, min_samples_split=10, min_samples_leaf=1, max_features=sqrt, max_depth=40, bootstrap=True, total=  25.7s\n",
            "[CV] n_estimators=1200, min_samples_split=2, min_samples_leaf=1, max_features=sqrt, max_depth=90, bootstrap=True \n",
            "[CV]  n_estimators=1200, min_samples_split=2, min_samples_leaf=1, max_features=sqrt, max_depth=90, bootstrap=True, total= 1.3min\n",
            "[CV] n_estimators=1200, min_samples_split=2, min_samples_leaf=1, max_features=sqrt, max_depth=90, bootstrap=True \n",
            "[CV]  n_estimators=1200, min_samples_split=2, min_samples_leaf=1, max_features=sqrt, max_depth=90, bootstrap=True, total= 1.5min\n",
            "[CV] n_estimators=1200, min_samples_split=2, min_samples_leaf=1, max_features=sqrt, max_depth=90, bootstrap=True \n",
            "[CV]  n_estimators=1200, min_samples_split=2, min_samples_leaf=1, max_features=sqrt, max_depth=90, bootstrap=True, total= 1.6min\n",
            "[CV] n_estimators=200, min_samples_split=5, min_samples_leaf=2, max_features=sqrt, max_depth=20, bootstrap=False \n",
            "[CV]  n_estimators=200, min_samples_split=5, min_samples_leaf=2, max_features=sqrt, max_depth=20, bootstrap=False, total=  20.0s\n",
            "[CV] n_estimators=200, min_samples_split=5, min_samples_leaf=2, max_features=sqrt, max_depth=20, bootstrap=False \n",
            "[CV]  n_estimators=200, min_samples_split=5, min_samples_leaf=2, max_features=sqrt, max_depth=20, bootstrap=False, total=  20.1s\n",
            "[CV] n_estimators=200, min_samples_split=5, min_samples_leaf=2, max_features=sqrt, max_depth=20, bootstrap=False \n",
            "[CV]  n_estimators=200, min_samples_split=5, min_samples_leaf=2, max_features=sqrt, max_depth=20, bootstrap=False, total=  20.9s\n",
            "[CV] n_estimators=600, min_samples_split=2, min_samples_leaf=2, max_features=auto, max_depth=20, bootstrap=False \n",
            "[CV]  n_estimators=600, min_samples_split=2, min_samples_leaf=2, max_features=auto, max_depth=20, bootstrap=False, total= 1.0min\n",
            "[CV] n_estimators=600, min_samples_split=2, min_samples_leaf=2, max_features=auto, max_depth=20, bootstrap=False \n",
            "[CV]  n_estimators=600, min_samples_split=2, min_samples_leaf=2, max_features=auto, max_depth=20, bootstrap=False, total=  52.8s\n",
            "[CV] n_estimators=600, min_samples_split=2, min_samples_leaf=2, max_features=auto, max_depth=20, bootstrap=False \n",
            "[CV]  n_estimators=600, min_samples_split=2, min_samples_leaf=2, max_features=auto, max_depth=20, bootstrap=False, total=  50.8s\n",
            "[CV] n_estimators=400, min_samples_split=2, min_samples_leaf=1, max_features=sqrt, max_depth=None, bootstrap=False \n",
            "[CV]  n_estimators=400, min_samples_split=2, min_samples_leaf=1, max_features=sqrt, max_depth=None, bootstrap=False, total=  41.1s\n",
            "[CV] n_estimators=400, min_samples_split=2, min_samples_leaf=1, max_features=sqrt, max_depth=None, bootstrap=False \n",
            "[CV]  n_estimators=400, min_samples_split=2, min_samples_leaf=1, max_features=sqrt, max_depth=None, bootstrap=False, total=  43.2s\n",
            "[CV] n_estimators=400, min_samples_split=2, min_samples_leaf=1, max_features=sqrt, max_depth=None, bootstrap=False \n",
            "[CV]  n_estimators=400, min_samples_split=2, min_samples_leaf=1, max_features=sqrt, max_depth=None, bootstrap=False, total=  51.4s\n",
            "[CV] n_estimators=400, min_samples_split=5, min_samples_leaf=4, max_features=sqrt, max_depth=20, bootstrap=False \n",
            "[CV]  n_estimators=400, min_samples_split=5, min_samples_leaf=4, max_features=sqrt, max_depth=20, bootstrap=False, total=  32.5s\n",
            "[CV] n_estimators=400, min_samples_split=5, min_samples_leaf=4, max_features=sqrt, max_depth=20, bootstrap=False \n",
            "[CV]  n_estimators=400, min_samples_split=5, min_samples_leaf=4, max_features=sqrt, max_depth=20, bootstrap=False, total=  32.0s\n",
            "[CV] n_estimators=400, min_samples_split=5, min_samples_leaf=4, max_features=sqrt, max_depth=20, bootstrap=False \n",
            "[CV]  n_estimators=400, min_samples_split=5, min_samples_leaf=4, max_features=sqrt, max_depth=20, bootstrap=False, total=  32.4s\n",
            "[CV] n_estimators=2000, min_samples_split=5, min_samples_leaf=1, max_features=sqrt, max_depth=30, bootstrap=False \n",
            "[CV]  n_estimators=2000, min_samples_split=5, min_samples_leaf=1, max_features=sqrt, max_depth=30, bootstrap=False, total= 3.3min\n",
            "[CV] n_estimators=2000, min_samples_split=5, min_samples_leaf=1, max_features=sqrt, max_depth=30, bootstrap=False \n",
            "[CV]  n_estimators=2000, min_samples_split=5, min_samples_leaf=1, max_features=sqrt, max_depth=30, bootstrap=False, total= 3.3min\n",
            "[CV] n_estimators=2000, min_samples_split=5, min_samples_leaf=1, max_features=sqrt, max_depth=30, bootstrap=False \n",
            "[CV]  n_estimators=2000, min_samples_split=5, min_samples_leaf=1, max_features=sqrt, max_depth=30, bootstrap=False, total= 3.5min\n",
            "[CV] n_estimators=1200, min_samples_split=5, min_samples_leaf=2, max_features=auto, max_depth=110, bootstrap=False \n",
            "[CV]  n_estimators=1200, min_samples_split=5, min_samples_leaf=2, max_features=auto, max_depth=110, bootstrap=False, total= 2.0min\n",
            "[CV] n_estimators=1200, min_samples_split=5, min_samples_leaf=2, max_features=auto, max_depth=110, bootstrap=False \n",
            "[CV]  n_estimators=1200, min_samples_split=5, min_samples_leaf=2, max_features=auto, max_depth=110, bootstrap=False, total= 2.1min\n",
            "[CV] n_estimators=1200, min_samples_split=5, min_samples_leaf=2, max_features=auto, max_depth=110, bootstrap=False \n",
            "[CV]  n_estimators=1200, min_samples_split=5, min_samples_leaf=2, max_features=auto, max_depth=110, bootstrap=False, total= 2.0min\n",
            "[CV] n_estimators=200, min_samples_split=2, min_samples_leaf=2, max_features=sqrt, max_depth=80, bootstrap=True \n",
            "[CV]  n_estimators=200, min_samples_split=2, min_samples_leaf=2, max_features=sqrt, max_depth=80, bootstrap=True, total=  11.8s\n",
            "[CV] n_estimators=200, min_samples_split=2, min_samples_leaf=2, max_features=sqrt, max_depth=80, bootstrap=True \n",
            "[CV]  n_estimators=200, min_samples_split=2, min_samples_leaf=2, max_features=sqrt, max_depth=80, bootstrap=True, total=  13.7s\n",
            "[CV] n_estimators=200, min_samples_split=2, min_samples_leaf=2, max_features=sqrt, max_depth=80, bootstrap=True \n",
            "[CV]  n_estimators=200, min_samples_split=2, min_samples_leaf=2, max_features=sqrt, max_depth=80, bootstrap=True, total=  12.0s\n",
            "[CV] n_estimators=600, min_samples_split=5, min_samples_leaf=4, max_features=auto, max_depth=10, bootstrap=False \n",
            "[CV]  n_estimators=600, min_samples_split=5, min_samples_leaf=4, max_features=auto, max_depth=10, bootstrap=False, total=  33.8s\n",
            "[CV] n_estimators=600, min_samples_split=5, min_samples_leaf=4, max_features=auto, max_depth=10, bootstrap=False \n",
            "[CV]  n_estimators=600, min_samples_split=5, min_samples_leaf=4, max_features=auto, max_depth=10, bootstrap=False, total=  33.6s\n",
            "[CV] n_estimators=600, min_samples_split=5, min_samples_leaf=4, max_features=auto, max_depth=10, bootstrap=False \n",
            "[CV]  n_estimators=600, min_samples_split=5, min_samples_leaf=4, max_features=auto, max_depth=10, bootstrap=False, total=  33.9s\n",
            "[CV] n_estimators=600, min_samples_split=2, min_samples_leaf=4, max_features=sqrt, max_depth=70, bootstrap=False \n",
            "[CV]  n_estimators=600, min_samples_split=2, min_samples_leaf=4, max_features=sqrt, max_depth=70, bootstrap=False, total=  51.0s\n",
            "[CV] n_estimators=600, min_samples_split=2, min_samples_leaf=4, max_features=sqrt, max_depth=70, bootstrap=False \n",
            "[CV]  n_estimators=600, min_samples_split=2, min_samples_leaf=4, max_features=sqrt, max_depth=70, bootstrap=False, total= 1.0min\n",
            "[CV] n_estimators=600, min_samples_split=2, min_samples_leaf=4, max_features=sqrt, max_depth=70, bootstrap=False \n",
            "[CV]  n_estimators=600, min_samples_split=2, min_samples_leaf=4, max_features=sqrt, max_depth=70, bootstrap=False, total=  52.4s\n",
            "[CV] n_estimators=1800, min_samples_split=10, min_samples_leaf=1, max_features=auto, max_depth=100, bootstrap=False \n",
            "[CV]  n_estimators=1800, min_samples_split=10, min_samples_leaf=1, max_features=auto, max_depth=100, bootstrap=False, total= 3.4min\n",
            "[CV] n_estimators=1800, min_samples_split=10, min_samples_leaf=1, max_features=auto, max_depth=100, bootstrap=False \n",
            "[CV]  n_estimators=1800, min_samples_split=10, min_samples_leaf=1, max_features=auto, max_depth=100, bootstrap=False, total= 3.2min\n",
            "[CV] n_estimators=1800, min_samples_split=10, min_samples_leaf=1, max_features=auto, max_depth=100, bootstrap=False \n",
            "[CV]  n_estimators=1800, min_samples_split=10, min_samples_leaf=1, max_features=auto, max_depth=100, bootstrap=False, total= 3.1min\n",
            "[CV] n_estimators=2000, min_samples_split=10, min_samples_leaf=4, max_features=auto, max_depth=50, bootstrap=True \n",
            "[CV]  n_estimators=2000, min_samples_split=10, min_samples_leaf=4, max_features=auto, max_depth=50, bootstrap=True, total= 2.1min\n",
            "[CV] n_estimators=2000, min_samples_split=10, min_samples_leaf=4, max_features=auto, max_depth=50, bootstrap=True \n",
            "[CV]  n_estimators=2000, min_samples_split=10, min_samples_leaf=4, max_features=auto, max_depth=50, bootstrap=True, total= 2.2min\n",
            "[CV] n_estimators=2000, min_samples_split=10, min_samples_leaf=4, max_features=auto, max_depth=50, bootstrap=True \n",
            "[CV]  n_estimators=2000, min_samples_split=10, min_samples_leaf=4, max_features=auto, max_depth=50, bootstrap=True, total= 1.8min\n",
            "[CV] n_estimators=1800, min_samples_split=2, min_samples_leaf=1, max_features=sqrt, max_depth=None, bootstrap=True \n",
            "[CV]  n_estimators=1800, min_samples_split=2, min_samples_leaf=1, max_features=sqrt, max_depth=None, bootstrap=True, total= 2.2min\n",
            "[CV] n_estimators=1800, min_samples_split=2, min_samples_leaf=1, max_features=sqrt, max_depth=None, bootstrap=True \n",
            "[CV]  n_estimators=1800, min_samples_split=2, min_samples_leaf=1, max_features=sqrt, max_depth=None, bootstrap=True, total= 2.6min\n",
            "[CV] n_estimators=1800, min_samples_split=2, min_samples_leaf=1, max_features=sqrt, max_depth=None, bootstrap=True \n",
            "[CV]  n_estimators=1800, min_samples_split=2, min_samples_leaf=1, max_features=sqrt, max_depth=None, bootstrap=True, total= 2.1min\n",
            "[CV] n_estimators=800, min_samples_split=10, min_samples_leaf=2, max_features=sqrt, max_depth=110, bootstrap=True \n",
            "[CV]  n_estimators=800, min_samples_split=10, min_samples_leaf=2, max_features=sqrt, max_depth=110, bootstrap=True, total=  46.5s\n",
            "[CV] n_estimators=800, min_samples_split=10, min_samples_leaf=2, max_features=sqrt, max_depth=110, bootstrap=True \n",
            "[CV]  n_estimators=800, min_samples_split=10, min_samples_leaf=2, max_features=sqrt, max_depth=110, bootstrap=True, total=  46.1s\n",
            "[CV] n_estimators=800, min_samples_split=10, min_samples_leaf=2, max_features=sqrt, max_depth=110, bootstrap=True \n",
            "[CV]  n_estimators=800, min_samples_split=10, min_samples_leaf=2, max_features=sqrt, max_depth=110, bootstrap=True, total=  48.7s\n",
            "[CV] n_estimators=1000, min_samples_split=2, min_samples_leaf=1, max_features=sqrt, max_depth=10, bootstrap=False \n",
            "[CV]  n_estimators=1000, min_samples_split=2, min_samples_leaf=1, max_features=sqrt, max_depth=10, bootstrap=False, total=  57.8s\n",
            "[CV] n_estimators=1000, min_samples_split=2, min_samples_leaf=1, max_features=sqrt, max_depth=10, bootstrap=False \n",
            "[CV]  n_estimators=1000, min_samples_split=2, min_samples_leaf=1, max_features=sqrt, max_depth=10, bootstrap=False, total=  59.6s\n",
            "[CV] n_estimators=1000, min_samples_split=2, min_samples_leaf=1, max_features=sqrt, max_depth=10, bootstrap=False \n",
            "[CV]  n_estimators=1000, min_samples_split=2, min_samples_leaf=1, max_features=sqrt, max_depth=10, bootstrap=False, total=  58.8s\n",
            "[CV] n_estimators=1800, min_samples_split=2, min_samples_leaf=2, max_features=auto, max_depth=80, bootstrap=False \n",
            "[CV]  n_estimators=1800, min_samples_split=2, min_samples_leaf=2, max_features=auto, max_depth=80, bootstrap=False, total= 2.8min\n",
            "[CV] n_estimators=1800, min_samples_split=2, min_samples_leaf=2, max_features=auto, max_depth=80, bootstrap=False \n",
            "[CV]  n_estimators=1800, min_samples_split=2, min_samples_leaf=2, max_features=auto, max_depth=80, bootstrap=False, total= 2.8min\n",
            "[CV] n_estimators=1800, min_samples_split=2, min_samples_leaf=2, max_features=auto, max_depth=80, bootstrap=False \n",
            "[CV]  n_estimators=1800, min_samples_split=2, min_samples_leaf=2, max_features=auto, max_depth=80, bootstrap=False, total= 2.9min\n",
            "[CV] n_estimators=1800, min_samples_split=5, min_samples_leaf=4, max_features=sqrt, max_depth=30, bootstrap=True \n",
            "[CV]  n_estimators=1800, min_samples_split=5, min_samples_leaf=4, max_features=sqrt, max_depth=30, bootstrap=True, total= 1.6min\n",
            "[CV] n_estimators=1800, min_samples_split=5, min_samples_leaf=4, max_features=sqrt, max_depth=30, bootstrap=True \n",
            "[CV]  n_estimators=1800, min_samples_split=5, min_samples_leaf=4, max_features=sqrt, max_depth=30, bootstrap=True, total= 1.6min\n",
            "[CV] n_estimators=1800, min_samples_split=5, min_samples_leaf=4, max_features=sqrt, max_depth=30, bootstrap=True \n",
            "[CV]  n_estimators=1800, min_samples_split=5, min_samples_leaf=4, max_features=sqrt, max_depth=30, bootstrap=True, total= 1.7min\n",
            "[CV] n_estimators=2000, min_samples_split=5, min_samples_leaf=4, max_features=auto, max_depth=10, bootstrap=False \n",
            "[CV]  n_estimators=2000, min_samples_split=5, min_samples_leaf=4, max_features=auto, max_depth=10, bootstrap=False, total= 1.9min\n",
            "[CV] n_estimators=2000, min_samples_split=5, min_samples_leaf=4, max_features=auto, max_depth=10, bootstrap=False \n",
            "[CV]  n_estimators=2000, min_samples_split=5, min_samples_leaf=4, max_features=auto, max_depth=10, bootstrap=False, total= 1.9min\n",
            "[CV] n_estimators=2000, min_samples_split=5, min_samples_leaf=4, max_features=auto, max_depth=10, bootstrap=False \n",
            "[CV]  n_estimators=2000, min_samples_split=5, min_samples_leaf=4, max_features=auto, max_depth=10, bootstrap=False, total= 2.0min\n",
            "[CV] n_estimators=600, min_samples_split=5, min_samples_leaf=2, max_features=sqrt, max_depth=None, bootstrap=True \n",
            "[CV]  n_estimators=600, min_samples_split=5, min_samples_leaf=2, max_features=sqrt, max_depth=None, bootstrap=True, total=  34.7s\n",
            "[CV] n_estimators=600, min_samples_split=5, min_samples_leaf=2, max_features=sqrt, max_depth=None, bootstrap=True \n",
            "[CV]  n_estimators=600, min_samples_split=5, min_samples_leaf=2, max_features=sqrt, max_depth=None, bootstrap=True, total=  35.2s\n",
            "[CV] n_estimators=600, min_samples_split=5, min_samples_leaf=2, max_features=sqrt, max_depth=None, bootstrap=True \n",
            "[CV]  n_estimators=600, min_samples_split=5, min_samples_leaf=2, max_features=sqrt, max_depth=None, bootstrap=True, total=  35.7s\n",
            "[CV] n_estimators=600, min_samples_split=2, min_samples_leaf=2, max_features=sqrt, max_depth=20, bootstrap=True \n",
            "[CV]  n_estimators=600, min_samples_split=2, min_samples_leaf=2, max_features=sqrt, max_depth=20, bootstrap=True, total=  32.0s\n",
            "[CV] n_estimators=600, min_samples_split=2, min_samples_leaf=2, max_features=sqrt, max_depth=20, bootstrap=True \n",
            "[CV]  n_estimators=600, min_samples_split=2, min_samples_leaf=2, max_features=sqrt, max_depth=20, bootstrap=True, total=  32.0s\n",
            "[CV] n_estimators=600, min_samples_split=2, min_samples_leaf=2, max_features=sqrt, max_depth=20, bootstrap=True \n",
            "[CV]  n_estimators=600, min_samples_split=2, min_samples_leaf=2, max_features=sqrt, max_depth=20, bootstrap=True, total=  32.3s\n",
            "[CV] n_estimators=800, min_samples_split=10, min_samples_leaf=2, max_features=auto, max_depth=110, bootstrap=False \n",
            "[CV]  n_estimators=800, min_samples_split=10, min_samples_leaf=2, max_features=auto, max_depth=110, bootstrap=False, total= 1.2min\n",
            "[CV] n_estimators=800, min_samples_split=10, min_samples_leaf=2, max_features=auto, max_depth=110, bootstrap=False \n",
            "[CV]  n_estimators=800, min_samples_split=10, min_samples_leaf=2, max_features=auto, max_depth=110, bootstrap=False, total= 1.3min\n",
            "[CV] n_estimators=800, min_samples_split=10, min_samples_leaf=2, max_features=auto, max_depth=110, bootstrap=False \n",
            "[CV]  n_estimators=800, min_samples_split=10, min_samples_leaf=2, max_features=auto, max_depth=110, bootstrap=False, total= 1.3min\n",
            "[CV] n_estimators=1200, min_samples_split=5, min_samples_leaf=2, max_features=auto, max_depth=30, bootstrap=False \n",
            "[CV]  n_estimators=1200, min_samples_split=5, min_samples_leaf=2, max_features=auto, max_depth=30, bootstrap=False, total= 1.9min\n",
            "[CV] n_estimators=1200, min_samples_split=5, min_samples_leaf=2, max_features=auto, max_depth=30, bootstrap=False \n",
            "[CV]  n_estimators=1200, min_samples_split=5, min_samples_leaf=2, max_features=auto, max_depth=30, bootstrap=False, total= 1.9min\n",
            "[CV] n_estimators=1200, min_samples_split=5, min_samples_leaf=2, max_features=auto, max_depth=30, bootstrap=False \n",
            "[CV]  n_estimators=1200, min_samples_split=5, min_samples_leaf=2, max_features=auto, max_depth=30, bootstrap=False, total= 1.9min\n",
            "[CV] n_estimators=200, min_samples_split=5, min_samples_leaf=2, max_features=auto, max_depth=90, bootstrap=False \n",
            "[CV]  n_estimators=200, min_samples_split=5, min_samples_leaf=2, max_features=auto, max_depth=90, bootstrap=False, total=  18.9s\n",
            "[CV] n_estimators=200, min_samples_split=5, min_samples_leaf=2, max_features=auto, max_depth=90, bootstrap=False \n",
            "[CV]  n_estimators=200, min_samples_split=5, min_samples_leaf=2, max_features=auto, max_depth=90, bootstrap=False, total=  19.2s\n",
            "[CV] n_estimators=200, min_samples_split=5, min_samples_leaf=2, max_features=auto, max_depth=90, bootstrap=False \n",
            "[CV]  n_estimators=200, min_samples_split=5, min_samples_leaf=2, max_features=auto, max_depth=90, bootstrap=False, total=  19.7s\n",
            "[CV] n_estimators=800, min_samples_split=2, min_samples_leaf=2, max_features=sqrt, max_depth=50, bootstrap=False \n",
            "[CV]  n_estimators=800, min_samples_split=2, min_samples_leaf=2, max_features=sqrt, max_depth=50, bootstrap=False, total= 1.3min\n",
            "[CV] n_estimators=800, min_samples_split=2, min_samples_leaf=2, max_features=sqrt, max_depth=50, bootstrap=False \n",
            "[CV]  n_estimators=800, min_samples_split=2, min_samples_leaf=2, max_features=sqrt, max_depth=50, bootstrap=False, total= 1.3min\n",
            "[CV] n_estimators=800, min_samples_split=2, min_samples_leaf=2, max_features=sqrt, max_depth=50, bootstrap=False \n",
            "[CV]  n_estimators=800, min_samples_split=2, min_samples_leaf=2, max_features=sqrt, max_depth=50, bootstrap=False, total= 1.3min\n",
            "[CV] n_estimators=1800, min_samples_split=10, min_samples_leaf=4, max_features=auto, max_depth=110, bootstrap=True \n",
            "[CV]  n_estimators=1800, min_samples_split=10, min_samples_leaf=4, max_features=auto, max_depth=110, bootstrap=True, total= 1.7min\n",
            "[CV] n_estimators=1800, min_samples_split=10, min_samples_leaf=4, max_features=auto, max_depth=110, bootstrap=True \n",
            "[CV]  n_estimators=1800, min_samples_split=10, min_samples_leaf=4, max_features=auto, max_depth=110, bootstrap=True, total= 1.6min\n",
            "[CV] n_estimators=1800, min_samples_split=10, min_samples_leaf=4, max_features=auto, max_depth=110, bootstrap=True \n",
            "[CV]  n_estimators=1800, min_samples_split=10, min_samples_leaf=4, max_features=auto, max_depth=110, bootstrap=True, total= 1.7min\n",
            "[CV] n_estimators=1000, min_samples_split=5, min_samples_leaf=1, max_features=auto, max_depth=40, bootstrap=False \n",
            "[CV]  n_estimators=1000, min_samples_split=5, min_samples_leaf=1, max_features=auto, max_depth=40, bootstrap=False, total= 1.7min\n",
            "[CV] n_estimators=1000, min_samples_split=5, min_samples_leaf=1, max_features=auto, max_depth=40, bootstrap=False \n",
            "[CV]  n_estimators=1000, min_samples_split=5, min_samples_leaf=1, max_features=auto, max_depth=40, bootstrap=False, total= 1.7min\n",
            "[CV] n_estimators=1000, min_samples_split=5, min_samples_leaf=1, max_features=auto, max_depth=40, bootstrap=False \n",
            "[CV]  n_estimators=1000, min_samples_split=5, min_samples_leaf=1, max_features=auto, max_depth=40, bootstrap=False, total= 1.8min\n",
            "[CV] n_estimators=800, min_samples_split=10, min_samples_leaf=2, max_features=sqrt, max_depth=60, bootstrap=False \n",
            "[CV]  n_estimators=800, min_samples_split=10, min_samples_leaf=2, max_features=sqrt, max_depth=60, bootstrap=False, total= 1.3min\n",
            "[CV] n_estimators=800, min_samples_split=10, min_samples_leaf=2, max_features=sqrt, max_depth=60, bootstrap=False \n",
            "[CV]  n_estimators=800, min_samples_split=10, min_samples_leaf=2, max_features=sqrt, max_depth=60, bootstrap=False, total= 1.2min\n",
            "[CV] n_estimators=800, min_samples_split=10, min_samples_leaf=2, max_features=sqrt, max_depth=60, bootstrap=False \n",
            "[CV]  n_estimators=800, min_samples_split=10, min_samples_leaf=2, max_features=sqrt, max_depth=60, bootstrap=False, total= 1.3min\n",
            "[CV] n_estimators=1600, min_samples_split=10, min_samples_leaf=2, max_features=sqrt, max_depth=40, bootstrap=False \n",
            "[CV]  n_estimators=1600, min_samples_split=10, min_samples_leaf=2, max_features=sqrt, max_depth=40, bootstrap=False, total= 2.4min\n",
            "[CV] n_estimators=1600, min_samples_split=10, min_samples_leaf=2, max_features=sqrt, max_depth=40, bootstrap=False \n",
            "[CV]  n_estimators=1600, min_samples_split=10, min_samples_leaf=2, max_features=sqrt, max_depth=40, bootstrap=False, total= 2.5min\n",
            "[CV] n_estimators=1600, min_samples_split=10, min_samples_leaf=2, max_features=sqrt, max_depth=40, bootstrap=False \n",
            "[CV]  n_estimators=1600, min_samples_split=10, min_samples_leaf=2, max_features=sqrt, max_depth=40, bootstrap=False, total= 2.6min\n",
            "[CV] n_estimators=1400, min_samples_split=5, min_samples_leaf=4, max_features=sqrt, max_depth=30, bootstrap=True \n",
            "[CV]  n_estimators=1400, min_samples_split=5, min_samples_leaf=4, max_features=sqrt, max_depth=30, bootstrap=True, total= 1.2min\n",
            "[CV] n_estimators=1400, min_samples_split=5, min_samples_leaf=4, max_features=sqrt, max_depth=30, bootstrap=True \n",
            "[CV]  n_estimators=1400, min_samples_split=5, min_samples_leaf=4, max_features=sqrt, max_depth=30, bootstrap=True, total= 1.3min\n",
            "[CV] n_estimators=1400, min_samples_split=5, min_samples_leaf=4, max_features=sqrt, max_depth=30, bootstrap=True \n",
            "[CV]  n_estimators=1400, min_samples_split=5, min_samples_leaf=4, max_features=sqrt, max_depth=30, bootstrap=True, total= 1.3min\n",
            "[CV] n_estimators=1600, min_samples_split=10, min_samples_leaf=2, max_features=sqrt, max_depth=30, bootstrap=False \n",
            "[CV]  n_estimators=1600, min_samples_split=10, min_samples_leaf=2, max_features=sqrt, max_depth=30, bootstrap=False, total= 2.4min\n",
            "[CV] n_estimators=1600, min_samples_split=10, min_samples_leaf=2, max_features=sqrt, max_depth=30, bootstrap=False \n",
            "[CV]  n_estimators=1600, min_samples_split=10, min_samples_leaf=2, max_features=sqrt, max_depth=30, bootstrap=False, total= 2.6min\n",
            "[CV] n_estimators=1600, min_samples_split=10, min_samples_leaf=2, max_features=sqrt, max_depth=30, bootstrap=False \n",
            "[CV]  n_estimators=1600, min_samples_split=10, min_samples_leaf=2, max_features=sqrt, max_depth=30, bootstrap=False, total= 2.7min\n",
            "[CV] n_estimators=1000, min_samples_split=5, min_samples_leaf=4, max_features=auto, max_depth=30, bootstrap=False \n",
            "[CV]  n_estimators=1000, min_samples_split=5, min_samples_leaf=4, max_features=auto, max_depth=30, bootstrap=False, total= 1.5min\n",
            "[CV] n_estimators=1000, min_samples_split=5, min_samples_leaf=4, max_features=auto, max_depth=30, bootstrap=False \n",
            "[CV]  n_estimators=1000, min_samples_split=5, min_samples_leaf=4, max_features=auto, max_depth=30, bootstrap=False, total= 1.5min\n",
            "[CV] n_estimators=1000, min_samples_split=5, min_samples_leaf=4, max_features=auto, max_depth=30, bootstrap=False \n",
            "[CV]  n_estimators=1000, min_samples_split=5, min_samples_leaf=4, max_features=auto, max_depth=30, bootstrap=False, total= 1.5min\n",
            "[CV] n_estimators=1400, min_samples_split=10, min_samples_leaf=1, max_features=auto, max_depth=110, bootstrap=False \n",
            "[CV]  n_estimators=1400, min_samples_split=10, min_samples_leaf=1, max_features=auto, max_depth=110, bootstrap=False, total= 2.3min\n",
            "[CV] n_estimators=1400, min_samples_split=10, min_samples_leaf=1, max_features=auto, max_depth=110, bootstrap=False \n",
            "[CV]  n_estimators=1400, min_samples_split=10, min_samples_leaf=1, max_features=auto, max_depth=110, bootstrap=False, total= 2.4min\n",
            "[CV] n_estimators=1400, min_samples_split=10, min_samples_leaf=1, max_features=auto, max_depth=110, bootstrap=False \n",
            "[CV]  n_estimators=1400, min_samples_split=10, min_samples_leaf=1, max_features=auto, max_depth=110, bootstrap=False, total= 2.4min\n",
            "[CV] n_estimators=1200, min_samples_split=10, min_samples_leaf=2, max_features=sqrt, max_depth=80, bootstrap=False \n",
            "[CV]  n_estimators=1200, min_samples_split=10, min_samples_leaf=2, max_features=sqrt, max_depth=80, bootstrap=False, total= 1.9min\n",
            "[CV] n_estimators=1200, min_samples_split=10, min_samples_leaf=2, max_features=sqrt, max_depth=80, bootstrap=False \n",
            "[CV]  n_estimators=1200, min_samples_split=10, min_samples_leaf=2, max_features=sqrt, max_depth=80, bootstrap=False, total= 1.9min\n",
            "[CV] n_estimators=1200, min_samples_split=10, min_samples_leaf=2, max_features=sqrt, max_depth=80, bootstrap=False \n",
            "[CV]  n_estimators=1200, min_samples_split=10, min_samples_leaf=2, max_features=sqrt, max_depth=80, bootstrap=False, total= 2.0min\n",
            "[CV] n_estimators=1000, min_samples_split=2, min_samples_leaf=2, max_features=auto, max_depth=70, bootstrap=True \n",
            "[CV]  n_estimators=1000, min_samples_split=2, min_samples_leaf=2, max_features=auto, max_depth=70, bootstrap=True, total= 1.1min\n",
            "[CV] n_estimators=1000, min_samples_split=2, min_samples_leaf=2, max_features=auto, max_depth=70, bootstrap=True \n",
            "[CV]  n_estimators=1000, min_samples_split=2, min_samples_leaf=2, max_features=auto, max_depth=70, bootstrap=True, total= 1.1min\n",
            "[CV] n_estimators=1000, min_samples_split=2, min_samples_leaf=2, max_features=auto, max_depth=70, bootstrap=True \n",
            "[CV]  n_estimators=1000, min_samples_split=2, min_samples_leaf=2, max_features=auto, max_depth=70, bootstrap=True, total= 1.0min\n",
            "[CV] n_estimators=2000, min_samples_split=5, min_samples_leaf=2, max_features=auto, max_depth=90, bootstrap=True \n",
            "[CV]  n_estimators=2000, min_samples_split=5, min_samples_leaf=2, max_features=auto, max_depth=90, bootstrap=True, total= 2.0min\n",
            "[CV] n_estimators=2000, min_samples_split=5, min_samples_leaf=2, max_features=auto, max_depth=90, bootstrap=True \n",
            "[CV]  n_estimators=2000, min_samples_split=5, min_samples_leaf=2, max_features=auto, max_depth=90, bootstrap=True, total= 2.0min\n",
            "[CV] n_estimators=2000, min_samples_split=5, min_samples_leaf=2, max_features=auto, max_depth=90, bootstrap=True \n",
            "[CV]  n_estimators=2000, min_samples_split=5, min_samples_leaf=2, max_features=auto, max_depth=90, bootstrap=True, total= 2.2min\n",
            "[CV] n_estimators=1400, min_samples_split=2, min_samples_leaf=2, max_features=auto, max_depth=100, bootstrap=False \n",
            "[CV]  n_estimators=1400, min_samples_split=2, min_samples_leaf=2, max_features=auto, max_depth=100, bootstrap=False, total= 2.5min\n",
            "[CV] n_estimators=1400, min_samples_split=2, min_samples_leaf=2, max_features=auto, max_depth=100, bootstrap=False \n",
            "[CV]  n_estimators=1400, min_samples_split=2, min_samples_leaf=2, max_features=auto, max_depth=100, bootstrap=False, total= 3.1min\n",
            "[CV] n_estimators=1400, min_samples_split=2, min_samples_leaf=2, max_features=auto, max_depth=100, bootstrap=False \n",
            "[CV]  n_estimators=1400, min_samples_split=2, min_samples_leaf=2, max_features=auto, max_depth=100, bootstrap=False, total= 3.2min\n",
            "[CV] n_estimators=2000, min_samples_split=5, min_samples_leaf=4, max_features=sqrt, max_depth=100, bootstrap=True \n",
            "[CV]  n_estimators=2000, min_samples_split=5, min_samples_leaf=4, max_features=sqrt, max_depth=100, bootstrap=True, total= 2.5min\n",
            "[CV] n_estimators=2000, min_samples_split=5, min_samples_leaf=4, max_features=sqrt, max_depth=100, bootstrap=True \n",
            "[CV]  n_estimators=2000, min_samples_split=5, min_samples_leaf=4, max_features=sqrt, max_depth=100, bootstrap=True, total= 2.2min\n",
            "[CV] n_estimators=2000, min_samples_split=5, min_samples_leaf=4, max_features=sqrt, max_depth=100, bootstrap=True \n",
            "[CV]  n_estimators=2000, min_samples_split=5, min_samples_leaf=4, max_features=sqrt, max_depth=100, bootstrap=True, total= 2.3min\n",
            "[CV] n_estimators=1400, min_samples_split=10, min_samples_leaf=4, max_features=sqrt, max_depth=40, bootstrap=True \n",
            "[CV]  n_estimators=1400, min_samples_split=10, min_samples_leaf=4, max_features=sqrt, max_depth=40, bootstrap=True, total= 1.4min\n",
            "[CV] n_estimators=1400, min_samples_split=10, min_samples_leaf=4, max_features=sqrt, max_depth=40, bootstrap=True \n",
            "[CV]  n_estimators=1400, min_samples_split=10, min_samples_leaf=4, max_features=sqrt, max_depth=40, bootstrap=True, total= 1.4min\n",
            "[CV] n_estimators=1400, min_samples_split=10, min_samples_leaf=4, max_features=sqrt, max_depth=40, bootstrap=True \n",
            "[CV]  n_estimators=1400, min_samples_split=10, min_samples_leaf=4, max_features=sqrt, max_depth=40, bootstrap=True, total= 1.5min\n",
            "[CV] n_estimators=400, min_samples_split=2, min_samples_leaf=1, max_features=auto, max_depth=100, bootstrap=True \n",
            "[CV]  n_estimators=400, min_samples_split=2, min_samples_leaf=1, max_features=auto, max_depth=100, bootstrap=True, total=  30.1s\n",
            "[CV] n_estimators=400, min_samples_split=2, min_samples_leaf=1, max_features=auto, max_depth=100, bootstrap=True \n",
            "[CV]  n_estimators=400, min_samples_split=2, min_samples_leaf=1, max_features=auto, max_depth=100, bootstrap=True, total=  30.4s\n",
            "[CV] n_estimators=400, min_samples_split=2, min_samples_leaf=1, max_features=auto, max_depth=100, bootstrap=True \n",
            "[CV]  n_estimators=400, min_samples_split=2, min_samples_leaf=1, max_features=auto, max_depth=100, bootstrap=True, total=  31.5s\n",
            "[CV] n_estimators=1200, min_samples_split=5, min_samples_leaf=2, max_features=sqrt, max_depth=None, bootstrap=True \n",
            "[CV]  n_estimators=1200, min_samples_split=5, min_samples_leaf=2, max_features=sqrt, max_depth=None, bootstrap=True, total= 1.2min\n",
            "[CV] n_estimators=1200, min_samples_split=5, min_samples_leaf=2, max_features=sqrt, max_depth=None, bootstrap=True \n",
            "[CV]  n_estimators=1200, min_samples_split=5, min_samples_leaf=2, max_features=sqrt, max_depth=None, bootstrap=True, total= 1.4min\n",
            "[CV] n_estimators=1200, min_samples_split=5, min_samples_leaf=2, max_features=sqrt, max_depth=None, bootstrap=True \n",
            "[CV]  n_estimators=1200, min_samples_split=5, min_samples_leaf=2, max_features=sqrt, max_depth=None, bootstrap=True, total= 1.3min\n",
            "[CV] n_estimators=2000, min_samples_split=5, min_samples_leaf=1, max_features=auto, max_depth=100, bootstrap=False \n",
            "[CV]  n_estimators=2000, min_samples_split=5, min_samples_leaf=1, max_features=auto, max_depth=100, bootstrap=False, total= 3.9min\n",
            "[CV] n_estimators=2000, min_samples_split=5, min_samples_leaf=1, max_features=auto, max_depth=100, bootstrap=False \n",
            "[CV]  n_estimators=2000, min_samples_split=5, min_samples_leaf=1, max_features=auto, max_depth=100, bootstrap=False, total= 4.6min\n",
            "[CV] n_estimators=2000, min_samples_split=5, min_samples_leaf=1, max_features=auto, max_depth=100, bootstrap=False \n",
            "[CV]  n_estimators=2000, min_samples_split=5, min_samples_leaf=1, max_features=auto, max_depth=100, bootstrap=False, total= 3.6min\n",
            "[CV] n_estimators=1000, min_samples_split=2, min_samples_leaf=2, max_features=auto, max_depth=20, bootstrap=True \n",
            "[CV]  n_estimators=1000, min_samples_split=2, min_samples_leaf=2, max_features=auto, max_depth=20, bootstrap=True, total=  54.6s\n",
            "[CV] n_estimators=1000, min_samples_split=2, min_samples_leaf=2, max_features=auto, max_depth=20, bootstrap=True \n",
            "[CV]  n_estimators=1000, min_samples_split=2, min_samples_leaf=2, max_features=auto, max_depth=20, bootstrap=True, total= 1.0min\n",
            "[CV] n_estimators=1000, min_samples_split=2, min_samples_leaf=2, max_features=auto, max_depth=20, bootstrap=True \n",
            "[CV]  n_estimators=1000, min_samples_split=2, min_samples_leaf=2, max_features=auto, max_depth=20, bootstrap=True, total=  59.3s\n",
            "[CV] n_estimators=800, min_samples_split=5, min_samples_leaf=1, max_features=sqrt, max_depth=30, bootstrap=False \n",
            "[CV]  n_estimators=800, min_samples_split=5, min_samples_leaf=1, max_features=sqrt, max_depth=30, bootstrap=False, total= 1.4min\n",
            "[CV] n_estimators=800, min_samples_split=5, min_samples_leaf=1, max_features=sqrt, max_depth=30, bootstrap=False \n",
            "[CV]  n_estimators=800, min_samples_split=5, min_samples_leaf=1, max_features=sqrt, max_depth=30, bootstrap=False, total= 1.5min\n",
            "[CV] n_estimators=800, min_samples_split=5, min_samples_leaf=1, max_features=sqrt, max_depth=30, bootstrap=False \n",
            "[CV]  n_estimators=800, min_samples_split=5, min_samples_leaf=1, max_features=sqrt, max_depth=30, bootstrap=False, total= 1.4min\n",
            "[CV] n_estimators=400, min_samples_split=10, min_samples_leaf=4, max_features=auto, max_depth=30, bootstrap=False \n",
            "[CV]  n_estimators=400, min_samples_split=10, min_samples_leaf=4, max_features=auto, max_depth=30, bootstrap=False, total=  37.8s\n",
            "[CV] n_estimators=400, min_samples_split=10, min_samples_leaf=4, max_features=auto, max_depth=30, bootstrap=False \n",
            "[CV]  n_estimators=400, min_samples_split=10, min_samples_leaf=4, max_features=auto, max_depth=30, bootstrap=False, total=  36.7s\n",
            "[CV] n_estimators=400, min_samples_split=10, min_samples_leaf=4, max_features=auto, max_depth=30, bootstrap=False \n",
            "[CV]  n_estimators=400, min_samples_split=10, min_samples_leaf=4, max_features=auto, max_depth=30, bootstrap=False, total=  35.4s\n",
            "[CV] n_estimators=1200, min_samples_split=10, min_samples_leaf=1, max_features=auto, max_depth=100, bootstrap=False \n",
            "[CV]  n_estimators=1200, min_samples_split=10, min_samples_leaf=1, max_features=auto, max_depth=100, bootstrap=False, total= 2.0min\n",
            "[CV] n_estimators=1200, min_samples_split=10, min_samples_leaf=1, max_features=auto, max_depth=100, bootstrap=False \n",
            "[CV]  n_estimators=1200, min_samples_split=10, min_samples_leaf=1, max_features=auto, max_depth=100, bootstrap=False, total= 2.2min\n",
            "[CV] n_estimators=1200, min_samples_split=10, min_samples_leaf=1, max_features=auto, max_depth=100, bootstrap=False \n",
            "[CV]  n_estimators=1200, min_samples_split=10, min_samples_leaf=1, max_features=auto, max_depth=100, bootstrap=False, total= 2.3min\n",
            "[CV] n_estimators=1200, min_samples_split=10, min_samples_leaf=1, max_features=sqrt, max_depth=None, bootstrap=True \n",
            "[CV]  n_estimators=1200, min_samples_split=10, min_samples_leaf=1, max_features=sqrt, max_depth=None, bootstrap=True, total= 1.3min\n",
            "[CV] n_estimators=1200, min_samples_split=10, min_samples_leaf=1, max_features=sqrt, max_depth=None, bootstrap=True \n",
            "[CV]  n_estimators=1200, min_samples_split=10, min_samples_leaf=1, max_features=sqrt, max_depth=None, bootstrap=True, total= 1.3min\n",
            "[CV] n_estimators=1200, min_samples_split=10, min_samples_leaf=1, max_features=sqrt, max_depth=None, bootstrap=True \n",
            "[CV]  n_estimators=1200, min_samples_split=10, min_samples_leaf=1, max_features=sqrt, max_depth=None, bootstrap=True, total= 1.3min\n",
            "[CV] n_estimators=1600, min_samples_split=10, min_samples_leaf=1, max_features=sqrt, max_depth=10, bootstrap=False \n",
            "[CV]  n_estimators=1600, min_samples_split=10, min_samples_leaf=1, max_features=sqrt, max_depth=10, bootstrap=False, total= 1.6min\n",
            "[CV] n_estimators=1600, min_samples_split=10, min_samples_leaf=1, max_features=sqrt, max_depth=10, bootstrap=False \n",
            "[CV]  n_estimators=1600, min_samples_split=10, min_samples_leaf=1, max_features=sqrt, max_depth=10, bootstrap=False, total= 1.6min\n",
            "[CV] n_estimators=1600, min_samples_split=10, min_samples_leaf=1, max_features=sqrt, max_depth=10, bootstrap=False \n",
            "[CV]  n_estimators=1600, min_samples_split=10, min_samples_leaf=1, max_features=sqrt, max_depth=10, bootstrap=False, total= 1.6min\n",
            "[CV] n_estimators=1800, min_samples_split=5, min_samples_leaf=2, max_features=sqrt, max_depth=40, bootstrap=True \n",
            "[CV]  n_estimators=1800, min_samples_split=5, min_samples_leaf=2, max_features=sqrt, max_depth=40, bootstrap=True, total= 1.8min\n",
            "[CV] n_estimators=1800, min_samples_split=5, min_samples_leaf=2, max_features=sqrt, max_depth=40, bootstrap=True \n",
            "[CV]  n_estimators=1800, min_samples_split=5, min_samples_leaf=2, max_features=sqrt, max_depth=40, bootstrap=True, total= 2.2min\n",
            "[CV] n_estimators=1800, min_samples_split=5, min_samples_leaf=2, max_features=sqrt, max_depth=40, bootstrap=True \n",
            "[CV]  n_estimators=1800, min_samples_split=5, min_samples_leaf=2, max_features=sqrt, max_depth=40, bootstrap=True, total= 1.9min\n",
            "[CV] n_estimators=1400, min_samples_split=2, min_samples_leaf=4, max_features=sqrt, max_depth=100, bootstrap=False \n",
            "[CV]  n_estimators=1400, min_samples_split=2, min_samples_leaf=4, max_features=sqrt, max_depth=100, bootstrap=False, total= 2.5min\n",
            "[CV] n_estimators=1400, min_samples_split=2, min_samples_leaf=4, max_features=sqrt, max_depth=100, bootstrap=False \n",
            "[CV]  n_estimators=1400, min_samples_split=2, min_samples_leaf=4, max_features=sqrt, max_depth=100, bootstrap=False, total= 2.2min\n",
            "[CV] n_estimators=1400, min_samples_split=2, min_samples_leaf=4, max_features=sqrt, max_depth=100, bootstrap=False \n",
            "[CV]  n_estimators=1400, min_samples_split=2, min_samples_leaf=4, max_features=sqrt, max_depth=100, bootstrap=False, total= 2.2min\n"
          ],
          "name": "stdout"
        },
        {
          "output_type": "stream",
          "text": [
            "[Parallel(n_jobs=1)]: Done 150 out of 150 | elapsed: 233.8min finished\n"
          ],
          "name": "stderr"
        },
        {
          "output_type": "execute_result",
          "data": {
            "text/plain": [
              "RandomForestClassifier(bootstrap=False, ccp_alpha=0.0, class_weight=None,\n",
              "                       criterion='gini', max_depth=None, max_features='sqrt',\n",
              "                       max_leaf_nodes=None, max_samples=None,\n",
              "                       min_impurity_decrease=0.0, min_impurity_split=None,\n",
              "                       min_samples_leaf=1, min_samples_split=2,\n",
              "                       min_weight_fraction_leaf=0.0, n_estimators=400,\n",
              "                       n_jobs=None, oob_score=False, random_state=None,\n",
              "                       verbose=0, warm_start=False)"
            ]
          },
          "metadata": {
            "tags": []
          },
          "execution_count": 3
        }
      ]
    },
    {
      "cell_type": "markdown",
      "metadata": {
        "id": "WS5b3Cldkx0h"
      },
      "source": [
        "Description: Grid search various parameters for the Random Forest classifier to find the parameter combination which yields the best recall. Use stratified k-fold for uneven distribution of classes\n"
      ]
    },
    {
      "cell_type": "code",
      "metadata": {
        "id": "MC_or8VFkHDF",
        "colab": {
          "base_uri": "https://localhost:8080/",
          "height": 450
        },
        "outputId": "397441ca-62d3-44ba-9808-7b7ed5efe6eb"
      },
      "source": [
        "## Create Recall RF Table\n",
        "#Use the best parameters\n",
        "from sklearn.model_selection import StratifiedKFold\n",
        "from sklearn.model_selection import cross_validate\n",
        "cv = StratifiedKFold(n_splits=10,shuffle=True, random_state=0)\n",
        "def EvaluateClassifierEstimator(classifierEstimator, X, y, cv):\n",
        "   \n",
        "    #Perform cross validation \n",
        "    scores = cross_validate(classifierEstimator, scaled_Xc, yc, scoring=['accuracy','precision','recall']\n",
        "                            , cv=cv, return_train_score=True)\n",
        "\n",
        "    Accavg = scores['test_accuracy'].mean()\n",
        "    Preavg = scores['test_precision'].mean()\n",
        "    Recavg = scores['test_recall'].mean()\n",
        "\n",
        "    print(\"The average accuracy for all cv folds is:\", Accavg)\n",
        "    print(\"The average precision for all cv folds is:\", Preavg)\n",
        "    print(\"The average recall for all cv folds is:\", Recavg)\n",
        "    \n",
        "   \n",
        "    print('*********************************************************')\n",
        "\n",
        "    print('Cross Validation Fold Mean Error Scores')\n",
        "    scoresResults = pd.DataFrame()\n",
        "    scoresResults['Accuracy'] = scores['test_accuracy']\n",
        "    scoresResults['Precision'] = scores['test_precision']\n",
        "    scoresResults['Recall'] = scores['test_recall']\n",
        "    return scoresResults\n",
        "\n",
        "\n",
        "classifierEst = rf_recall.best_estimator_\n",
        "\n",
        "\n",
        "#Evaluate the estimator above using our pre-defined cross validation and scoring metrics. \n",
        "EvaluateClassifierEstimator(classifierEst, scaled_Xc, yc, cv)"
      ],
      "execution_count": null,
      "outputs": [
        {
          "output_type": "stream",
          "text": [
            "The average accuracy for all cv folds is: 0.922977858980617\n",
            "The average precision for all cv folds is: 0.5472975498889184\n",
            "The average recall for all cv folds is: 0.22537058301581503\n",
            "*********************************************************\n",
            "Cross Validation Fold Mean Error Scores\n"
          ],
          "name": "stdout"
        },
        {
          "output_type": "execute_result",
          "data": {
            "text/html": [
              "<div>\n",
              "<style scoped>\n",
              "    .dataframe tbody tr th:only-of-type {\n",
              "        vertical-align: middle;\n",
              "    }\n",
              "\n",
              "    .dataframe tbody tr th {\n",
              "        vertical-align: top;\n",
              "    }\n",
              "\n",
              "    .dataframe thead th {\n",
              "        text-align: right;\n",
              "    }\n",
              "</style>\n",
              "<table border=\"1\" class=\"dataframe\">\n",
              "  <thead>\n",
              "    <tr style=\"text-align: right;\">\n",
              "      <th></th>\n",
              "      <th>Accuracy</th>\n",
              "      <th>Precision</th>\n",
              "      <th>Recall</th>\n",
              "    </tr>\n",
              "  </thead>\n",
              "  <tbody>\n",
              "    <tr>\n",
              "      <th>0</th>\n",
              "      <td>0.920450</td>\n",
              "      <td>0.508876</td>\n",
              "      <td>0.219388</td>\n",
              "    </tr>\n",
              "    <tr>\n",
              "      <th>1</th>\n",
              "      <td>0.922904</td>\n",
              "      <td>0.547771</td>\n",
              "      <td>0.219388</td>\n",
              "    </tr>\n",
              "    <tr>\n",
              "      <th>2</th>\n",
              "      <td>0.921268</td>\n",
              "      <td>0.521212</td>\n",
              "      <td>0.219388</td>\n",
              "    </tr>\n",
              "    <tr>\n",
              "      <th>3</th>\n",
              "      <td>0.921881</td>\n",
              "      <td>0.534247</td>\n",
              "      <td>0.198980</td>\n",
              "    </tr>\n",
              "    <tr>\n",
              "      <th>4</th>\n",
              "      <td>0.925971</td>\n",
              "      <td>0.589286</td>\n",
              "      <td>0.252551</td>\n",
              "    </tr>\n",
              "    <tr>\n",
              "      <th>5</th>\n",
              "      <td>0.924115</td>\n",
              "      <td>0.565789</td>\n",
              "      <td>0.219949</td>\n",
              "    </tr>\n",
              "    <tr>\n",
              "      <th>6</th>\n",
              "      <td>0.923093</td>\n",
              "      <td>0.544910</td>\n",
              "      <td>0.232737</td>\n",
              "    </tr>\n",
              "    <tr>\n",
              "      <th>7</th>\n",
              "      <td>0.921456</td>\n",
              "      <td>0.525641</td>\n",
              "      <td>0.209184</td>\n",
              "    </tr>\n",
              "    <tr>\n",
              "      <th>8</th>\n",
              "      <td>0.924934</td>\n",
              "      <td>0.583893</td>\n",
              "      <td>0.221939</td>\n",
              "    </tr>\n",
              "    <tr>\n",
              "      <th>9</th>\n",
              "      <td>0.923706</td>\n",
              "      <td>0.551351</td>\n",
              "      <td>0.260204</td>\n",
              "    </tr>\n",
              "  </tbody>\n",
              "</table>\n",
              "</div>"
            ],
            "text/plain": [
              "   Accuracy  Precision    Recall\n",
              "0  0.920450   0.508876  0.219388\n",
              "1  0.922904   0.547771  0.219388\n",
              "2  0.921268   0.521212  0.219388\n",
              "3  0.921881   0.534247  0.198980\n",
              "4  0.925971   0.589286  0.252551\n",
              "5  0.924115   0.565789  0.219949\n",
              "6  0.923093   0.544910  0.232737\n",
              "7  0.921456   0.525641  0.209184\n",
              "8  0.924934   0.583893  0.221939\n",
              "9  0.923706   0.551351  0.260204"
            ]
          },
          "metadata": {
            "tags": []
          },
          "execution_count": 9
        }
      ]
    },
    {
      "cell_type": "markdown",
      "metadata": {
        "id": "w6rJMD6mk4KX"
      },
      "source": [
        "Description:\n",
        "10 fold K-stratified cross validation of our best Recall Random Forest classifier from our hypertuning. Calculated and display our three major metrics for classification, Accuracy, Precision, and Recall."
      ]
    },
    {
      "cell_type": "code",
      "metadata": {
        "id": "i2_5Kq4jBKxK"
      },
      "source": [
        "#### Hard Coding in the best classifying RF and KNN models so hypertuning does not need to be re-run each session.\n",
        "### The parameters are copy and pasted from the output above in each respected model.\n",
        "### cuts down on time since hypertuning takes hours and helps us utilize our best models for plotting and comparing.\n",
        "\n",
        "from sklearn.neighbors import KNeighborsClassifier\n",
        "from sklearn.ensemble import RandomForestClassifier\n",
        "\n",
        "RF_accuracy = RandomForestClassifier(bootstrap=True, ccp_alpha=0.0, class_weight=None, criterion='gini',\n",
        "                      max_depth=40, max_features='sqrt', max_leaf_nodes=None,\n",
        "                      max_samples=None, min_impurity_decrease=0.0,\n",
        "                      min_impurity_split=None, min_samples_leaf=1,\n",
        "                      min_samples_split=10, min_weight_fraction_leaf=0.0,\n",
        "                      n_estimators=400, n_jobs=None, oob_score=False,\n",
        "                      random_state=None, verbose=0, warm_start=False) \n",
        "\n",
        "RF_recall = RandomForestClassifier(bootstrap=False, ccp_alpha=0.0, class_weight=None,\n",
        "                       criterion='gini', max_depth=None, max_features='sqrt',\n",
        "                       max_leaf_nodes=None, max_samples=None,\n",
        "                       min_impurity_decrease=0.0, min_impurity_split=None,\n",
        "                       min_samples_leaf=1, min_samples_split=2,\n",
        "                       min_weight_fraction_leaf=0.0, n_estimators=400,\n",
        "                       n_jobs=None, oob_score=False, random_state=None,\n",
        "                       verbose=0, warm_start=False)\n",
        "\n",
        "Knn_accuracy = KNeighborsClassifier(algorithm='auto', leaf_size=30, metric='manhattan',\n",
        "                     metric_params=None, n_jobs=None, n_neighbors=10, p=2,\n",
        "                     weights='uniform')\n",
        "\n",
        "Knn_recall = KNeighborsClassifier(algorithm='auto', leaf_size=30, metric='manhattan',\n",
        "                     metric_params=None, n_jobs=None, n_neighbors=5, p=2,\n",
        "                     weights='uniform')\n",
        "\n",
        "\n"
      ],
      "execution_count": null,
      "outputs": []
    },
    {
      "cell_type": "markdown",
      "metadata": {
        "id": "SQ326CBWKIBd"
      },
      "source": [
        "# Regression"
      ]
    },
    {
      "cell_type": "markdown",
      "metadata": {
        "id": "PgQpKs_XPn3a"
      },
      "source": [
        "### Linear Regression"
      ]
    },
    {
      "cell_type": "code",
      "metadata": {
        "id": "RJ9o2sDjKNDI",
        "colab": {
          "base_uri": "https://localhost:8080/",
          "height": 789
        },
        "outputId": "063948d1-406b-4661-c53b-97070743e4dc"
      },
      "source": [
        "# THOMAS'S CODE: Linear Regression\n",
        "\n",
        "\n",
        "from sklearn.model_selection import KFold\n",
        "cv = KFold(n_splits=2,shuffle=True,random_state=25)\n",
        "\n",
        "\n",
        "parameters = { 'fit_intercept':[True,False],\n",
        "              'normalize': [True,False],}\n",
        "\n",
        "from sklearn.metrics import mean_absolute_error\n",
        "\n",
        "#Create a grid search object using the  \n",
        "from sklearn.model_selection import GridSearchCV\n",
        "from sklearn.linear_model import LinearRegression\n",
        "regGridSearch = GridSearchCV(estimator=LinearRegression()\n",
        "                   , n_jobs=8 # jobs to run in parallel\n",
        "                   , verbose=1 # low verbosity\n",
        "                   , param_grid=parameters\n",
        "                   , cv=cv # KFolds = 10\n",
        "                   , scoring='neg_mean_absolute_error')\n",
        "\n",
        "from sklearn.preprocessing import StandardScaler\n",
        "#Fit to data for scaling\n",
        "scaler = StandardScaler()\n",
        "scaler.fit(Xr)\n",
        "Xr_scale = scaler.transform(Xr)\n",
        "\n",
        "regGridSearch.fit(Xr_scale, yr)\n",
        "\n",
        "#Display the top model parameters\n",
        "regGridSearch.best_estimator_\n",
        "\n",
        "\n",
        "\n",
        "\n",
        "\n",
        "\n",
        "from sklearn.metrics import mean_absolute_error, make_scorer, mean_squared_error\n",
        "\n",
        "#Function for Root mean squared error\n",
        "#https://stackoverflow.com/questions/17197492/root-mean-square-error-in-python\n",
        "def rmse(y_actual, y_predicted):\n",
        "    return np.sqrt(mean_squared_error(y_actual, y_predicted))\n",
        "\n",
        "#Function for Mean Absolute Percentage Error (MAPE) - Untested\n",
        "#Adapted from - https://stackoverflow.com/questions/42250958/how-to-optimize-mape-code-in-python\n",
        "def mape(y_actual, y_predicted): \n",
        "    mask = y_actual != 0\n",
        "    return (np.fabs(y_actual - y_predicted)/y_actual)[mask].mean() * 100\n",
        "\n",
        "#Create scorers for rmse and mape functions\n",
        "mae_scorer = make_scorer(score_func=mean_absolute_error, greater_is_better=False)\n",
        "rmse_scorer = make_scorer(score_func=rmse, greater_is_better=False)\n",
        "mape_scorer = make_scorer(score_func=mape, greater_is_better=False)\n",
        "\n",
        "#Make scorer array to pass into cross_validate() function for producing mutiple scores for each cv fold.\n",
        "errorScoring = {'MAE':  mae_scorer, \n",
        "                'RMSE': rmse_scorer,\n",
        "                'MAPE': mape_scorer\n",
        "               } \n",
        "\n",
        "\n",
        "\n",
        "\n",
        "\n",
        "\n",
        "\n",
        "\n",
        "from sklearn.model_selection import cross_validate\n",
        "\n",
        "def EvaluateRegressionEstimator(regEstimator, X, y, cv):\n",
        "    \n",
        "    scores = cross_validate(regEstimator, X, y, scoring=errorScoring, cv=cv, return_train_score=True)\n",
        "\n",
        "    #cross val score sign-flips the outputs of MAE\n",
        "    # https://github.com/scikit-learn/scikit-learn/issues/2439\n",
        "    scores['test_MAE'] = scores['test_MAE'] * -1\n",
        "    scores['test_MAPE'] = scores['test_MAPE'] * -1\n",
        "    scores['test_RMSE'] = scores['test_RMSE'] * -1\n",
        "\n",
        "    #print mean MAE for all folds \n",
        "    maeAvg = scores['test_MAE'].mean()\n",
        "    print_str = \"The average MAE for all cv folds is: \\t\\t\\t {maeAvg:.5}\"\n",
        "    print(print_str.format(maeAvg=maeAvg))\n",
        "\n",
        "    #print mean test_MAPE for all folds\n",
        "    scores['test_MAPE'] = scores['test_MAPE']\n",
        "    mape_avg = scores['test_MAPE'].mean()\n",
        "    print_str = \"The average MAE percentage (MAPE) for all cv folds is: \\t {mape_avg:.5}\"\n",
        "    print(print_str.format(mape_avg=mape_avg))\n",
        "\n",
        "    #print mean MAE for all folds \n",
        "    RMSEavg = scores['test_RMSE'].mean()\n",
        "    print_str = \"The average RMSE for all cv folds is: \\t\\t\\t {RMSEavg:.5}\"\n",
        "    print(print_str.format(RMSEavg=RMSEavg))\n",
        "    print('*********************************************************')\n",
        "\n",
        "    print('Cross Validation Fold Mean Error Scores')\n",
        "    scoresResults = pd.DataFrame()\n",
        "    scoresResults['MAE'] = scores['test_MAE']\n",
        "    scoresResults['MAPE'] = scores['test_MAPE']\n",
        "    scoresResults['RMSE'] = scores['test_RMSE']\n",
        "    return scoresResults\n",
        "\n",
        "#Use the best parameters for our Linear Regression object\n",
        "regressionEst = regGridSearch.best_estimator_\n",
        "\n",
        "cv = KFold(n_splits=10,shuffle=True,random_state=25)\n",
        "\n",
        "#Evaluate the regression estimator above using our pre-defined cross validation and scoring metrics. \n",
        "EvaluateRegressionEstimator(regressionEst, Xr_scale, yr, cv)"
      ],
      "execution_count": null,
      "outputs": [
        {
          "output_type": "stream",
          "text": [
            "Fitting 2 folds for each of 4 candidates, totalling 8 fits\n"
          ],
          "name": "stdout"
        },
        {
          "output_type": "stream",
          "text": [
            "[Parallel(n_jobs=8)]: Using backend LokyBackend with 8 concurrent workers.\n",
            "[Parallel(n_jobs=8)]: Done   2 out of   8 | elapsed:    5.7s remaining:   17.2s\n",
            "[Parallel(n_jobs=8)]: Done   8 out of   8 | elapsed:    8.0s finished\n",
            "/usr/local/lib/python3.6/dist-packages/ipykernel_launcher.py:51: RuntimeWarning: divide by zero encountered in true_divide\n",
            "/usr/local/lib/python3.6/dist-packages/ipykernel_launcher.py:51: RuntimeWarning: divide by zero encountered in true_divide\n",
            "/usr/local/lib/python3.6/dist-packages/ipykernel_launcher.py:51: RuntimeWarning: divide by zero encountered in true_divide\n",
            "/usr/local/lib/python3.6/dist-packages/ipykernel_launcher.py:51: RuntimeWarning: divide by zero encountered in true_divide\n",
            "/usr/local/lib/python3.6/dist-packages/ipykernel_launcher.py:51: RuntimeWarning: divide by zero encountered in true_divide\n",
            "/usr/local/lib/python3.6/dist-packages/ipykernel_launcher.py:51: RuntimeWarning: divide by zero encountered in true_divide\n",
            "/usr/local/lib/python3.6/dist-packages/ipykernel_launcher.py:51: RuntimeWarning: divide by zero encountered in true_divide\n",
            "/usr/local/lib/python3.6/dist-packages/ipykernel_launcher.py:51: RuntimeWarning: divide by zero encountered in true_divide\n",
            "/usr/local/lib/python3.6/dist-packages/ipykernel_launcher.py:51: RuntimeWarning: divide by zero encountered in true_divide\n",
            "/usr/local/lib/python3.6/dist-packages/ipykernel_launcher.py:51: RuntimeWarning: divide by zero encountered in true_divide\n",
            "/usr/local/lib/python3.6/dist-packages/ipykernel_launcher.py:51: RuntimeWarning: divide by zero encountered in true_divide\n",
            "/usr/local/lib/python3.6/dist-packages/ipykernel_launcher.py:51: RuntimeWarning: divide by zero encountered in true_divide\n",
            "/usr/local/lib/python3.6/dist-packages/ipykernel_launcher.py:51: RuntimeWarning: divide by zero encountered in true_divide\n",
            "/usr/local/lib/python3.6/dist-packages/ipykernel_launcher.py:51: RuntimeWarning: divide by zero encountered in true_divide\n"
          ],
          "name": "stderr"
        },
        {
          "output_type": "stream",
          "text": [
            "The average MAE for all cv folds is: \t\t\t 2.083e+12\n",
            "The average MAE percentage (MAPE) for all cv folds is: \t 2.3374e+12\n",
            "The average RMSE for all cv folds is: \t\t\t 1.4565e+14\n",
            "*********************************************************\n",
            "Cross Validation Fold Mean Error Scores\n"
          ],
          "name": "stdout"
        },
        {
          "output_type": "stream",
          "text": [
            "/usr/local/lib/python3.6/dist-packages/ipykernel_launcher.py:51: RuntimeWarning: divide by zero encountered in true_divide\n",
            "/usr/local/lib/python3.6/dist-packages/ipykernel_launcher.py:51: RuntimeWarning: divide by zero encountered in true_divide\n"
          ],
          "name": "stderr"
        },
        {
          "output_type": "execute_result",
          "data": {
            "text/html": [
              "<div>\n",
              "<style scoped>\n",
              "    .dataframe tbody tr th:only-of-type {\n",
              "        vertical-align: middle;\n",
              "    }\n",
              "\n",
              "    .dataframe tbody tr th {\n",
              "        vertical-align: top;\n",
              "    }\n",
              "\n",
              "    .dataframe thead th {\n",
              "        text-align: right;\n",
              "    }\n",
              "</style>\n",
              "<table border=\"1\" class=\"dataframe\">\n",
              "  <thead>\n",
              "    <tr style=\"text-align: right;\">\n",
              "      <th></th>\n",
              "      <th>MAE</th>\n",
              "      <th>MAPE</th>\n",
              "      <th>RMSE</th>\n",
              "    </tr>\n",
              "  </thead>\n",
              "  <tbody>\n",
              "    <tr>\n",
              "      <th>0</th>\n",
              "      <td>7.111330e+01</td>\n",
              "      <td>5.152457e+01</td>\n",
              "      <td>2.375898e+02</td>\n",
              "    </tr>\n",
              "    <tr>\n",
              "      <th>1</th>\n",
              "      <td>1.349203e+12</td>\n",
              "      <td>1.928222e+11</td>\n",
              "      <td>9.434781e+13</td>\n",
              "    </tr>\n",
              "    <tr>\n",
              "      <th>2</th>\n",
              "      <td>9.226249e+11</td>\n",
              "      <td>3.706837e+11</td>\n",
              "      <td>6.451780e+13</td>\n",
              "    </tr>\n",
              "    <tr>\n",
              "      <th>3</th>\n",
              "      <td>7.206373e+01</td>\n",
              "      <td>5.050810e+01</td>\n",
              "      <td>2.617477e+02</td>\n",
              "    </tr>\n",
              "    <tr>\n",
              "      <th>4</th>\n",
              "      <td>2.562583e+12</td>\n",
              "      <td>3.416778e+12</td>\n",
              "      <td>1.791977e+14</td>\n",
              "    </tr>\n",
              "    <tr>\n",
              "      <th>5</th>\n",
              "      <td>6.655362e+01</td>\n",
              "      <td>5.063035e+01</td>\n",
              "      <td>1.564452e+02</td>\n",
              "    </tr>\n",
              "    <tr>\n",
              "      <th>6</th>\n",
              "      <td>7.268519e+01</td>\n",
              "      <td>5.218904e+01</td>\n",
              "      <td>2.570636e+02</td>\n",
              "    </tr>\n",
              "    <tr>\n",
              "      <th>7</th>\n",
              "      <td>2.408621e+11</td>\n",
              "      <td>4.226515e+11</td>\n",
              "      <td>1.684141e+13</td>\n",
              "    </tr>\n",
              "    <tr>\n",
              "      <th>8</th>\n",
              "      <td>1.469418e+13</td>\n",
              "      <td>1.883869e+13</td>\n",
              "      <td>1.027437e+15</td>\n",
              "    </tr>\n",
              "    <tr>\n",
              "      <th>9</th>\n",
              "      <td>1.060987e+12</td>\n",
              "      <td>1.326776e+11</td>\n",
              "      <td>7.418567e+13</td>\n",
              "    </tr>\n",
              "  </tbody>\n",
              "</table>\n",
              "</div>"
            ],
            "text/plain": [
              "            MAE          MAPE          RMSE\n",
              "0  7.111330e+01  5.152457e+01  2.375898e+02\n",
              "1  1.349203e+12  1.928222e+11  9.434781e+13\n",
              "2  9.226249e+11  3.706837e+11  6.451780e+13\n",
              "3  7.206373e+01  5.050810e+01  2.617477e+02\n",
              "4  2.562583e+12  3.416778e+12  1.791977e+14\n",
              "5  6.655362e+01  5.063035e+01  1.564452e+02\n",
              "6  7.268519e+01  5.218904e+01  2.570636e+02\n",
              "7  2.408621e+11  4.226515e+11  1.684141e+13\n",
              "8  1.469418e+13  1.883869e+13  1.027437e+15\n",
              "9  1.060987e+12  1.326776e+11  7.418567e+13"
            ]
          },
          "metadata": {
            "tags": []
          },
          "execution_count": 2
        }
      ]
    },
    {
      "cell_type": "markdown",
      "metadata": {
        "id": "18eq2ETlbGAX"
      },
      "source": [
        "Description:<br>Linear Regression is simpler model that was tested first using all possible parameters using GridSearch and then cross validated with 10 folds and random state of 25. The results are rather bad, telling us more complex algorithms will be needed to predict price."
      ]
    },
    {
      "cell_type": "markdown",
      "metadata": {
        "id": "4CGby0gh9EGI"
      },
      "source": [
        "### KnieghborRegression"
      ]
    },
    {
      "cell_type": "code",
      "metadata": {
        "id": "hyYiaaDF9JgF",
        "colab": {
          "base_uri": "https://localhost:8080/",
          "height": 211
        },
        "outputId": "33b34df1-ef20-4cc1-fc1f-5bdf89555e23"
      },
      "source": [
        "# THOMAS'S CODE: Kneighbors Regression\n",
        "\n",
        "from sklearn.model_selection import KFold\n",
        "cv = KFold(n_splits=2,shuffle=True,random_state=25)\n",
        "\n",
        "parameters = { \n",
        "    'n_neighbors':[15,21,35],\n",
        "    'algorithm':['auto','ball_tree','kd_tree','brute']\n",
        "    }\n",
        "\n",
        "from sklearn.metrics import mean_absolute_error\n",
        "\n",
        "#Create a grid search object using the  \n",
        "from sklearn.model_selection import GridSearchCV\n",
        "from sklearn.neighbors import KNeighborsRegressor\n",
        "kregGridSearch = GridSearchCV(estimator=KNeighborsRegressor(n_jobs=-1)\n",
        "                   , n_jobs=8 # jobs to run in parallel\n",
        "                   , verbose=1 # low verbosity\n",
        "                   , param_grid=parameters\n",
        "                   , cv=cv\n",
        "                   , scoring='neg_mean_absolute_error')\n",
        "\n",
        "from sklearn.preprocessing import StandardScaler\n",
        "#Fit to data for scaling\n",
        "scaler = StandardScaler()\n",
        "scaler.fit(Xr)\n",
        "Xr_scale = scaler.transform(Xr)\n",
        "\n",
        "kregGridSearch.fit(Xr_scale, yr)\n",
        "\n",
        "#Top model parameters\n",
        "kregGridSearch.best_estimator_"
      ],
      "execution_count": null,
      "outputs": [
        {
          "output_type": "stream",
          "text": [
            "Fitting 2 folds for each of 12 candidates, totalling 24 fits\n"
          ],
          "name": "stdout"
        },
        {
          "output_type": "stream",
          "text": [
            "/usr/local/lib/python3.6/dist-packages/sklearn/model_selection/_split.py:667: UserWarning: The least populated class in y has only 1 members, which is less than n_splits=2.\n",
            "  % (min_groups, self.n_splits)), UserWarning)\n",
            "[Parallel(n_jobs=8)]: Using backend LokyBackend with 8 concurrent workers.\n",
            "/usr/local/lib/python3.6/dist-packages/joblib/externals/loky/process_executor.py:691: UserWarning: A worker stopped while some jobs were given to the executor. This can be caused by a too short worker timeout or by a memory leak.\n",
            "  \"timeout or by a memory leak.\", UserWarning\n",
            "[Parallel(n_jobs=8)]: Done  24 out of  24 | elapsed: 47.2min finished\n"
          ],
          "name": "stderr"
        },
        {
          "output_type": "execute_result",
          "data": {
            "text/plain": [
              "KNeighborsRegressor(algorithm='auto', leaf_size=30, metric='minkowski',\n",
              "                    metric_params=None, n_jobs=-1, n_neighbors=21, p=2,\n",
              "                    weights='uniform')"
            ]
          },
          "metadata": {
            "tags": []
          },
          "execution_count": 15
        }
      ]
    },
    {
      "cell_type": "markdown",
      "metadata": {
        "id": "Y0l7ap-_vEwj"
      },
      "source": [
        "Description: Code for GridSearch enacted using various neighbors and algorithms."
      ]
    },
    {
      "cell_type": "code",
      "metadata": {
        "id": "AqZpKUOOowEB",
        "colab": {
          "base_uri": "https://localhost:8080/",
          "height": 69
        },
        "outputId": "373cedec-9806-4fc5-bb4c-95844d8881ae"
      },
      "source": [
        "kregGridSearch.best_estimator_"
      ],
      "execution_count": null,
      "outputs": [
        {
          "output_type": "execute_result",
          "data": {
            "text/plain": [
              "KNeighborsRegressor(algorithm='auto', leaf_size=30, metric='minkowski',\n",
              "                    metric_params=None, n_jobs=-1, n_neighbors=21, p=2,\n",
              "                    weights='uniform')"
            ]
          },
          "metadata": {
            "tags": []
          },
          "execution_count": 16
        }
      ]
    },
    {
      "cell_type": "markdown",
      "metadata": {
        "id": "dbICfDzrvRFg"
      },
      "source": [
        "Description: Best estimator printed for reference.(from Grid Search)"
      ]
    },
    {
      "cell_type": "code",
      "metadata": {
        "id": "YT9Ya8l6sCGS"
      },
      "source": [
        "from sklearn.metrics import mean_absolute_error, make_scorer, mean_squared_error\n",
        "\n",
        "#Function for Root mean squared error\n",
        "#https://stackoverflow.com/questions/17197492/root-mean-square-error-in-python\n",
        "def rmse(y_actual, y_predicted):\n",
        "    return np.sqrt(mean_squared_error(y_actual, y_predicted))\n",
        "\n",
        "#Function for Mean Absolute Percentage Error (MAPE) - Untested\n",
        "#Adapted from - https://stackoverflow.com/questions/42250958/how-to-optimize-mape-code-in-python\n",
        "def mape(y_actual, y_predicted): \n",
        "    mask = y_actual != 0\n",
        "    return (np.fabs(y_actual - y_predicted)/y_actual)[mask].mean() * 100\n",
        "\n",
        "#Create scorers for rmse and mape functions\n",
        "mae_scorer = make_scorer(score_func=mean_absolute_error, greater_is_better=False)\n",
        "rmse_scorer = make_scorer(score_func=rmse, greater_is_better=False)\n",
        "mape_scorer = make_scorer(score_func=mape, greater_is_better=False)\n",
        "\n",
        "#Make scorer array to pass into cross_validate() function for producing mutiple scores for each cv fold.\n",
        "errorScoring = {'MAE':  mae_scorer, \n",
        "                'RMSE': rmse_scorer,\n",
        "                'MAPE': mape_scorer\n",
        "               } \n",
        "\n",
        "from sklearn.model_selection import cross_validate\n",
        "\n",
        "def EvaluateRegressionEstimator(regEstimator, X, y, cv):\n",
        "    \n",
        "    scores = cross_validate(regEstimator, X, y, scoring=errorScoring, cv=cv, return_train_score=True)\n",
        "\n",
        "    #cross val score sign-flips the outputs of MAE\n",
        "    # https://github.com/scikit-learn/scikit-learn/issues/2439\n",
        "    scores['test_MAE'] = scores['test_MAE'] * -1\n",
        "    scores['test_MAPE'] = scores['test_MAPE'] * -1\n",
        "    scores['test_RMSE'] = scores['test_RMSE'] * -1\n",
        "\n",
        "    #print mean MAE for all folds \n",
        "    maeAvg = scores['test_MAE'].mean()\n",
        "    print_str = \"The average MAE for all cv folds is: \\t\\t\\t {maeAvg:.5}\"\n",
        "    print(print_str.format(maeAvg=maeAvg))\n",
        "\n",
        "    #print mean test_MAPE for all folds\n",
        "    scores['test_MAPE'] = scores['test_MAPE']\n",
        "    mape_avg = scores['test_MAPE'].mean()\n",
        "    print_str = \"The average MAE percentage (MAPE) for all cv folds is: \\t {mape_avg:.5}\"\n",
        "    print(print_str.format(mape_avg=mape_avg))\n",
        "\n",
        "    #print mean MAE for all folds \n",
        "    RMSEavg = scores['test_RMSE'].mean()\n",
        "    print_str = \"The average RMSE for all cv folds is: \\t\\t\\t {RMSEavg:.5}\"\n",
        "    print(print_str.format(RMSEavg=RMSEavg))\n",
        "    print('*********************************************************')\n",
        "\n",
        "    print('Cross Validation Fold Mean Error Scores')\n",
        "    scoresResults = pd.DataFrame()\n",
        "    scoresResults['MAE'] = scores['test_MAE']\n",
        "    scoresResults['MAPE'] = scores['test_MAPE']\n",
        "    scoresResults['RMSE'] = scores['test_RMSE']\n",
        "    return scoresResults"
      ],
      "execution_count": null,
      "outputs": []
    },
    {
      "cell_type": "markdown",
      "metadata": {
        "id": "B31pvV3Bva2L"
      },
      "source": [
        "Description: Metrics function from Jake Drew added to code."
      ]
    },
    {
      "cell_type": "code",
      "metadata": {
        "id": "9V776rjIoHfO",
        "colab": {
          "base_uri": "https://localhost:8080/",
          "height": 1000
        },
        "outputId": "ad8eb31f-1e1a-4fa4-dcf2-3de0a841ff8f"
      },
      "source": [
        "from sklearn.neighbors import KNeighborsRegressor\n",
        "#Use the best parameters for our KNeighbors Regression object\n",
        "regressionEst = KNeighborsRegressor(algorithm='auto', leaf_size=30, metric='minkowski',\n",
        "                    metric_params=None, n_jobs=-1, n_neighbors=21, p=2,\n",
        "                    weights='uniform')\n",
        "\n",
        "from sklearn.model_selection import StratifiedKFold\n",
        "cv = StratifiedKFold(n_splits=10,shuffle=True, random_state=0)\n",
        "\n",
        "from sklearn.preprocessing import StandardScaler\n",
        "#Fit to data for scaling\n",
        "scaler = StandardScaler()\n",
        "scaler.fit(Xr)\n",
        "Xr_scale = scaler.transform(Xr)\n",
        "\n",
        "from sklearn.model_selection import KFold\n",
        "cv = KFold(n_splits=10,shuffle=True,random_state=25)\n",
        "\n",
        "#Evaluate the regression estimator above using our pre-defined cross validation and scoring metrics. \n",
        "EvaluateRegressionEstimator(regressionEst, Xr_scale, yr, cv)"
      ],
      "execution_count": null,
      "outputs": [
        {
          "output_type": "stream",
          "text": [
            "/usr/local/lib/python3.6/dist-packages/sklearn/model_selection/_split.py:667: UserWarning: The least populated class in y has only 1 members, which is less than n_splits=10.\n",
            "  % (min_groups, self.n_splits)), UserWarning)\n",
            "/usr/local/lib/python3.6/dist-packages/ipykernel_launcher.py:12: RuntimeWarning: divide by zero encountered in true_divide\n",
            "  if sys.path[0] == '':\n",
            "/usr/local/lib/python3.6/dist-packages/ipykernel_launcher.py:12: RuntimeWarning: divide by zero encountered in true_divide\n",
            "  if sys.path[0] == '':\n",
            "/usr/local/lib/python3.6/dist-packages/ipykernel_launcher.py:12: RuntimeWarning: divide by zero encountered in true_divide\n",
            "  if sys.path[0] == '':\n",
            "/usr/local/lib/python3.6/dist-packages/ipykernel_launcher.py:12: RuntimeWarning: divide by zero encountered in true_divide\n",
            "  if sys.path[0] == '':\n",
            "/usr/local/lib/python3.6/dist-packages/ipykernel_launcher.py:12: RuntimeWarning: divide by zero encountered in true_divide\n",
            "  if sys.path[0] == '':\n",
            "/usr/local/lib/python3.6/dist-packages/ipykernel_launcher.py:12: RuntimeWarning: divide by zero encountered in true_divide\n",
            "  if sys.path[0] == '':\n",
            "/usr/local/lib/python3.6/dist-packages/ipykernel_launcher.py:12: RuntimeWarning: divide by zero encountered in true_divide\n",
            "  if sys.path[0] == '':\n",
            "/usr/local/lib/python3.6/dist-packages/ipykernel_launcher.py:12: RuntimeWarning: divide by zero encountered in true_divide\n",
            "  if sys.path[0] == '':\n",
            "/usr/local/lib/python3.6/dist-packages/ipykernel_launcher.py:12: RuntimeWarning: divide by zero encountered in true_divide\n",
            "  if sys.path[0] == '':\n",
            "/usr/local/lib/python3.6/dist-packages/ipykernel_launcher.py:12: RuntimeWarning: divide by zero encountered in true_divide\n",
            "  if sys.path[0] == '':\n",
            "/usr/local/lib/python3.6/dist-packages/ipykernel_launcher.py:12: RuntimeWarning: divide by zero encountered in true_divide\n",
            "  if sys.path[0] == '':\n",
            "/usr/local/lib/python3.6/dist-packages/ipykernel_launcher.py:12: RuntimeWarning: divide by zero encountered in true_divide\n",
            "  if sys.path[0] == '':\n",
            "/usr/local/lib/python3.6/dist-packages/ipykernel_launcher.py:12: RuntimeWarning: divide by zero encountered in true_divide\n",
            "  if sys.path[0] == '':\n",
            "/usr/local/lib/python3.6/dist-packages/ipykernel_launcher.py:12: RuntimeWarning: divide by zero encountered in true_divide\n",
            "  if sys.path[0] == '':\n",
            "/usr/local/lib/python3.6/dist-packages/ipykernel_launcher.py:12: RuntimeWarning: divide by zero encountered in true_divide\n",
            "  if sys.path[0] == '':\n",
            "/usr/local/lib/python3.6/dist-packages/ipykernel_launcher.py:12: RuntimeWarning: divide by zero encountered in true_divide\n",
            "  if sys.path[0] == '':\n",
            "/usr/local/lib/python3.6/dist-packages/ipykernel_launcher.py:12: RuntimeWarning: divide by zero encountered in true_divide\n",
            "  if sys.path[0] == '':\n",
            "/usr/local/lib/python3.6/dist-packages/ipykernel_launcher.py:12: RuntimeWarning: divide by zero encountered in true_divide\n",
            "  if sys.path[0] == '':\n",
            "/usr/local/lib/python3.6/dist-packages/ipykernel_launcher.py:12: RuntimeWarning: divide by zero encountered in true_divide\n",
            "  if sys.path[0] == '':\n"
          ],
          "name": "stderr"
        },
        {
          "output_type": "stream",
          "text": [
            "The average MAE for all cv folds is: \t\t\t 67.741\n",
            "The average MAE percentage (MAPE) for all cv folds is: \t 46.241\n",
            "The average RMSE for all cv folds is: \t\t\t 224.76\n",
            "*********************************************************\n",
            "Cross Validation Fold Mean Error Scores\n"
          ],
          "name": "stdout"
        },
        {
          "output_type": "stream",
          "text": [
            "/usr/local/lib/python3.6/dist-packages/ipykernel_launcher.py:12: RuntimeWarning: divide by zero encountered in true_divide\n",
            "  if sys.path[0] == '':\n"
          ],
          "name": "stderr"
        },
        {
          "output_type": "execute_result",
          "data": {
            "text/html": [
              "<div>\n",
              "<style scoped>\n",
              "    .dataframe tbody tr th:only-of-type {\n",
              "        vertical-align: middle;\n",
              "    }\n",
              "\n",
              "    .dataframe tbody tr th {\n",
              "        vertical-align: top;\n",
              "    }\n",
              "\n",
              "    .dataframe thead th {\n",
              "        text-align: right;\n",
              "    }\n",
              "</style>\n",
              "<table border=\"1\" class=\"dataframe\">\n",
              "  <thead>\n",
              "    <tr style=\"text-align: right;\">\n",
              "      <th></th>\n",
              "      <th>MAE</th>\n",
              "      <th>MAPE</th>\n",
              "      <th>RMSE</th>\n",
              "    </tr>\n",
              "  </thead>\n",
              "  <tbody>\n",
              "    <tr>\n",
              "      <th>0</th>\n",
              "      <td>71.270377</td>\n",
              "      <td>48.468706</td>\n",
              "      <td>262.111757</td>\n",
              "    </tr>\n",
              "    <tr>\n",
              "      <th>1</th>\n",
              "      <td>68.436518</td>\n",
              "      <td>44.913267</td>\n",
              "      <td>245.827601</td>\n",
              "    </tr>\n",
              "    <tr>\n",
              "      <th>2</th>\n",
              "      <td>69.517119</td>\n",
              "      <td>46.572619</td>\n",
              "      <td>248.556605</td>\n",
              "    </tr>\n",
              "    <tr>\n",
              "      <th>3</th>\n",
              "      <td>68.227120</td>\n",
              "      <td>45.708613</td>\n",
              "      <td>248.251583</td>\n",
              "    </tr>\n",
              "    <tr>\n",
              "      <th>4</th>\n",
              "      <td>66.736664</td>\n",
              "      <td>46.120517</td>\n",
              "      <td>236.731995</td>\n",
              "    </tr>\n",
              "    <tr>\n",
              "      <th>5</th>\n",
              "      <td>68.101705</td>\n",
              "      <td>46.079039</td>\n",
              "      <td>214.460698</td>\n",
              "    </tr>\n",
              "    <tr>\n",
              "      <th>6</th>\n",
              "      <td>69.235933</td>\n",
              "      <td>48.915945</td>\n",
              "      <td>181.514139</td>\n",
              "    </tr>\n",
              "    <tr>\n",
              "      <th>7</th>\n",
              "      <td>64.992617</td>\n",
              "      <td>44.539502</td>\n",
              "      <td>177.600519</td>\n",
              "    </tr>\n",
              "    <tr>\n",
              "      <th>8</th>\n",
              "      <td>65.546494</td>\n",
              "      <td>47.274605</td>\n",
              "      <td>201.066196</td>\n",
              "    </tr>\n",
              "    <tr>\n",
              "      <th>9</th>\n",
              "      <td>65.348742</td>\n",
              "      <td>43.817276</td>\n",
              "      <td>231.495057</td>\n",
              "    </tr>\n",
              "  </tbody>\n",
              "</table>\n",
              "</div>"
            ],
            "text/plain": [
              "         MAE       MAPE        RMSE\n",
              "0  71.270377  48.468706  262.111757\n",
              "1  68.436518  44.913267  245.827601\n",
              "2  69.517119  46.572619  248.556605\n",
              "3  68.227120  45.708613  248.251583\n",
              "4  66.736664  46.120517  236.731995\n",
              "5  68.101705  46.079039  214.460698\n",
              "6  69.235933  48.915945  181.514139\n",
              "7  64.992617  44.539502  177.600519\n",
              "8  65.546494  47.274605  201.066196\n",
              "9  65.348742  43.817276  231.495057"
            ]
          },
          "metadata": {
            "tags": []
          },
          "execution_count": 6
        }
      ]
    },
    {
      "cell_type": "markdown",
      "metadata": {
        "id": "yxAOXv6RkNU6"
      },
      "source": [
        "Description: <br>\n",
        "Scaled data was passed through a cv object 10 fold, random state same as regressor 1 and fit with the best estimator of GridSearch. All metrics are a significant improvement over Linear Regression, though the runtime was significantly longer as algorithm is quite costly and took a very long time to run."
      ]
    },
    {
      "cell_type": "markdown",
      "metadata": {
        "id": "NlofIXeYvECP"
      },
      "source": [
        "## Random Forest Regressor"
      ]
    },
    {
      "cell_type": "code",
      "metadata": {
        "id": "ex9AS2uhoqeL",
        "colab": {
          "base_uri": "https://localhost:8080/",
          "height": 280
        },
        "outputId": "06148c45-5cc0-4eda-b420-5cbfa015b074"
      },
      "source": [
        "%time\n",
        "# Muchigi's CODE: Randomforest Regressor\n",
        "\n",
        "\n",
        "from sklearn.model_selection import KFold\n",
        "cv = KFold(n_splits=2,shuffle=True,random_state=25)\n",
        "\n",
        "parameters = {'bootstrap': [True, False],\n",
        "              'max_depth': [3,5,10, None],\n",
        "              'max_features': ['auto', 'sqrt'],\n",
        "              #'min_samples_leaf': [1, 2, 4],\n",
        "              #'min_samples_split': [2, 5, 10]\n",
        "              }\n",
        "\n",
        "from sklearn.metrics import mean_absolute_error\n",
        "\n",
        "#Create a grid search object using the  \n",
        "from sklearn.model_selection import GridSearchCV\n",
        "from sklearn.ensemble import RandomForestRegressor\n",
        "regGridSearch = GridSearchCV(estimator=RandomForestRegressor()\n",
        "                   , n_jobs=8 # jobs to run in parallel\n",
        "                   , verbose=1 # low verbosity\n",
        "                   , param_grid=parameters\n",
        "                   , cv=cv # KFolds = 10\n",
        "                   , scoring='neg_mean_absolute_error')\n",
        "\n",
        "from sklearn.preprocessing import StandardScaler\n",
        "#Fit to data for scaling\n",
        "scaler = StandardScaler()\n",
        "scaler.fit(Xr)\n",
        "Xr_scale = scaler.transform(Xr)\n",
        "\n",
        "regGridSearch.fit(Xr_scale, yr)\n",
        "\n",
        "#Display the top model parameters\n",
        "regGridSearch.best_estimator_\n"
      ],
      "execution_count": null,
      "outputs": [
        {
          "output_type": "stream",
          "text": [
            "CPU times: user 2 µs, sys: 0 ns, total: 2 µs\n",
            "Wall time: 4.77 µs\n",
            "Fitting 2 folds for each of 16 candidates, totalling 32 fits\n"
          ],
          "name": "stdout"
        },
        {
          "output_type": "stream",
          "text": [
            "/usr/local/lib/python3.6/dist-packages/sklearn/model_selection/_split.py:667: UserWarning: The least populated class in y has only 1 members, which is less than n_splits=2.\n",
            "  % (min_groups, self.n_splits)), UserWarning)\n",
            "[Parallel(n_jobs=8)]: Using backend LokyBackend with 8 concurrent workers.\n",
            "[Parallel(n_jobs=8)]: Done  32 out of  32 | elapsed:  8.7min finished\n"
          ],
          "name": "stderr"
        },
        {
          "output_type": "execute_result",
          "data": {
            "text/plain": [
              "RandomForestRegressor(bootstrap=True, ccp_alpha=0.0, criterion='mse',\n",
              "                      max_depth=None, max_features='sqrt', max_leaf_nodes=None,\n",
              "                      max_samples=None, min_impurity_decrease=0.0,\n",
              "                      min_impurity_split=None, min_samples_leaf=1,\n",
              "                      min_samples_split=2, min_weight_fraction_leaf=0.0,\n",
              "                      n_estimators=100, n_jobs=None, oob_score=False,\n",
              "                      random_state=None, verbose=0, warm_start=False)"
            ]
          },
          "metadata": {
            "tags": []
          },
          "execution_count": 8
        }
      ]
    },
    {
      "cell_type": "markdown",
      "metadata": {
        "id": "FOgMSkC_vpfT"
      },
      "source": [
        "Description: Grid Search enacted on Random Forest to find best estimator for data."
      ]
    },
    {
      "cell_type": "code",
      "metadata": {
        "id": "NHHnSWA4s0ME",
        "colab": {
          "base_uri": "https://localhost:8080/",
          "height": 139
        },
        "outputId": "9b48548a-f2fa-415f-fcdd-54c7fa1dad47"
      },
      "source": [
        "regGridSearch.best__estimator_"
      ],
      "execution_count": null,
      "outputs": [
        {
          "output_type": "execute_result",
          "data": {
            "text/plain": [
              "RandomForestRegressor(bootstrap=True, ccp_alpha=0.0, criterion='mse',\n",
              "                      max_depth=None, max_features='sqrt', max_leaf_nodes=None,\n",
              "                      max_samples=None, min_impurity_decrease=0.0,\n",
              "                      min_impurity_split=None, min_samples_leaf=1,\n",
              "                      min_samples_split=2, min_weight_fraction_leaf=0.0,\n",
              "                      n_estimators=100, n_jobs=None, oob_score=False,\n",
              "                      random_state=None, verbose=0, warm_start=False)"
            ]
          },
          "metadata": {
            "tags": []
          },
          "execution_count": 9
        }
      ]
    },
    {
      "cell_type": "markdown",
      "metadata": {
        "id": "cTVDxcBuvvEp"
      },
      "source": [
        "Description: Best estimator from Grid Search printed for reference."
      ]
    },
    {
      "cell_type": "code",
      "metadata": {
        "id": "d-IiYYcYox6t"
      },
      "source": [
        "\n",
        "from sklearn.metrics import mean_absolute_error, make_scorer, mean_squared_error\n",
        "\n",
        "#Function for Root mean squared error\n",
        "#https://stackoverflow.com/questions/17197492/root-mean-square-error-in-python\n",
        "def rmse(y_actual, y_predicted):\n",
        "    return np.sqrt(mean_squared_error(y_actual, y_predicted))\n",
        "\n",
        "#Function for Mean Absolute Percentage Error (MAPE) - Untested\n",
        "#Adapted from - https://stackoverflow.com/questions/42250958/how-to-optimize-mape-code-in-python\n",
        "def mape(y_actual, y_predicted): \n",
        "    mask = y_actual != 0\n",
        "    return (np.fabs(y_actual - y_predicted)/y_actual)[mask].mean() * 100\n",
        "\n",
        "#Create scorers for rmse and mape functions\n",
        "mae_scorer = make_scorer(score_func=mean_absolute_error, greater_is_better=False)\n",
        "rmse_scorer = make_scorer(score_func=rmse, greater_is_better=False)\n",
        "mape_scorer = make_scorer(score_func=mape, greater_is_better=False)\n",
        "\n",
        "#Make scorer array to pass into cross_validate() function for producing mutiple scores for each cv fold.\n",
        "errorScoring = {'MAE':  mae_scorer, \n",
        "                'RMSE': rmse_scorer,\n",
        "                'MAPE': mape_scorer\n",
        "               } \n",
        "\n",
        "from sklearn.model_selection import cross_validate\n",
        "\n",
        "def EvaluateRegressionEstimator(regEstimator, X, y, cv):\n",
        "    \n",
        "    scores = cross_validate(regEstimator, X, y, scoring=errorScoring, cv=cv, return_train_score=True)\n",
        "\n",
        "    #cross val score sign-flips the outputs of MAE\n",
        "    # https://github.com/scikit-learn/scikit-learn/issues/2439\n",
        "    scores['test_MAE'] = scores['test_MAE'] * -1\n",
        "    scores['test_MAPE'] = scores['test_MAPE'] * -1\n",
        "    scores['test_RMSE'] = scores['test_RMSE'] * -1\n",
        "\n",
        "    #print mean MAE for all folds \n",
        "    maeAvg = scores['test_MAE'].mean()\n",
        "    print_str = \"The average MAE for all cv folds is: \\t\\t\\t {maeAvg:.5}\"\n",
        "    print(print_str.format(maeAvg=maeAvg))\n",
        " \n",
        "    #print mean test_MAPE for all folds\n",
        "    scores['test_MAPE'] = scores['test_MAPE']\n",
        "    mape_avg = scores['test_MAPE'].mean()\n",
        "    print_str = \"The average MAE percentage (MAPE) for all cv folds is: \\t {mape_avg:.5}\"\n",
        "    print(print_str.format(mape_avg=mape_avg))\n",
        "\n",
        "    #print mean MAE for all folds \n",
        "    RMSEavg = scores['test_RMSE'].mean()\n",
        "    print_str = \"The average RMSE for all cv folds is: \\t\\t\\t {RMSEavg:.5}\"\n",
        "    print(print_str.format(RMSEavg=RMSEavg))\n",
        "    print('*********************************************************')\n",
        "\n",
        "    print('Cross Validation Fold Mean Error Scores')\n",
        "    scoresResults = pd.DataFrame()\n",
        "    scoresResults['MAE'] = scores['test_MAE']\n",
        "    scoresResults['MAPE'] = scores['test_MAPE']\n",
        "    scoresResults['RMSE'] = scores['test_RMSE']\n",
        "    return scoresResults\n",
        "\n"
      ],
      "execution_count": null,
      "outputs": []
    },
    {
      "cell_type": "markdown",
      "metadata": {
        "id": "fOpNIXcsvz5Q"
      },
      "source": [
        "Description: Scoring function from Jake Drew run for next cell."
      ]
    },
    {
      "cell_type": "code",
      "metadata": {
        "id": "zqBPyXkGpQ0J",
        "colab": {
          "base_uri": "https://localhost:8080/",
          "height": 1000
        },
        "outputId": "0971a74e-77bd-4689-fea1-5a5fb9c67470"
      },
      "source": [
        "#Use the best parameters for our Linear Regression object\n",
        "regressionEst = RandomForestRegressor(bootstrap=True, ccp_alpha=0.0, criterion='mse',\n",
        "                      max_depth=None, max_features='sqrt', max_leaf_nodes=None,\n",
        "                      max_samples=None, min_impurity_decrease=0.0,\n",
        "                      min_impurity_split=None, min_samples_leaf=1,\n",
        "                      min_samples_split=2, min_weight_fraction_leaf=0.0,\n",
        "                      n_estimators=100, n_jobs=None, oob_score=False,\n",
        "                      random_state=None, verbose=0, warm_start=False)\n",
        "\n",
        "from sklearn.model_selection import KFold\n",
        "cv = KFold(n_splits=10,shuffle=True,random_state=25)\n",
        "\n",
        "from sklearn.preprocessing import StandardScaler\n",
        "#Fit to data for scaling\n",
        "scaler = StandardScaler()\n",
        "scaler.fit(Xr)\n",
        "Xr_scale = scaler.transform(Xr)\n",
        "\n",
        "#Evaluate the regression estimator above using our pre-defined cross validation and scoring metrics. \n",
        "EvaluateRegressionEstimator(regressionEst, Xr_scale, yr, cv)"
      ],
      "execution_count": null,
      "outputs": [
        {
          "output_type": "stream",
          "text": [
            "/usr/local/lib/python3.6/dist-packages/sklearn/model_selection/_split.py:667: UserWarning: The least populated class in y has only 1 members, which is less than n_splits=10.\n",
            "  % (min_groups, self.n_splits)), UserWarning)\n",
            "/usr/local/lib/python3.6/dist-packages/ipykernel_launcher.py:13: RuntimeWarning: divide by zero encountered in true_divide\n",
            "  del sys.path[0]\n",
            "/usr/local/lib/python3.6/dist-packages/ipykernel_launcher.py:13: RuntimeWarning: divide by zero encountered in true_divide\n",
            "  del sys.path[0]\n",
            "/usr/local/lib/python3.6/dist-packages/ipykernel_launcher.py:13: RuntimeWarning: divide by zero encountered in true_divide\n",
            "  del sys.path[0]\n",
            "/usr/local/lib/python3.6/dist-packages/ipykernel_launcher.py:13: RuntimeWarning: divide by zero encountered in true_divide\n",
            "  del sys.path[0]\n",
            "/usr/local/lib/python3.6/dist-packages/ipykernel_launcher.py:13: RuntimeWarning: divide by zero encountered in true_divide\n",
            "  del sys.path[0]\n",
            "/usr/local/lib/python3.6/dist-packages/ipykernel_launcher.py:13: RuntimeWarning: divide by zero encountered in true_divide\n",
            "  del sys.path[0]\n",
            "/usr/local/lib/python3.6/dist-packages/ipykernel_launcher.py:13: RuntimeWarning: divide by zero encountered in true_divide\n",
            "  del sys.path[0]\n",
            "/usr/local/lib/python3.6/dist-packages/ipykernel_launcher.py:13: RuntimeWarning: divide by zero encountered in true_divide\n",
            "  del sys.path[0]\n",
            "/usr/local/lib/python3.6/dist-packages/ipykernel_launcher.py:13: RuntimeWarning: divide by zero encountered in true_divide\n",
            "  del sys.path[0]\n",
            "/usr/local/lib/python3.6/dist-packages/ipykernel_launcher.py:13: RuntimeWarning: divide by zero encountered in true_divide\n",
            "  del sys.path[0]\n",
            "/usr/local/lib/python3.6/dist-packages/ipykernel_launcher.py:13: RuntimeWarning: divide by zero encountered in true_divide\n",
            "  del sys.path[0]\n",
            "/usr/local/lib/python3.6/dist-packages/ipykernel_launcher.py:13: RuntimeWarning: divide by zero encountered in true_divide\n",
            "  del sys.path[0]\n",
            "/usr/local/lib/python3.6/dist-packages/ipykernel_launcher.py:13: RuntimeWarning: divide by zero encountered in true_divide\n",
            "  del sys.path[0]\n",
            "/usr/local/lib/python3.6/dist-packages/ipykernel_launcher.py:13: RuntimeWarning: divide by zero encountered in true_divide\n",
            "  del sys.path[0]\n",
            "/usr/local/lib/python3.6/dist-packages/ipykernel_launcher.py:13: RuntimeWarning: divide by zero encountered in true_divide\n",
            "  del sys.path[0]\n",
            "/usr/local/lib/python3.6/dist-packages/ipykernel_launcher.py:13: RuntimeWarning: divide by zero encountered in true_divide\n",
            "  del sys.path[0]\n",
            "/usr/local/lib/python3.6/dist-packages/ipykernel_launcher.py:13: RuntimeWarning: divide by zero encountered in true_divide\n",
            "  del sys.path[0]\n",
            "/usr/local/lib/python3.6/dist-packages/ipykernel_launcher.py:13: RuntimeWarning: divide by zero encountered in true_divide\n",
            "  del sys.path[0]\n",
            "/usr/local/lib/python3.6/dist-packages/ipykernel_launcher.py:13: RuntimeWarning: divide by zero encountered in true_divide\n",
            "  del sys.path[0]\n"
          ],
          "name": "stderr"
        },
        {
          "output_type": "stream",
          "text": [
            "The average MAE for all cv folds is: \t\t\t 64.363\n",
            "The average MAE percentage (MAPE) for all cv folds is: \t 43.519\n",
            "The average RMSE for all cv folds is: \t\t\t 219.02\n",
            "*********************************************************\n",
            "Cross Validation Fold Mean Error Scores\n"
          ],
          "name": "stdout"
        },
        {
          "output_type": "stream",
          "text": [
            "/usr/local/lib/python3.6/dist-packages/ipykernel_launcher.py:13: RuntimeWarning: divide by zero encountered in true_divide\n",
            "  del sys.path[0]\n"
          ],
          "name": "stderr"
        },
        {
          "output_type": "execute_result",
          "data": {
            "text/html": [
              "<div>\n",
              "<style scoped>\n",
              "    .dataframe tbody tr th:only-of-type {\n",
              "        vertical-align: middle;\n",
              "    }\n",
              "\n",
              "    .dataframe tbody tr th {\n",
              "        vertical-align: top;\n",
              "    }\n",
              "\n",
              "    .dataframe thead th {\n",
              "        text-align: right;\n",
              "    }\n",
              "</style>\n",
              "<table border=\"1\" class=\"dataframe\">\n",
              "  <thead>\n",
              "    <tr style=\"text-align: right;\">\n",
              "      <th></th>\n",
              "      <th>MAE</th>\n",
              "      <th>MAPE</th>\n",
              "      <th>RMSE</th>\n",
              "    </tr>\n",
              "  </thead>\n",
              "  <tbody>\n",
              "    <tr>\n",
              "      <th>0</th>\n",
              "      <td>66.231644</td>\n",
              "      <td>44.407842</td>\n",
              "      <td>252.094241</td>\n",
              "    </tr>\n",
              "    <tr>\n",
              "      <th>1</th>\n",
              "      <td>64.616357</td>\n",
              "      <td>41.724763</td>\n",
              "      <td>229.937767</td>\n",
              "    </tr>\n",
              "    <tr>\n",
              "      <th>2</th>\n",
              "      <td>64.718680</td>\n",
              "      <td>42.538787</td>\n",
              "      <td>235.742044</td>\n",
              "    </tr>\n",
              "    <tr>\n",
              "      <th>3</th>\n",
              "      <td>65.712165</td>\n",
              "      <td>43.480187</td>\n",
              "      <td>244.325200</td>\n",
              "    </tr>\n",
              "    <tr>\n",
              "      <th>4</th>\n",
              "      <td>63.640747</td>\n",
              "      <td>45.102403</td>\n",
              "      <td>228.700820</td>\n",
              "    </tr>\n",
              "    <tr>\n",
              "      <th>5</th>\n",
              "      <td>65.595276</td>\n",
              "      <td>43.662350</td>\n",
              "      <td>215.620804</td>\n",
              "    </tr>\n",
              "    <tr>\n",
              "      <th>6</th>\n",
              "      <td>66.240679</td>\n",
              "      <td>45.880849</td>\n",
              "      <td>181.669646</td>\n",
              "    </tr>\n",
              "    <tr>\n",
              "      <th>7</th>\n",
              "      <td>62.131579</td>\n",
              "      <td>42.116076</td>\n",
              "      <td>180.069449</td>\n",
              "    </tr>\n",
              "    <tr>\n",
              "      <th>8</th>\n",
              "      <td>61.872234</td>\n",
              "      <td>44.170205</td>\n",
              "      <td>196.326764</td>\n",
              "    </tr>\n",
              "    <tr>\n",
              "      <th>9</th>\n",
              "      <td>62.874703</td>\n",
              "      <td>42.109759</td>\n",
              "      <td>225.747987</td>\n",
              "    </tr>\n",
              "  </tbody>\n",
              "</table>\n",
              "</div>"
            ],
            "text/plain": [
              "         MAE       MAPE        RMSE\n",
              "0  66.231644  44.407842  252.094241\n",
              "1  64.616357  41.724763  229.937767\n",
              "2  64.718680  42.538787  235.742044\n",
              "3  65.712165  43.480187  244.325200\n",
              "4  63.640747  45.102403  228.700820\n",
              "5  65.595276  43.662350  215.620804\n",
              "6  66.240679  45.880849  181.669646\n",
              "7  62.131579  42.116076  180.069449\n",
              "8  61.872234  44.170205  196.326764\n",
              "9  62.874703  42.109759  225.747987"
            ]
          },
          "metadata": {
            "tags": []
          },
          "execution_count": 11
        }
      ]
    },
    {
      "cell_type": "markdown",
      "metadata": {
        "id": "8Q7wvbOyn0zm"
      },
      "source": [
        "Description: A gridsearch was performed to find best estimator for RandomForest Regressor. 10 fold cv with same random state as other regressors used on final estimator and best results yet are output."
      ]
    },
    {
      "cell_type": "markdown",
      "metadata": {
        "id": "fCuD0QqjXmvh"
      },
      "source": [
        "# **Modeling And Evaluation 4**\n"
      ]
    },
    {
      "cell_type": "markdown",
      "metadata": {
        "id": "Z2yes9G0zemW"
      },
      "source": [
        "#### Visualization of Classifiers"
      ]
    },
    {
      "cell_type": "markdown",
      "metadata": {
        "id": "Ae0cBUh239fz"
      },
      "source": [
        "**New Material:** ROC plot with additional classifier models that were produced in modeling and evaluation 3 New write up"
      ]
    },
    {
      "cell_type": "code",
      "metadata": {
        "id": "6k7ClnaB6QS5",
        "colab": {
          "base_uri": "https://localhost:8080/",
          "height": 295
        },
        "outputId": "c4d96543-d3c1-4cd4-d5c8-7e87d7064f1f"
      },
      "source": [
        "\n",
        "from sklearn import metrics\n",
        "import matplotlib.pyplot as plt\n",
        "from sklearn.model_selection import train_test_split\n",
        "import numpy as np  \n",
        "import pandas as pd  \n",
        "import seaborn as sns  \n",
        "from sklearn.datasets import make_classification\n",
        "from sklearn.metrics import plot_roc_curve \n",
        "from sklearn import datasets, metrics, model_selection\n",
        "\n",
        "x_train, x_test, y_train, y_test = train_test_split(scaled_Xc, yc, test_size=.75,\n",
        "                                                    random_state=0)#Split data manually since there is no cv performed\n",
        "\n",
        "plt.figure()\n",
        "\n",
        "# Add the models to the list that you want to view on the ROC plot\n",
        "models = [\n",
        "{\n",
        "    'label': 'RF Accuracy',\n",
        "    'model': RF_accuracy,\n",
        "},\n",
        "{\n",
        "    'label': 'RF Recall',\n",
        "    'model': RF_recall,\n",
        "},\n",
        "{\n",
        "    'label': 'Knn Accuracy',\n",
        "    'model': Knn_accuracy,\n",
        "},\n",
        "{\n",
        "    'label': 'Knn Accuracy',\n",
        "    'model': Knn_recall,\n",
        "},\n",
        "{\n",
        "    'label': 'Bnb Accuracy',\n",
        "    'model': Bnb_accuracy.best_estimator_,\n",
        "},\n",
        "{\n",
        "    'label': 'Bnb Recall',\n",
        "    'model': Bnb_recall.best_estimator_,\n",
        "}\n",
        "\n",
        "]\n",
        "# Below for loop iterates through your models list\n",
        "for m in models:\n",
        "    model = m['model'] # select the model\n",
        "    model.fit(x_train, y_train) # train the model\n",
        "    y_pred=model.predict(x_test) # predict the test data\n",
        "# Compute False postive rate, and True positive rate\n",
        "    fpr, tpr, thresholds = metrics.roc_curve(y_test, model.predict_proba(x_test)[:,1])\n",
        "# Calculate Area under the curve to display on the plot\n",
        "    auc = metrics.roc_auc_score(y_test,model.predict(x_test))\n",
        "# Now, plot the computed values\n",
        "    plt.plot(fpr, tpr, label='%s ROC (area = %0.2f)' % (m['label'], auc))\n",
        "# Custom settings for the plot \n",
        "plt.plot([0, 1], [0, 1],'r--')\n",
        "plt.xlim([0.0, 1.0])\n",
        "plt.ylim([0.0, 1.05])\n",
        "plt.xlabel('1-Specificity(False Positive Rate)')\n",
        "plt.ylabel('Sensitivity(True Positive Rate)')\n",
        "plt.title('Receiver Operating Characteristic')\n",
        "plt.legend(loc=\"lower right\")\n",
        "plt.show()   # Display"
      ],
      "execution_count": null,
      "outputs": [
        {
          "output_type": "display_data",
          "data": {
            "image/png": "[encoded data removed]",
            "text/plain": [
              "<Figure size 432x288 with 1 Axes>"
            ]
          },
          "metadata": {
            "tags": [],
            "needs_background": "light"
          }
        }
      ]
    },
    {
      "cell_type": "markdown",
      "metadata": {
        "id": "4w6UtBOwIN1h"
      },
      "source": [
        "Our goal for classifying is to accurately and with good recall and precision classify hotel_listing, a variable that bins price into 1 if the Air-bnb is pricier than the average NYC hotel and 0 if it is not. While accuracy is most important recall and precision are also important because we would like to not miss an opportunity to correctly classify when a pricing is higher than the average hotel (recall).\n",
        "\n",
        " Comparing all 6 of our classifying models we can see that both Random forest models perform better than either KNN or BNB classifiers. Since we are measuring accuracy, recall, and precision we would like the curves of the lines to go up and then to the right. This would indicate, based on the x and y axis, that those classifiers have better sensitivity (recall) and specificity.\n",
        "\n",
        " It is interesting to note that it does appear that the Bernoulli naive Bayes, based on the ROC plot is outperforming our KNN task in each model.\n",
        "\n",
        " Since our dataset is heavliy skewed, most Air-bnb pricing is below the average hotel pricing, we are seeing that the KNN is overpredicting everything to low, or 0. "
      ]
    },
    {
      "cell_type": "markdown",
      "metadata": {
        "id": "G1jdN0cDis7Q"
      },
      "source": [
        "#### Visualization of LinReg"
      ]
    },
    {
      "cell_type": "code",
      "metadata": {
        "id": "FGIiB3SecEWM",
        "colab": {
          "base_uri": "https://localhost:8080/",
          "height": 297
        },
        "outputId": "87f0c696-6f90-4d96-b69b-8cb43ff700b7"
      },
      "source": [
        "from sklearn.model_selection import train_test_split\n",
        "from sklearn.linear_model import LinearRegression\n",
        "%matplotlib inline\n",
        "import matplotlib.pyplot as plt\n",
        "\n",
        "#scaled_Xr , yr\n",
        "\n",
        "# Create the train and test data\n",
        "X_train, X_test, y_train, y_test = train_test_split(scaled_Xr, yr, test_size=0.2, random_state=42)\n",
        "\n",
        "reg = LinearRegression(fit_intercept=True,normalize=True).fit(X_train,y_train)\n",
        "\n",
        "#Generated Predictions\n",
        "y_predicted = reg.predict(X_test)\n",
        "#Plot Our Actual and Predicted Values\n",
        "plt.plot(X_test, y_test, 'o', color='black');\n",
        "plt.plot(X_test,y_predicted,color='blue')\n",
        "plt.title(\"Actuals vs Regression Line\")"
      ],
      "execution_count": null,
      "outputs": [
        {
          "output_type": "execute_result",
          "data": {
            "text/plain": [
              "Text(0.5, 1.0, 'Actuals vs Regression Line')"
            ]
          },
          "metadata": {
            "tags": []
          },
          "execution_count": 12
        },
        {
          "output_type": "display_data",
          "data": {
            "image/png": "[encoded data removed]",
            "text/plain": [
              "<Figure size 432x288 with 1 Axes>"
            ]
          },
          "metadata": {
            "tags": [],
            "needs_background": "light"
          }
        }
      ]
    },
    {
      "cell_type": "markdown",
      "metadata": {
        "id": "btUxPb2SiSVU"
      },
      "source": [
        "Description: The visuals indicate this simple model is not adequate in predicting price and echos the stark error metrics.\n",
        "\n",
        "Assessment: Though the model performs very quickly on sizeable dataset the algorithm is not complex enough to capture the variation of the Airbnb data in NYC.The problem is the diagonal line that seems to unify and average values that can be very different along the axes."
      ]
    },
    {
      "cell_type": "markdown",
      "metadata": {
        "id": "y-9vfzmYk4ce"
      },
      "source": [
        "#### Visualization of KNRegressor"
      ]
    },
    {
      "cell_type": "code",
      "metadata": {
        "id": "AZ0Vf8QZlS0v",
        "colab": {
          "base_uri": "https://localhost:8080/",
          "height": 297
        },
        "outputId": "1ca63052-d444-4fbb-96e5-0aaeeafa63ac"
      },
      "source": [
        "from sklearn.model_selection import train_test_split\n",
        "from sklearn.neighbors import KNeighborsRegressor\n",
        "%matplotlib inline\n",
        "import matplotlib.pyplot as plt\n",
        "\n",
        "#scaled_Xr , yr\n",
        "\n",
        "# Create the train and test data\n",
        "X_train, X_test, y_train, y_test = train_test_split(scaled_Xr, yr, test_size=0.2, random_state=42)\n",
        "\n",
        "reg = KNeighborsRegressor(algorithm='auto', leaf_size=30, metric='minkowski',\n",
        "                    metric_params=None, n_jobs=-1, n_neighbors=21, p=2,\n",
        "                    weights='uniform').fit(X_train,y_train)\n",
        "\n",
        "#Generated Predictions\n",
        "y_predicted = reg.predict(X_test)\n",
        "#Plot Our Actual and Predicted Values\n",
        "plt.plot(X_test, y_test, 'o', color='black');\n",
        "plt.plot(X_test,y_predicted,color='blue')\n",
        "plt.title(\"Actuals vs Regression Line\")"
      ],
      "execution_count": null,
      "outputs": [
        {
          "output_type": "execute_result",
          "data": {
            "text/plain": [
              "Text(0.5, 1.0, 'Actuals vs Regression Line')"
            ]
          },
          "metadata": {
            "tags": []
          },
          "execution_count": 13
        },
        {
          "output_type": "display_data",
          "data": {
            "image/png": "[encoded data removed]",
            "text/plain": [
              "<Figure size 432x288 with 1 Axes>"
            ]
          },
          "metadata": {
            "tags": [],
            "needs_background": "light"
          }
        }
      ]
    },
    {
      "cell_type": "markdown",
      "metadata": {
        "id": "asusCKVPmCUd"
      },
      "source": [
        "Description: A much cleaner fitting of Data as with LinReg. The Kneighbor Regressor really molds itself to the data for most of the values. Above 2000 the regressor seemed to struggle. These values are the lower range of priced listings that contain a lot more variation and less success most likely in having guests. Since there is no guard at Airbnb for overpricing listings or removal of inactive listings these are arguably not as relevant.\n",
        "\n",
        "Assessment: The KNRegressor is quite costly but performs considerable better than a simple Linear Regression. It molds to the data though still has limitations of Nearest Neighbor that may not capture enough of all the variation present in the data. Solid performance and desireable if Airbnb had limits on pricing for listings."
      ]
    },
    {
      "cell_type": "markdown",
      "metadata": {
        "id": "dnMb4X0coWa9"
      },
      "source": [
        "### Visualization of Random Forest Regressor"
      ]
    },
    {
      "cell_type": "code",
      "metadata": {
        "id": "d1XdkZcsocew",
        "colab": {
          "base_uri": "https://localhost:8080/",
          "height": 297
        },
        "outputId": "14ec5235-3f64-4b29-a07a-6696b08677f4"
      },
      "source": [
        "from sklearn.ensemble import RandomForestRegressor\n",
        "\n",
        "reg = RandomForestRegressor(bootstrap=True, ccp_alpha=0.0, criterion='mse',\n",
        "                      max_depth=None, max_features='sqrt', max_leaf_nodes=None,\n",
        "                      max_samples=None, min_impurity_decrease=0.0,\n",
        "                      min_impurity_split=None, min_samples_leaf=1,\n",
        "                      min_samples_split=2, min_weight_fraction_leaf=0.0,\n",
        "                      n_estimators=100, n_jobs=None, oob_score=False,\n",
        "                      random_state=None, verbose=0, warm_start=False).fit(X_train,y_train)\n",
        "\n",
        "from sklearn.model_selection import train_test_split\n",
        "from sklearn.neighbors import KNeighborsRegressor\n",
        "%matplotlib inline\n",
        "import matplotlib.pyplot as plt\n",
        "\n",
        "#scaled_Xr , yr\n",
        "\n",
        "# Create the train and test data\n",
        "X_train, X_test, y_train, y_test = train_test_split(scaled_Xr, yr, test_size=0.2, random_state=42)\n",
        "\n",
        "#Generated Predictions\n",
        "y_predicted = reg.predict(X_test)\n",
        "#Plot Our Actual and Predicted Values\n",
        "plt.plot(X_test, y_test, 'o', color='black');\n",
        "plt.plot(X_test,y_predicted,color='blue')\n",
        "plt.title(\"Actuals vs Regression Line\")"
      ],
      "execution_count": null,
      "outputs": [
        {
          "output_type": "execute_result",
          "data": {
            "text/plain": [
              "Text(0.5, 1.0, 'Actuals vs Regression Line')"
            ]
          },
          "metadata": {
            "tags": []
          },
          "execution_count": 15
        },
        {
          "output_type": "display_data",
          "data": {
            "image/png": "[encoded data removed]",
            "text/plain": [
              "<Figure size 432x288 with 1 Axes>"
            ]
          },
          "metadata": {
            "tags": [],
            "needs_background": "light"
          }
        }
      ]
    },
    {
      "cell_type": "markdown",
      "metadata": {
        "id": "NinZatIvpBD9"
      },
      "source": [
        "Description: Even better visualizations, show better coverage of data points for the lower rung of listings. The blue line fittings show greater attention to variation of the data for values up to 3000. \n",
        "\n",
        "Assessment: The RF regressor is very fast, captures even more of the variation in data than the other regressors. It is the most flexible and it shows in the visualization and metrics. THe only issue with a RF regressor is that there are still some values that are not captured. Being the best regressor thus far, it would be chosen for deployment. "
      ]
    },
    {
      "cell_type": "markdown",
      "metadata": {
        "id": "GlrUMrUuXsDm"
      },
      "source": [
        "# **Modeling and Evaluation 5**\n"
      ]
    },
    {
      "cell_type": "markdown",
      "metadata": {
        "id": "iu_gEfNm4jdx"
      },
      "source": [
        "**New Material:**Bernoulli accuracy to recall comparisons, with paired t-tests and write-up \n",
        "\n",
        "---\n",
        "\n",
        "previously this section had only RF to KNN accuracy comparisons and was deleted."
      ]
    },
    {
      "cell_type": "markdown",
      "metadata": {
        "id": "IP5mFvwkSMzf"
      },
      "source": [
        "## Bernoulli Model Comparisons\n",
        "The classification task seeked to classify the price of an Air-Bnb into either high or low based on different listing attributes.\n",
        "\n",
        "The first classifier we built was a Bernoulli Naive Bayes. The advantage of this classifier was that it is simple and easily computed since it is using supervised learning based on probabilities easily calculated from the data. The BNB model classifier that was chosen as the best accuracy estimator was with alpha = 1.3, which produced the highest accuracy. While overall accuracy is our main goal we are also interested in recall which gives us a good indication into how our well our model is correctly identifying places with \"high\" prices. The alpha for the model with the best recall score was alpha = 0"
      ]
    },
    {
      "cell_type": "code",
      "metadata": {
        "id": "l2MH83LvEVxK",
        "colab": {
          "base_uri": "https://localhost:8080/",
          "height": 52
        },
        "outputId": "c7bde3b5-7bb6-46aa-becb-94ac5b2e2651"
      },
      "source": [
        "print('Best Accuracy Model',Bnb_accuracy.best_estimator_)\n",
        "print('Best Recall Model', Bnb_recall.best_estimator_)"
      ],
      "execution_count": null,
      "outputs": [
        {
          "output_type": "stream",
          "text": [
            "Best Accuracy Model BernoulliNB(alpha=1.3, binarize=0.0, class_prior=None, fit_prior=True)\n",
            "Best Recall Model BernoulliNB(alpha=0, binarize=0.0, class_prior=None, fit_prior=True)\n"
          ],
          "name": "stdout"
        }
      ]
    },
    {
      "cell_type": "code",
      "metadata": {
        "id": "x1rAROHEKr4A",
        "colab": {
          "base_uri": "https://localhost:8080/",
          "height": 519
        },
        "outputId": "f9015a73-b2d0-45a7-f241-2810a85c50a6"
      },
      "source": [
        "### Compare best accuracy Bernoulli model with best recall Bernoulli model\n",
        "import warnings\n",
        "warnings.filterwarnings(\"ignore\") ## Suppresses User Warning Alpha too small for numeric error\n",
        "from sklearn.model_selection import cross_validate\n",
        "from sklearn.model_selection import StratifiedKFold\n",
        "cv = StratifiedKFold(n_splits=10,shuffle=True, random_state=0) #make sure to keep same random_state across models\n",
        "\n",
        "def EvaluateClassifierEstimator(classifierEstimator1, classifierEstimator2, X, y, cv):\n",
        "   \n",
        "    #Perform cross validation \n",
        "    scores = cross_validate(classifierEstimator1, scaled_Xc, yc, scoring=['accuracy','precision','recall']\n",
        "                            , cv=cv, return_train_score=True)\n",
        "    scores2 = cross_validate(classifierEstimator2, scaled_Xc, yc, scoring=['accuracy','precision','recall']\n",
        "                            , cv=cv, return_train_score=True)\n",
        "\n",
        "    Accavg = scores['test_accuracy'].mean()\n",
        "    Preavg = scores['test_precision'].mean()\n",
        "    Recavg = scores['test_recall'].mean()\n",
        "\n",
        "    Accavg2 = scores2['test_accuracy'].mean()\n",
        "    Preavg2 = scores2['test_precision'].mean()\n",
        "    Recavg2 = scores2['test_recall'].mean()\n",
        "\n",
        "    print(\"The average Best Accuracy model accuracy for all cv folds is:\", Accavg)\n",
        "    print(\"The average Best Accuracy model precision for all cv folds is:\", Preavg)\n",
        "    print(\"The average Best Accuracy model recall for all cv folds is:\", Recavg)\n",
        "\n",
        "    print(\"The average Best Recall model accuracy for all cv folds is:\", Accavg2)\n",
        "    print(\"The average Best Recall model precision for all cv folds is:\", Preavg2)\n",
        "    print(\"The average Best Recall model recall for all cv folds is:\", Recavg2)\n",
        "    \n",
        "    \n",
        "    print('*********************************************************')\n",
        "\n",
        "    print('Cross Validation Fold Mean Error Scores')\n",
        "    scoresResults = pd.DataFrame()\n",
        "    scoresResults['Best Accuracy Model Accuracy'] = scores['test_accuracy']\n",
        "    scoresResults['Best Recall Model Accuracy'] = scores2['test_accuracy']\n",
        "    scoresResults['Best Accuracy Model Precision'] = scores['test_precision']\n",
        "    scoresResults['Best Recall Model Precision'] = scores2['test_precision']\n",
        "    scoresResults['Best Accuracy Model Recall'] = scores['test_recall']\n",
        "    scoresResults['Best Recall Model Recall'] = scores2['test_recall']\n",
        "    return scoresResults\n",
        "classifierEst1 = Bnb_accuracy\n",
        "classifierEst2 = Bnb_recall\n",
        "\n",
        "#Evaluate the estimator above using our pre-defined cross validation and scoring metrics. \n",
        "EvaluateClassifierEstimator(classifierEst1, classifierEst2, scaled_Xc, yc, cv)"
      ],
      "execution_count": null,
      "outputs": [
        {
          "output_type": "stream",
          "text": [
            "The average Best Accuracy model accuracy for all cv folds is: 0.8251763505653734\n",
            "The average Best Accuracy model precision for all cv folds is: 0.23696563032455248\n",
            "The average Best Accuracy model recall for all cv folds is: 0.531399733806566\n",
            "The average Best Recall model accuracy for all cv folds is: 0.8207996332487145\n",
            "The average Best Recall model precision for all cv folds is: 0.23403683809646042\n",
            "The average Best Recall model recall for all cv folds is: 0.5431402995981001\n",
            "*********************************************************\n",
            "Cross Validation Fold Mean Error Scores\n"
          ],
          "name": "stdout"
        },
        {
          "output_type": "execute_result",
          "data": {
            "text/html": [
              "<div>\n",
              "<style scoped>\n",
              "    .dataframe tbody tr th:only-of-type {\n",
              "        vertical-align: middle;\n",
              "    }\n",
              "\n",
              "    .dataframe tbody tr th {\n",
              "        vertical-align: top;\n",
              "    }\n",
              "\n",
              "    .dataframe thead th {\n",
              "        text-align: right;\n",
              "    }\n",
              "</style>\n",
              "<table border=\"1\" class=\"dataframe\">\n",
              "  <thead>\n",
              "    <tr style=\"text-align: right;\">\n",
              "      <th></th>\n",
              "      <th>Best Accuracy Model Accuracy</th>\n",
              "      <th>Best Recall Model Accuracy</th>\n",
              "      <th>Best Accuracy Model Precision</th>\n",
              "      <th>Best Recall Model Precision</th>\n",
              "      <th>Best Accuracy Model Recall</th>\n",
              "      <th>Best Recall Model Recall</th>\n",
              "    </tr>\n",
              "  </thead>\n",
              "  <tbody>\n",
              "    <tr>\n",
              "      <th>0</th>\n",
              "      <td>0.823108</td>\n",
              "      <td>0.821268</td>\n",
              "      <td>0.232163</td>\n",
              "      <td>0.229821</td>\n",
              "      <td>0.522959</td>\n",
              "      <td>0.522959</td>\n",
              "    </tr>\n",
              "    <tr>\n",
              "      <th>1</th>\n",
              "      <td>0.830266</td>\n",
              "      <td>0.824335</td>\n",
              "      <td>0.241745</td>\n",
              "      <td>0.236158</td>\n",
              "      <td>0.522959</td>\n",
              "      <td>0.533163</td>\n",
              "    </tr>\n",
              "    <tr>\n",
              "      <th>2</th>\n",
              "      <td>0.829652</td>\n",
              "      <td>0.823517</td>\n",
              "      <td>0.242707</td>\n",
              "      <td>0.238624</td>\n",
              "      <td>0.530612</td>\n",
              "      <td>0.548469</td>\n",
              "    </tr>\n",
              "    <tr>\n",
              "      <th>3</th>\n",
              "      <td>0.819836</td>\n",
              "      <td>0.813088</td>\n",
              "      <td>0.228031</td>\n",
              "      <td>0.224101</td>\n",
              "      <td>0.522959</td>\n",
              "      <td>0.540816</td>\n",
              "    </tr>\n",
              "    <tr>\n",
              "      <th>4</th>\n",
              "      <td>0.825358</td>\n",
              "      <td>0.823722</td>\n",
              "      <td>0.236902</td>\n",
              "      <td>0.235955</td>\n",
              "      <td>0.530612</td>\n",
              "      <td>0.535714</td>\n",
              "    </tr>\n",
              "    <tr>\n",
              "      <th>5</th>\n",
              "      <td>0.836776</td>\n",
              "      <td>0.831458</td>\n",
              "      <td>0.250307</td>\n",
              "      <td>0.247375</td>\n",
              "      <td>0.521739</td>\n",
              "      <td>0.542199</td>\n",
              "    </tr>\n",
              "    <tr>\n",
              "      <th>6</th>\n",
              "      <td>0.821231</td>\n",
              "      <td>0.820618</td>\n",
              "      <td>0.238919</td>\n",
              "      <td>0.238710</td>\n",
              "      <td>0.565217</td>\n",
              "      <td>0.567775</td>\n",
              "    </tr>\n",
              "    <tr>\n",
              "      <th>7</th>\n",
              "      <td>0.820209</td>\n",
              "      <td>0.819390</td>\n",
              "      <td>0.230343</td>\n",
              "      <td>0.229923</td>\n",
              "      <td>0.530612</td>\n",
              "      <td>0.533163</td>\n",
              "    </tr>\n",
              "    <tr>\n",
              "      <th>8</th>\n",
              "      <td>0.828390</td>\n",
              "      <td>0.821436</td>\n",
              "      <td>0.241020</td>\n",
              "      <td>0.236004</td>\n",
              "      <td>0.530612</td>\n",
              "      <td>0.548469</td>\n",
              "    </tr>\n",
              "    <tr>\n",
              "      <th>9</th>\n",
              "      <td>0.816936</td>\n",
              "      <td>0.809163</td>\n",
              "      <td>0.227519</td>\n",
              "      <td>0.223698</td>\n",
              "      <td>0.535714</td>\n",
              "      <td>0.558673</td>\n",
              "    </tr>\n",
              "  </tbody>\n",
              "</table>\n",
              "</div>"
            ],
            "text/plain": [
              "   Best Accuracy Model Accuracy  ...  Best Recall Model Recall\n",
              "0                      0.823108  ...                  0.522959\n",
              "1                      0.830266  ...                  0.533163\n",
              "2                      0.829652  ...                  0.548469\n",
              "3                      0.819836  ...                  0.540816\n",
              "4                      0.825358  ...                  0.535714\n",
              "5                      0.836776  ...                  0.542199\n",
              "6                      0.821231  ...                  0.567775\n",
              "7                      0.820209  ...                  0.533163\n",
              "8                      0.828390  ...                  0.548469\n",
              "9                      0.816936  ...                  0.558673\n",
              "\n",
              "[10 rows x 6 columns]"
            ]
          },
          "metadata": {
            "tags": []
          },
          "execution_count": 30
        }
      ]
    },
    {
      "cell_type": "markdown",
      "metadata": {
        "id": "eYRjDV8CXofR"
      },
      "source": [
        "As you can see there is not much deviation between the two Bernoulli Naive Bayes models. The Best Accuracy model does appear to have slightly better accuracy and also precision. while the Best Recall model has the best Recall. Next paired t-tests will be run on all three metrics to determine if there is any significant difference between these two models."
      ]
    },
    {
      "cell_type": "code",
      "metadata": {
        "id": "lcHYXWG7YRD0",
        "colab": {
          "base_uri": "https://localhost:8080/",
          "height": 208
        },
        "outputId": "c98035a5-cc73-40fd-d3d1-787ee41a3f01"
      },
      "source": [
        "import warnings\n",
        "warnings.filterwarnings(\"ignore\") ## Suppresses User Warning Alpha too small for numeric error\n",
        "from mlxtend.evaluate import paired_ttest_5x2cv\n",
        "\n",
        "t, p = paired_ttest_5x2cv(estimator1= Bnb_accuracy,####ACCURACY\n",
        "                          estimator2= Bnb_recall, scoring='accuracy',\n",
        "                          X=scaled_Xc, y=yc,\n",
        "                          random_seed=0)\n",
        "\n",
        "t2, p2 = paired_ttest_5x2cv(estimator1= Bnb_accuracy,####PRECISION\n",
        "                          estimator2= Bnb_recall, scoring='precision',\n",
        "                          X=scaled_Xc, y=yc,\n",
        "                          random_seed=0)\n",
        "\n",
        "t3, p3 = paired_ttest_5x2cv(estimator1= Bnb_accuracy,####RECALL\n",
        "                          estimator2= Bnb_recall, scoring='recall',\n",
        "                          X=scaled_Xc, y=yc,\n",
        "                          random_seed=0)\n",
        "print('ACCURACY')\n",
        "print('t statistic: %.3f' % t)\n",
        "print('p value: %.3f' % p)\n",
        "print('-------------------------------------------')\n",
        "print('PRECISION')\n",
        "print('t statistic: %.3f' % t2)\n",
        "print('p value: %.3f' % p2)\n",
        "print('-------------------------------------------')\n",
        "print('RECALL')\n",
        "print('t statistic: %.3f' % t3)\n",
        "print('p value: %.3f' % p3)"
      ],
      "execution_count": null,
      "outputs": [
        {
          "output_type": "stream",
          "text": [
            "ACCURACY\n",
            "t statistic: 1.932\n",
            "p value: 0.111\n",
            "-------------------------------------------\n",
            "PRECISION\n",
            "t statistic: 2.080\n",
            "p value: 0.092\n",
            "-------------------------------------------\n",
            "RECALL\n",
            "t statistic: -3.314\n",
            "p value: 0.021\n"
          ],
          "name": "stdout"
        }
      ]
    },
    {
      "cell_type": "markdown",
      "metadata": {
        "id": "LiJPoQ6LhRQn"
      },
      "source": [
        "At a alpha =.05 level, we can conclude that the difference in Accuracy and Precision between the two models are not statistically significant. The difference in Recall, however, is significant at alpha =.05, meaning the optimized Recall model does produce a statistically significantly better recall score. \n",
        "\n",
        "So the advantages for the Accuracy optimized model is that we have a slight increase in both Accuracy and Precision, though not statistically significant from our Recall optimized model. The advantage of our Recall optimized model is a statistically better Recall score but lower overall accuracy and precision.\n",
        "\n",
        "We would conclude that the recall optimizing model is our better model for the Bernoulli Naive Bayes classification task. Even though it produces slightly worse overall accuracy and precision scores, the recall score is significantly better. It is important to us to be able to confidently predict when a posting is a 'higher' price so people understand the level to which they may have to pay. We would rather more consistently get it right when the posting is listed as \"High\" even at a cost of slightly lower accuracy. "
      ]
    },
    {
      "cell_type": "markdown",
      "metadata": {
        "id": "kMCXM9O_jnUb"
      },
      "source": [
        "## Knn Model Comparisons"
      ]
    },
    {
      "cell_type": "markdown",
      "metadata": {
        "id": "71llyNe644pc"
      },
      "source": [
        "**New Material:**KNN accuracy to KNN recall comparisons, with paired t-tests and write-up \n",
        "\n",
        "---\n",
        "\n",
        "previously this section had only RF to KNN accuracy model comparisons and was deleted."
      ]
    },
    {
      "cell_type": "code",
      "metadata": {
        "id": "W-02SvhoTAJX",
        "colab": {
          "base_uri": "https://localhost:8080/",
          "height": 121
        },
        "outputId": "01fbaade-3b8b-44bb-a14c-5cfedbcf9817"
      },
      "source": [
        "# Displaying the hard coded models which are equal to the .best_params_ of the grid search object without needing\n",
        "# to re-run the grid search.\n",
        "print(\"Best accuracy Knn Model\", Knn_accuracy)\n",
        "print(\"Best recall Knn Model\",Knn_recall)"
      ],
      "execution_count": null,
      "outputs": [
        {
          "output_type": "stream",
          "text": [
            "Best accuracy Knn Model KNeighborsClassifier(algorithm='auto', leaf_size=30, metric='manhattan',\n",
            "                     metric_params=None, n_jobs=None, n_neighbors=10, p=2,\n",
            "                     weights='uniform')\n",
            "Best recall Knn Model KNeighborsClassifier(algorithm='auto', leaf_size=30, metric='manhattan',\n",
            "                     metric_params=None, n_jobs=None, n_neighbors=5, p=2,\n",
            "                     weights='uniform')\n"
          ],
          "name": "stdout"
        }
      ]
    },
    {
      "cell_type": "markdown",
      "metadata": {
        "id": "u478SDvBg2HT"
      },
      "source": [
        "The accuracy optimizing Knn grid search produced a Knn model that had uniform weight, Manhattan distancing and 10 nearest neighbors that are used to determine which way price is classified, \"high\" or \"low\".\n",
        "\n",
        "The recall optimizing Knn model is nearly identical to the accuracy model except that it uses 5 nearest neighbors instead of 10 to make it's classification. "
      ]
    },
    {
      "cell_type": "code",
      "metadata": {
        "id": "k-AacEa4hWpV",
        "colab": {
          "base_uri": "https://localhost:8080/",
          "height": 519
        },
        "outputId": "c868e1ca-337b-4edc-809a-6545a93334b0"
      },
      "source": [
        "# Compare best accuracy KNN model to best recall KNN model\n",
        "from sklearn.model_selection import cross_validate\n",
        "from sklearn.model_selection import StratifiedKFold\n",
        "cv = StratifiedKFold(n_splits=10,shuffle=True, random_state=0) #make sure to keep same random_state across models\n",
        "\n",
        "def EvaluateClassifierEstimator(classifierEstimator1, classifierEstimator2, X, y, cv):\n",
        "   \n",
        "    #Perform cross validation \n",
        "    scores = cross_validate(classifierEstimator1, scaled_Xc, yc, scoring=['accuracy','precision','recall']\n",
        "                            , cv=cv, return_train_score=True)\n",
        "    scores2 = cross_validate(classifierEstimator2, scaled_Xc, yc, scoring=['accuracy','precision','recall']\n",
        "                            , cv=cv, return_train_score=True)\n",
        "\n",
        "    Accavg = scores['test_accuracy'].mean()\n",
        "    Preavg = scores['test_precision'].mean()\n",
        "    Recavg = scores['test_recall'].mean()\n",
        "\n",
        "    Accavg2 = scores2['test_accuracy'].mean()\n",
        "    Preavg2 = scores2['test_precision'].mean()\n",
        "    Recavg2 = scores2['test_recall'].mean()\n",
        "\n",
        "    print(\"The average Best Accuracy model accuracy for all cv folds is:\", Accavg)\n",
        "    print(\"The average Best Accuracy model precision for all cv folds is:\", Preavg)\n",
        "    print(\"The average Best Accuracy model recall for all cv folds is:\", Recavg)\n",
        "\n",
        "    print(\"The average Best Recall model accuracy for all cv folds is:\", Accavg2)\n",
        "    print(\"The average Best Recall model precision for all cv folds is:\", Preavg2)\n",
        "    print(\"The average Best Recall model recall for all cv folds is:\", Recavg2)\n",
        "    \n",
        "    \n",
        "    print('*********************************************************')\n",
        "\n",
        "    print('Cross Validation Fold Mean Error Scores')\n",
        "    scoresResults = pd.DataFrame()\n",
        "    scoresResults['Best Accuracy Model Accuracy'] = scores['test_accuracy']\n",
        "    scoresResults['Best Recall Model Accuracy'] = scores2['test_accuracy']\n",
        "    scoresResults['Best Accuracy Model Precision'] = scores['test_precision']\n",
        "    scoresResults['Best Recall Model Precision'] = scores2['test_precision']\n",
        "    scoresResults['Best Accuracy Model Recall'] = scores['test_recall']\n",
        "    scoresResults['Best Recall Model Recall'] = scores2['test_recall']\n",
        "    return scoresResults\n",
        "classifierEst1 = Knn_accuracy\n",
        "classifierEst2 = Knn_recall\n",
        "\n",
        "#Evaluate the estimator above using our pre-defined cross validation and scoring metrics. \n",
        "EvaluateClassifierEstimator(classifierEst1, classifierEst2, scaled_Xc, yc, cv)"
      ],
      "execution_count": null,
      "outputs": [
        {
          "output_type": "stream",
          "text": [
            "The average Best Accuracy model accuracy for all cv folds is: 0.9241026660994736\n",
            "The average Best Accuracy model precision for all cv folds is: 0.6080724983092318\n",
            "The average Best Accuracy model recall for all cv folds is: 0.15211584633853542\n",
            "The average Best Recall model accuracy for all cv folds is: 0.9180898649403255\n",
            "The average Best Recall model precision for all cv folds is: 0.4782710020897428\n",
            "The average Best Recall model recall for all cv folds is: 0.2289420115872436\n",
            "*********************************************************\n",
            "Cross Validation Fold Mean Error Scores\n"
          ],
          "name": "stdout"
        },
        {
          "output_type": "execute_result",
          "data": {
            "text/html": [
              "<div>\n",
              "<style scoped>\n",
              "    .dataframe tbody tr th:only-of-type {\n",
              "        vertical-align: middle;\n",
              "    }\n",
              "\n",
              "    .dataframe tbody tr th {\n",
              "        vertical-align: top;\n",
              "    }\n",
              "\n",
              "    .dataframe thead th {\n",
              "        text-align: right;\n",
              "    }\n",
              "</style>\n",
              "<table border=\"1\" class=\"dataframe\">\n",
              "  <thead>\n",
              "    <tr style=\"text-align: right;\">\n",
              "      <th></th>\n",
              "      <th>Best Accuracy Model Accuracy</th>\n",
              "      <th>Best Recall Model Accuracy</th>\n",
              "      <th>Best Accuracy Model Precision</th>\n",
              "      <th>Best Recall Model Precision</th>\n",
              "      <th>Best Accuracy Model Recall</th>\n",
              "      <th>Best Recall Model Recall</th>\n",
              "    </tr>\n",
              "  </thead>\n",
              "  <tbody>\n",
              "    <tr>\n",
              "      <th>0</th>\n",
              "      <td>0.922904</td>\n",
              "      <td>0.917178</td>\n",
              "      <td>0.574257</td>\n",
              "      <td>0.467662</td>\n",
              "      <td>0.147959</td>\n",
              "      <td>0.239796</td>\n",
              "    </tr>\n",
              "    <tr>\n",
              "      <th>1</th>\n",
              "      <td>0.925562</td>\n",
              "      <td>0.919427</td>\n",
              "      <td>0.648936</td>\n",
              "      <td>0.494845</td>\n",
              "      <td>0.155612</td>\n",
              "      <td>0.244898</td>\n",
              "    </tr>\n",
              "    <tr>\n",
              "      <th>2</th>\n",
              "      <td>0.923313</td>\n",
              "      <td>0.914519</td>\n",
              "      <td>0.584158</td>\n",
              "      <td>0.433673</td>\n",
              "      <td>0.150510</td>\n",
              "      <td>0.216837</td>\n",
              "    </tr>\n",
              "    <tr>\n",
              "      <th>3</th>\n",
              "      <td>0.924131</td>\n",
              "      <td>0.917178</td>\n",
              "      <td>0.617978</td>\n",
              "      <td>0.464088</td>\n",
              "      <td>0.140306</td>\n",
              "      <td>0.214286</td>\n",
              "    </tr>\n",
              "    <tr>\n",
              "      <th>4</th>\n",
              "      <td>0.924744</td>\n",
              "      <td>0.918200</td>\n",
              "      <td>0.625000</td>\n",
              "      <td>0.477528</td>\n",
              "      <td>0.153061</td>\n",
              "      <td>0.216837</td>\n",
              "    </tr>\n",
              "    <tr>\n",
              "      <th>5</th>\n",
              "      <td>0.926774</td>\n",
              "      <td>0.922888</td>\n",
              "      <td>0.698795</td>\n",
              "      <td>0.544304</td>\n",
              "      <td>0.148338</td>\n",
              "      <td>0.219949</td>\n",
              "    </tr>\n",
              "    <tr>\n",
              "      <th>6</th>\n",
              "      <td>0.920843</td>\n",
              "      <td>0.916752</td>\n",
              "      <td>0.518182</td>\n",
              "      <td>0.459596</td>\n",
              "      <td>0.145780</td>\n",
              "      <td>0.232737</td>\n",
              "    </tr>\n",
              "    <tr>\n",
              "      <th>7</th>\n",
              "      <td>0.923502</td>\n",
              "      <td>0.915934</td>\n",
              "      <td>0.588235</td>\n",
              "      <td>0.452261</td>\n",
              "      <td>0.153061</td>\n",
              "      <td>0.229592</td>\n",
              "    </tr>\n",
              "    <tr>\n",
              "      <th>8</th>\n",
              "      <td>0.923297</td>\n",
              "      <td>0.918797</td>\n",
              "      <td>0.580952</td>\n",
              "      <td>0.486188</td>\n",
              "      <td>0.155612</td>\n",
              "      <td>0.224490</td>\n",
              "    </tr>\n",
              "    <tr>\n",
              "      <th>9</th>\n",
              "      <td>0.925956</td>\n",
              "      <td>0.920025</td>\n",
              "      <td>0.644231</td>\n",
              "      <td>0.502564</td>\n",
              "      <td>0.170918</td>\n",
              "      <td>0.250000</td>\n",
              "    </tr>\n",
              "  </tbody>\n",
              "</table>\n",
              "</div>"
            ],
            "text/plain": [
              "   Best Accuracy Model Accuracy  ...  Best Recall Model Recall\n",
              "0                      0.922904  ...                  0.239796\n",
              "1                      0.925562  ...                  0.244898\n",
              "2                      0.923313  ...                  0.216837\n",
              "3                      0.924131  ...                  0.214286\n",
              "4                      0.924744  ...                  0.216837\n",
              "5                      0.926774  ...                  0.219949\n",
              "6                      0.920843  ...                  0.232737\n",
              "7                      0.923502  ...                  0.229592\n",
              "8                      0.923297  ...                  0.224490\n",
              "9                      0.925956  ...                  0.250000\n",
              "\n",
              "[10 rows x 6 columns]"
            ]
          },
          "metadata": {
            "tags": []
          },
          "execution_count": 17
        }
      ]
    },
    {
      "cell_type": "markdown",
      "metadata": {
        "id": "227VFTNECIDG"
      },
      "source": [
        "The best accuracy Knn model has only a slightly better average accuracy score than the best recall KNN model (.924 to .918). However the best accuracy KNN model has a considerably higher precision score than the best recall KNN (.608 to .478). Finally the best recall KNN model does have the higher Recall score, (.152 to .229) however this difference is definitely less than the difference in precision. \n",
        "\n",
        "The advantages for the best accuracy model are an ever so slightly higher accuracy score, and a considerably higher precision score but it is at a decent disadvantage in recall to our Recall optimized model.\n",
        "\n",
        "Next we will run paired to tests on all three metrics to see if any of these differences are statistically significant at alpha = .05. "
      ]
    },
    {
      "cell_type": "code",
      "metadata": {
        "id": "2XuxCU0oU_Va",
        "colab": {
          "base_uri": "https://localhost:8080/",
          "height": 208
        },
        "outputId": "3070a274-2a7f-4c41-e0e8-42205b47aa19"
      },
      "source": [
        "from mlxtend.evaluate import paired_ttest_5x2cv\n",
        "\n",
        "t, p = paired_ttest_5x2cv(estimator1= Knn_accuracy,####ACCURACY\n",
        "                          estimator2= Knn_recall, scoring='accuracy',\n",
        "                          X=scaled_Xc, y=yc,\n",
        "                          random_seed=0)\n",
        "\n",
        "t2, p2 = paired_ttest_5x2cv(estimator1= Knn_accuracy,####PRECISION\n",
        "                          estimator2= Knn_recall, scoring='precision',\n",
        "                          X=scaled_Xc, y=yc,\n",
        "                          random_seed=0)\n",
        "\n",
        "t3, p3 = paired_ttest_5x2cv(estimator1= Knn_accuracy,####RECALL\n",
        "                          estimator2= Knn_recall, scoring='recall',\n",
        "                          X=scaled_Xc, y=yc,\n",
        "                          random_seed=0)\n",
        "print('ACCURACY')\n",
        "print('t statistic: %.3f' % t)\n",
        "print('p value: %.3f' % p)\n",
        "print('-------------------------------------------')\n",
        "print('PRECISION')\n",
        "print('t statistic: %.3f' % t2)\n",
        "print('p value: %.3f' % p2)\n",
        "print('-------------------------------------------')\n",
        "print('RECALL')\n",
        "print('t statistic: %.3f' % t3)\n",
        "print('p value: %.3f' % p3)"
      ],
      "execution_count": null,
      "outputs": [
        {
          "output_type": "stream",
          "text": [
            "ACCURACY\n",
            "t statistic: 16.327\n",
            "p value: 0.000\n",
            "-------------------------------------------\n",
            "PRECISION\n",
            "t statistic: 6.272\n",
            "p value: 0.002\n",
            "-------------------------------------------\n",
            "RECALL\n",
            "t statistic: -7.934\n",
            "p value: 0.001\n"
          ],
          "name": "stdout"
        }
      ]
    },
    {
      "cell_type": "markdown",
      "metadata": {
        "id": "2F8YM8m0Vw98"
      },
      "source": [
        "The accuracy Knn model has both a statisitically significant accuracy and precision score. It has a very significant accuracy  with p <.001. The recall optimizing score is significantly better for the recall Knn model at p = .001. However, we implement our Knn accuracy model because of the sizable advantage in accuracy, our most important metric while also getting a major increase in Precision as well."
      ]
    },
    {
      "cell_type": "markdown",
      "metadata": {
        "id": "0_4E3_rRNKV_"
      },
      "source": [
        "## Random Forest Model Comparisons"
      ]
    },
    {
      "cell_type": "markdown",
      "metadata": {
        "id": "vmr-NaRB5BRO"
      },
      "source": [
        "**New Material:**Random Forest accuracy to recall comparisons, with paired t-tests and write-up \n",
        "\n",
        "---\n",
        "\n",
        "previously this section had only RF to KNN accuracy comparisons and was deleted."
      ]
    },
    {
      "cell_type": "code",
      "metadata": {
        "id": "A7cfxjX79YCc",
        "colab": {
          "base_uri": "https://localhost:8080/",
          "height": 295
        },
        "outputId": "c39e0640-7abd-4286-9cb9-9774ccabe0da"
      },
      "source": [
        "# Displaying the hard coded models which are equal to the .best_params_ of the grid search object without needing\n",
        "# to re-run the grid search.\n",
        "print(\"Best accuracy RF Model\", RF_accuracy)\n",
        "print(\"Best recall RF Model\",RF_recall)"
      ],
      "execution_count": null,
      "outputs": [
        {
          "output_type": "stream",
          "text": [
            "Best accuracy RF Model RandomForestClassifier(bootstrap=True, ccp_alpha=0.0, class_weight=None,\n",
            "                       criterion='gini', max_depth=40, max_features='sqrt',\n",
            "                       max_leaf_nodes=None, max_samples=None,\n",
            "                       min_impurity_decrease=0.0, min_impurity_split=None,\n",
            "                       min_samples_leaf=1, min_samples_split=10,\n",
            "                       min_weight_fraction_leaf=0.0, n_estimators=400,\n",
            "                       n_jobs=None, oob_score=False, random_state=None,\n",
            "                       verbose=0, warm_start=False)\n",
            "Best recall RF Model RandomForestClassifier(bootstrap=False, ccp_alpha=0.0, class_weight=None,\n",
            "                       criterion='gini', max_depth=None, max_features='sqrt',\n",
            "                       max_leaf_nodes=None, max_samples=None,\n",
            "                       min_impurity_decrease=0.0, min_impurity_split=None,\n",
            "                       min_samples_leaf=1, min_samples_split=2,\n",
            "                       min_weight_fraction_leaf=0.0, n_estimators=400,\n",
            "                       n_jobs=None, oob_score=False, random_state=None,\n",
            "                       verbose=0, warm_start=False)\n"
          ],
          "name": "stdout"
        }
      ]
    },
    {
      "cell_type": "markdown",
      "metadata": {
        "id": "vqyrlfy_W51L"
      },
      "source": [
        "The two RF classifier models are both similar but differ in the min sample splits, which is the number of minimal samples required to split at a node. The max depth is also different, which is how far down the tree is permitted to go."
      ]
    },
    {
      "cell_type": "code",
      "metadata": {
        "id": "sL202Gvk-2Eq",
        "colab": {
          "base_uri": "https://localhost:8080/",
          "height": 519
        },
        "outputId": "326187c4-ddf4-41ac-adac-961fa102a47d"
      },
      "source": [
        "#Compare best accuracy RF model to best recall RF model\n",
        "from sklearn.model_selection import cross_validate\n",
        "from sklearn.model_selection import StratifiedKFold\n",
        "cv = StratifiedKFold(n_splits=10,shuffle=True, random_state=0) #make sure to keep same random_state across models\n",
        "\n",
        "def EvaluateClassifierEstimator(classifierEstimator1, classifierEstimator2, X, y, cv):\n",
        "   \n",
        "    #Perform cross validation \n",
        "    scores = cross_validate(classifierEstimator1, scaled_Xc, yc, scoring=['accuracy','precision','recall']\n",
        "                            , cv=cv, return_train_score=True)\n",
        "    scores2 = cross_validate(classifierEstimator2, scaled_Xc, yc, scoring=['accuracy','precision','recall']\n",
        "                            , cv=cv, return_train_score=True)\n",
        "\n",
        "    Accavg = scores['test_accuracy'].mean()\n",
        "    Preavg = scores['test_precision'].mean()\n",
        "    Recavg = scores['test_recall'].mean()\n",
        "\n",
        "    Accavg2 = scores2['test_accuracy'].mean()\n",
        "    Preavg2 = scores2['test_precision'].mean()\n",
        "    Recavg2 = scores2['test_recall'].mean()\n",
        "\n",
        "    print(\"The average Best Accuracy model accuracy for all cv folds is:\", Accavg)\n",
        "    print(\"The average Best Accuracy model precision for all cv folds is:\", Preavg)\n",
        "    print(\"The average Best Accuracy model recall for all cv folds is:\", Recavg)\n",
        "\n",
        "    print(\"The average Best Recall model accuracy for all cv folds is:\", Accavg2)\n",
        "    print(\"The average Best Recall model precision for all cv folds is:\", Preavg2)\n",
        "    print(\"The average Best Recall model recall for all cv folds is:\", Recavg2)\n",
        "    \n",
        "    \n",
        "    print('*********************************************************')\n",
        "\n",
        "    print('Cross Validation Fold Mean Error Scores')\n",
        "    scoresResults = pd.DataFrame()\n",
        "    scoresResults['Best Accuracy Model Accuracy'] = scores['test_accuracy']\n",
        "    scoresResults['Best Recall Model Accuracy'] = scores2['test_accuracy']\n",
        "    scoresResults['Best Accuracy Model Precision'] = scores['test_precision']\n",
        "    scoresResults['Best Recall Model Precision'] = scores2['test_precision']\n",
        "    scoresResults['Best Accuracy Model Recall'] = scores['test_recall']\n",
        "    scoresResults['Best Recall Model Recall'] = scores2['test_recall']\n",
        "    return scoresResults\n",
        "classifierEst1 = RF_accuracy\n",
        "classifierEst2 = RF_recall\n",
        "\n",
        "#Evaluate the estimator above using our pre-defined cross validation and scoring metrics. \n",
        "EvaluateClassifierEstimator(classifierEst1, classifierEst2, scaled_Xc, yc, cv)"
      ],
      "execution_count": null,
      "outputs": [
        {
          "output_type": "stream",
          "text": [
            "The average Best Accuracy model accuracy for all cv folds is: 0.927150010394354\n",
            "The average Best Accuracy model precision for all cv folds is: 0.7116513284277919\n",
            "The average Best Accuracy model recall for all cv folds is: 0.15415601023017902\n",
            "The average Best Recall model accuracy for all cv folds is: 0.9234277776453211\n",
            "The average Best Recall model precision for all cv folds is: 0.5547037025087548\n",
            "The average Best Recall model recall for all cv folds is: 0.22690119526071295\n",
            "*********************************************************\n",
            "Cross Validation Fold Mean Error Scores\n"
          ],
          "name": "stdout"
        },
        {
          "output_type": "execute_result",
          "data": {
            "text/html": [
              "<div>\n",
              "<style scoped>\n",
              "    .dataframe tbody tr th:only-of-type {\n",
              "        vertical-align: middle;\n",
              "    }\n",
              "\n",
              "    .dataframe tbody tr th {\n",
              "        vertical-align: top;\n",
              "    }\n",
              "\n",
              "    .dataframe thead th {\n",
              "        text-align: right;\n",
              "    }\n",
              "</style>\n",
              "<table border=\"1\" class=\"dataframe\">\n",
              "  <thead>\n",
              "    <tr style=\"text-align: right;\">\n",
              "      <th></th>\n",
              "      <th>Best Accuracy Model Accuracy</th>\n",
              "      <th>Best Recall Model Accuracy</th>\n",
              "      <th>Best Accuracy Model Precision</th>\n",
              "      <th>Best Recall Model Precision</th>\n",
              "      <th>Best Accuracy Model Recall</th>\n",
              "      <th>Best Recall Model Recall</th>\n",
              "    </tr>\n",
              "  </thead>\n",
              "  <tbody>\n",
              "    <tr>\n",
              "      <th>0</th>\n",
              "      <td>0.926789</td>\n",
              "      <td>0.920041</td>\n",
              "      <td>0.666667</td>\n",
              "      <td>0.502924</td>\n",
              "      <td>0.173469</td>\n",
              "      <td>0.219388</td>\n",
              "    </tr>\n",
              "    <tr>\n",
              "      <th>1</th>\n",
              "      <td>0.926585</td>\n",
              "      <td>0.923517</td>\n",
              "      <td>0.694118</td>\n",
              "      <td>0.553571</td>\n",
              "      <td>0.150510</td>\n",
              "      <td>0.237245</td>\n",
              "    </tr>\n",
              "    <tr>\n",
              "      <th>2</th>\n",
              "      <td>0.925971</td>\n",
              "      <td>0.922699</td>\n",
              "      <td>0.670455</td>\n",
              "      <td>0.543750</td>\n",
              "      <td>0.150510</td>\n",
              "      <td>0.221939</td>\n",
              "    </tr>\n",
              "    <tr>\n",
              "      <th>3</th>\n",
              "      <td>0.927403</td>\n",
              "      <td>0.922904</td>\n",
              "      <td>0.760563</td>\n",
              "      <td>0.553957</td>\n",
              "      <td>0.137755</td>\n",
              "      <td>0.196429</td>\n",
              "    </tr>\n",
              "    <tr>\n",
              "      <th>4</th>\n",
              "      <td>0.929243</td>\n",
              "      <td>0.926789</td>\n",
              "      <td>0.767442</td>\n",
              "      <td>0.604938</td>\n",
              "      <td>0.168367</td>\n",
              "      <td>0.250000</td>\n",
              "    </tr>\n",
              "    <tr>\n",
              "      <th>5</th>\n",
              "      <td>0.928615</td>\n",
              "      <td>0.923502</td>\n",
              "      <td>0.769231</td>\n",
              "      <td>0.554140</td>\n",
              "      <td>0.153453</td>\n",
              "      <td>0.222506</td>\n",
              "    </tr>\n",
              "    <tr>\n",
              "      <th>6</th>\n",
              "      <td>0.924524</td>\n",
              "      <td>0.923706</td>\n",
              "      <td>0.627907</td>\n",
              "      <td>0.555556</td>\n",
              "      <td>0.138107</td>\n",
              "      <td>0.230179</td>\n",
              "    </tr>\n",
              "    <tr>\n",
              "      <th>7</th>\n",
              "      <td>0.928615</td>\n",
              "      <td>0.922274</td>\n",
              "      <td>0.772152</td>\n",
              "      <td>0.538462</td>\n",
              "      <td>0.155612</td>\n",
              "      <td>0.214286</td>\n",
              "    </tr>\n",
              "    <tr>\n",
              "      <th>8</th>\n",
              "      <td>0.925752</td>\n",
              "      <td>0.925138</td>\n",
              "      <td>0.670588</td>\n",
              "      <td>0.586667</td>\n",
              "      <td>0.145408</td>\n",
              "      <td>0.224490</td>\n",
              "    </tr>\n",
              "    <tr>\n",
              "      <th>9</th>\n",
              "      <td>0.928002</td>\n",
              "      <td>0.923706</td>\n",
              "      <td>0.717391</td>\n",
              "      <td>0.553073</td>\n",
              "      <td>0.168367</td>\n",
              "      <td>0.252551</td>\n",
              "    </tr>\n",
              "  </tbody>\n",
              "</table>\n",
              "</div>"
            ],
            "text/plain": [
              "   Best Accuracy Model Accuracy  ...  Best Recall Model Recall\n",
              "0                      0.926789  ...                  0.219388\n",
              "1                      0.926585  ...                  0.237245\n",
              "2                      0.925971  ...                  0.221939\n",
              "3                      0.927403  ...                  0.196429\n",
              "4                      0.929243  ...                  0.250000\n",
              "5                      0.928615  ...                  0.222506\n",
              "6                      0.924524  ...                  0.230179\n",
              "7                      0.928615  ...                  0.214286\n",
              "8                      0.925752  ...                  0.224490\n",
              "9                      0.928002  ...                  0.252551\n",
              "\n",
              "[10 rows x 6 columns]"
            ]
          },
          "metadata": {
            "tags": []
          },
          "execution_count": 5
        }
      ]
    },
    {
      "cell_type": "markdown",
      "metadata": {
        "id": "HgZykRYrX1GJ"
      },
      "source": [
        "Once again in our classifiers we see that the Accuracy RF model outperforms the Recall RF model in both accuracy and precision while the recall RF model has the advantage in recall score. A paired t-test is run to test the statistical significance between these metrics"
      ]
    },
    {
      "cell_type": "code",
      "metadata": {
        "id": "jNaf64SCEFOb",
        "colab": {
          "base_uri": "https://localhost:8080/",
          "height": 208
        },
        "outputId": "96d54eba-8bf9-4f68-f748-d2ac705fd5c7"
      },
      "source": [
        "from mlxtend.evaluate import paired_ttest_5x2cv\n",
        "\n",
        "t, p = paired_ttest_5x2cv(estimator1= RF_accuracy,####ACCURACY\n",
        "                          estimator2= RF_recall, scoring='accuracy',\n",
        "                          X=scaled_Xc, y=yc,\n",
        "                          random_seed=0)\n",
        "\n",
        "t2, p2 = paired_ttest_5x2cv(estimator1= RF_accuracy,####PRECISION\n",
        "                          estimator2= RF_recall, scoring='precision',\n",
        "                          X=scaled_Xc, y=yc,\n",
        "                          random_seed=0)\n",
        "\n",
        "t3, p3 = paired_ttest_5x2cv(estimator1= RF_accuracy,####RECALL\n",
        "                          estimator2= RF_recall, scoring='recall',\n",
        "                          X=scaled_Xc, y=yc,\n",
        "                          random_seed=0)\n",
        "print('ACCURACY')\n",
        "print('t statistic: %.3f' % t)\n",
        "print('p value: %.3f' % p)\n",
        "print('-------------------------------------------')\n",
        "print('PRECISION')\n",
        "print('t statistic: %.3f' % t2)\n",
        "print('p value: %.3f' % p2)\n",
        "print('-------------------------------------------')\n",
        "print('RECALL')\n",
        "print('t statistic: %.3f' % t3)\n",
        "print('p value: %.3f' % p3)"
      ],
      "execution_count": null,
      "outputs": [
        {
          "output_type": "stream",
          "text": [
            "ACCURACY\n",
            "t statistic: 5.442\n",
            "p value: 0.003\n",
            "-------------------------------------------\n",
            "PRECISION\n",
            "t statistic: 5.422\n",
            "p value: 0.003\n",
            "-------------------------------------------\n",
            "RECALL\n",
            "t statistic: -7.035\n",
            "p value: 0.001\n"
          ],
          "name": "stdout"
        }
      ]
    },
    {
      "cell_type": "markdown",
      "metadata": {
        "id": "OyFOZM1nYoHz"
      },
      "source": [
        "From the tests for significance we can see that the accuracy RF model is significantly better, at alpha = .05, in both the accuracy and precision metrics(p=.03,p=.03). The recall score is however significantly better for the Recall RF model. Once again though we would implement the accuracy RF model as it has the advantage in two of our major metrics. "
      ]
    },
    {
      "cell_type": "markdown",
      "metadata": {
        "id": "vFuZG_avhDSP"
      },
      "source": [
        "# **Modeling and Evaluation 6**\n",
        "\n"
      ]
    },
    {
      "cell_type": "code",
      "metadata": {
        "id": "IDVqhMjKS831",
        "colab": {
          "base_uri": "https://localhost:8080/",
          "height": 132
        },
        "outputId": "99f44c6f-4e19-4615-ed2b-3047581ab22e"
      },
      "source": [
        "\n",
        "!pip install -U yellowbrick"
      ],
      "execution_count": null,
      "outputs": [
        {
          "output_type": "error",
          "ename": "SyntaxError",
          "evalue": "ignored",
          "traceback": [
            "\u001b[0;36m  File \u001b[0;32m\"<ipython-input-1-095f21ce8e6b>\"\u001b[0;36m, line \u001b[0;32m1\u001b[0m\n\u001b[0;31m    uninstall yellowbrick\u001b[0m\n\u001b[0m                        ^\u001b[0m\n\u001b[0;31mSyntaxError\u001b[0m\u001b[0;31m:\u001b[0m invalid syntax\n"
          ]
        }
      ]
    },
    {
      "cell_type": "code",
      "metadata": {
        "id": "ZGPAtMEUTLaN",
        "colab": {
          "base_uri": "https://localhost:8080/",
          "height": 1000
        },
        "outputId": "c2582eaf-bd9a-4774-9ef2-a1cc26d13cc9"
      },
      "source": [
        "from sklearn.ensemble import RandomForestRegressor\n",
        "import matplotlib.pyplot as plt\n",
        "from yellowbrick.model_selection import FeatureImportances\n",
        "\n",
        "from sklearn.preprocessing import StandardScaler\n",
        "#Fit to data for scaling\n",
        "scaler = StandardScaler()\n",
        "scaler.fit(Xr)\n",
        "Xr_scale = scaler.transform(Xr)\n",
        "\n",
        "model = RandomForestRegressor(bootstrap=True, ccp_alpha=0.0, criterion='mse',\n",
        "                      max_depth=None, max_features='sqrt', max_leaf_nodes=None,\n",
        "                      max_samples=None, min_impurity_decrease=0.0,\n",
        "                      min_impurity_split=None, min_samples_leaf=1,\n",
        "                      min_samples_split=2, min_weight_fraction_leaf=0.0,\n",
        "                      n_estimators=100, n_jobs=None, oob_score=False,\n",
        "                      random_state=None, verbose=0, warm_start=False)\n",
        "\n",
        "\n",
        "fig = plt.figure(figsize=(20,50))\n",
        "ax = fig.add_subplot(111)\n",
        "\n",
        "viz = FeatureImportances(model, relative=False,ax=ax)\n",
        "viz.fit(Xr_scale, yr)\n",
        "viz.show()\n",
        "\n",
        "\n",
        "\n"
      ],
      "execution_count": null,
      "outputs": [
        {
          "output_type": "stream",
          "text": [
            "/usr/local/lib/python3.6/dist-packages/sklearn/base.py:197: FutureWarning: From version 0.24, get_params will raise an AttributeError if a parameter cannot be retrieved as an instance attribute. Previously it would return None.\n",
            "  FutureWarning)\n"
          ],
          "name": "stderr"
        },
        {
          "output_type": "display_data",
          "data": {
            "image/png": "[encoded data removed]",
            "text/plain": [
              "<Figure size 1440x3600 with 1 Axes>"
            ]
          },
          "metadata": {
            "tags": []
          }
        },
        {
          "output_type": "execute_result",
          "data": {
            "text/plain": [
              "<matplotlib.axes._subplots.AxesSubplot at 0x7f9c48989470>"
            ]
          },
          "metadata": {
            "tags": []
          },
          "execution_count": 20
        }
      ]
    },
    {
      "cell_type": "code",
      "metadata": {
        "id": "NRNo-6HaTZYb",
        "colab": {
          "base_uri": "https://localhost:8080/",
          "height": 191
        },
        "outputId": "37e7fb13-c62c-4189-c1c2-77cd5214ebe8"
      },
      "source": [
        "col_list = rdata.columns\n",
        "count = 1\n",
        "for col in col_list[[1,0,233,2,6,4,5,3,231,232]]:\n",
        "  print('The #',count,'feature is ',col)\n",
        "  count += 1\n",
        "\n"
      ],
      "execution_count": null,
      "outputs": [
        {
          "output_type": "stream",
          "text": [
            "The # 1 feature is  longitude\n",
            "The # 2 feature is  latitude\n",
            "The # 3 feature is  great_listing\n",
            "The # 4 feature is  minimum_nights\n",
            "The # 5 feature is  availability_365\n",
            "The # 6 feature is  reviews_per_month\n",
            "The # 7 feature is  calculated_host_listings_count\n",
            "The # 8 feature is  number_of_reviews\n",
            "The # 9 feature is  type_Entire home/apt\n",
            "The # 10 feature is  type_Private room\n"
          ],
          "name": "stdout"
        }
      ]
    },
    {
      "cell_type": "markdown",
      "metadata": {
        "id": "vL-Cjf1tBuAo"
      },
      "source": [
        "**For our best regression estimator, Randomforest regressor..... Longitude, Latitude, and great listing were our top three features for estimating price. The interesting part about this visualizations is that none of the Neighborhood_hood_groups, and Neighborhoods made it to the top 10 features. Also according to feature importance we seem to get diminishing returns after 20 features. I guess we can conclude that to identify the price of a particular area in New York you only need longitude and latitude, and not Neighborhood hood group**"
      ]
    },
    {
      "cell_type": "markdown",
      "metadata": {
        "id": "zM-DToMi4P-2"
      },
      "source": [
        "New Material: Bernoulli Naive Bayes Attribute plots"
      ]
    },
    {
      "cell_type": "code",
      "metadata": {
        "id": "GZ5RjcyC84WF",
        "colab": {
          "base_uri": "https://localhost:8080/",
          "height": 1000
        },
        "outputId": "cf9f28c5-0907-47e4-fb9b-bb1e74db63ef"
      },
      "source": [
        "#Bernoulli Naive Bayes Estimator Positive features\n",
        "#Use optimal recall Naive Bayes since that was determined to be the more advantageous model\n",
        "NBclassifierEst = Bnb_recall.best_estimator_\n",
        "pos_class_prob_sorted = NBclassifierEst.feature_log_prob_[1,:].argsort()\n",
        "\n",
        "NBclassifierEst.fit(scaled_Xc, yc)\n",
        "\n",
        "weights = pos_class_prob_sorted\n",
        "feature_names = cdata.columns.values\n",
        "linreg_ft_imp_df = pd.DataFrame({'feature_names':feature_names, 'weights':weights})\n",
        "linreg_ft_imp_df.sort_values(by='weights', inplace=True, ascending=False )\n",
        "\n",
        "import matplotlib.pyplot as plt\n",
        "%matplotlib inline\n",
        "\n",
        "#Plot the model's feature importances\n",
        "# REFERENCE:  Eric Larson, https://github.com/eclarson/DataMiningNotebooks\n",
        "plt.style.use('ggplot')\n",
        "\n",
        "wt_plt_df = linreg_ft_imp_df.head(75)\n",
        "\n",
        "weights = pd.Series(wt_plt_df['weights'].values,index=wt_plt_df['feature_names'])\n",
        "ax = weights.plot(kind='bar', figsize=(20,8))\n",
        "\n",
        "ax.set_title(\"Top Positive Feature Probabilities (Classified as High Price)\")\n",
        "ax.set_ylabel(\"Feature Log Probabilities\")\n",
        "ax.set_xlabel(\"Feature Names\")\n",
        "plt.show()\n",
        "\n",
        "weights = neg_class_prob_sorted\n",
        "feature_names = cdata.columns.values\n",
        "linreg_ft_imp_df = pd.DataFrame({'feature_names':feature_names,'weights':weights})\n",
        "linreg_ft_imp_df.sort_values(by='weights', inplace=True, ascending=False )\n",
        "\n",
        "import matplotlib.pyplot as plt\n",
        "%matplotlib inline\n",
        "\n",
        "#Plot the model's feature importances\n",
        "# REFERENCE:  Eric Larson, https://github.com/eclarson/DataMiningNotebooks\n",
        "plt.style.use('ggplot')\n",
        "\n",
        "wt_plt_df = linreg_ft_imp_df.head(75)\n",
        "\n",
        "weights = pd.Series(wt_plt_df['weights'].values,index=wt_plt_df['feature_names'])\n",
        "ax = weights.plot(kind='bar', figsize=(20,8))\n",
        "\n",
        "ax.set_title(\"Top Negative Feature Probabilities (Classified as Low Price)\")\n",
        "ax.set_ylabel(\"Feature Log Probabilities\")\n",
        "ax.set_xlabel(\"Feature Names\")\n",
        "plt.show()"
      ],
      "execution_count": null,
      "outputs": [
        {
          "output_type": "display_data",
          "data": {
            "image/png": "[encoded data removed]",
            "text/plain": [
              "<Figure size 1440x576 with 1 Axes>"
            ]
          },
          "metadata": {
            "tags": []
          }
        },
        {
          "output_type": "display_data",
          "data": {
            "image/png": "[encoded data removed]",
            "text/plain": [
              "<Figure size 1440x576 with 1 Axes>"
            ]
          },
          "metadata": {
            "tags": []
          }
        }
      ]
    },
    {
      "cell_type": "markdown",
      "metadata": {
        "id": "AwY5hY7CMZAL"
      },
      "source": [
        "The Bernoulli Naive Bayes classifier classified price into two classes, \"High\" which is associated with the positive probabilities, and \"Low\" which is associated with the negatiave probabilities. It is interesting that the individual neighborhoods are so important for the classification. This makes sense though considering that the Bernoulli Naive Bayes uses binary features to classify and these neighborhoods are encoded with 0 and 1's. Some neighborhoods have very few listings in them. It is the case that some of these neighborhoods have single digit listings in them where 90%+ of them are all listed as the same class. This would mean that a neighborhood with only 5 listings, where they are all \"Low\" price, the BNB classifier would heavily weight any other listing in this neighborhood to \"Low\". There is a good chance that regardless of other attributes, since the place is in that neighborhood it will still be \"Low\".\n",
        "\n",
        " Private room and great listing variables are highly important which makes sense given that people are more likely to pay more for their own room and a great place. And less likely to pay as much for a public room that is not considered a great place. "
      ]
    },
    {
      "cell_type": "code",
      "metadata": {
        "id": "CPwE3V5l7SzR",
        "colab": {
          "base_uri": "https://localhost:8080/",
          "height": 578
        },
        "outputId": "760cbdab-0e6b-41c8-f12b-75d4a014a75e"
      },
      "source": [
        "#RF Classification Estimator\n",
        "#Use RF model that was optimized for accuracy as that was determined to be the more advantageous model for this task\n",
        "from sklearn.ensemble import RandomForestClassifier\n",
        "RFclassifierEst = RF_accuracy\n",
        "RFclassifierEst.fit(scaled_Xc, yc)\n",
        "\n",
        "weights = RFclassifierEst.feature_importances_.ravel()\n",
        "feature_names = cdata.columns.values\n",
        "linreg_ft_imp_df = pd.DataFrame({'feature_names':feature_names, 'weights':weights, 'absolute_weights': np.abs(weights)})\n",
        "linreg_ft_imp_df.sort_values(by='absolute_weights', inplace=True, ascending=False )\n",
        "\n",
        "import matplotlib.pyplot as plt\n",
        "%matplotlib inline\n",
        "\n",
        "#Plot the model's feature importances\n",
        "# REFERENCE:  Eric Larson, https://github.com/eclarson/DataMiningNotebooks\n",
        "plt.style.use('ggplot')\n",
        "\n",
        "wt_plt_df = linreg_ft_imp_df.head(75)\n",
        "\n",
        "weights = pd.Series(wt_plt_df['weights'].values,index=wt_plt_df['feature_names'])\n",
        "ax = weights.plot(kind='bar', figsize=(20,8))\n",
        "\n",
        "ax.set_title(\"Top Feature Correlations\")\n",
        "ax.set_ylabel(\"Coefficient Magnitude\\n(z-score)\")\n",
        "ax.set_xlabel(\"Feature Names\")\n",
        "plt.show()"
      ],
      "execution_count": null,
      "outputs": [
        {
          "output_type": "display_data",
          "data": {
            "image/png": "[encoded data removed]",
            "text/plain": [
              "<Figure size 1440x576 with 1 Axes>"
            ]
          },
          "metadata": {
            "tags": []
          }
        }
      ]
    },
    {
      "cell_type": "markdown",
      "metadata": {
        "id": "lwuPeYCa7m8R"
      },
      "source": [
        "Based on our RF classifier, the features that are most important are longitude, latitude, availabity_365, great_listing, and type.\n",
        "\n",
        "Longitude and latitude having the most impact on the classifier is a bit interesting. Presumably this has to do with certain longitude and latitudes being closer to the middle of the city where the tourist attractions are and those coordinates outside the city, which have lower prices, where there are less things to do.\n",
        "\n",
        "Availability_365 makes sense as that should be highly correlated with price since places that are more available are probably cheaper places and those less available are more expensive.\n",
        "\n",
        "Finally, having a great_listing score is more associated with higher price since better places are more expensive. And the type of place is also a good indicator of price since full houses are more expensive than smaller apartments.\n",
        "\n",
        "It is interesting that no individual neighborhood had that big of an impact, but collectively we feel they are still important.\n"
      ]
    },
    {
      "cell_type": "markdown",
      "metadata": {
        "id": "-imvGfBg4W9G"
      },
      "source": [
        "**New material:** Classifier Attribute Comparison between Bernoulli Naive Bayes and Random Forest Classifier"
      ]
    },
    {
      "cell_type": "markdown",
      "metadata": {
        "id": "ZharZptTjrfw"
      },
      "source": [
        "**Classifier Attribute Comparison:**\n",
        "\n",
        "The above graphs plot the feature importance for both the Bernoulli Naive Bayes and also the Random Forest classifier. Our third classification task was a KNN. Since KNN is dependent on grouping around nearest neighbors for its classification, feature importance is not able to be gleaned. \n",
        "\n",
        "We can clearly see that the BNB important features differ quite a lot from our RF model. In the Bernoulli classifier individual neighborhoods are of great importance for classifying price as \"High\" or \"Low\". Our hypothesis is that this is because of the Bernoulli Naive Bayes algorithm which is dependent on prior probabilities. So in neighborhoods that are very lopsided, either many \"Low\" prices or many \"High\" prices, have a tendency to weight these features extremely high and classify that listing in accordance to what the other listings are in that neighborhood.\n",
        "\n",
        "In contrast our Random Forest classifier showed that longitude, latitude, availability_365 were all really important. No individual neighborhoods were in the top 11 features in importance. This tells us that while the Random Forest is still using the information it gets from neighborhood, it is not weighting the prior prices from the each neighborhood as much as the Bernoulli model is. \n",
        "\n"
      ]
    },
    {
      "cell_type": "markdown",
      "metadata": {
        "id": "ufnqPHiVCAYZ"
      },
      "source": [
        "# Deployment"
      ]
    },
    {
      "cell_type": "markdown",
      "metadata": {
        "id": "H6pOdQ6gXyLC"
      },
      "source": [
        " <small>*How useful is your model for interested parties (i.e., the companies or organizations that might want to use it for prediction)? How would you measure the model's value if it was used by these parties? How would your deploy your model for interested parties? What other data should be collected? How often would the model need to be updated, etc.?*</small>\n",
        "\n",
        "**Classification Task Deployment:<BR>**\n",
        " Our Random Forest classifier is very useful for accurately assessing the quality of an Airbnb property. Our classifier could be used in order to implement a 'premium listing' filter on the Airbnb application. The value of this model can be assessed by several metrics. We can perform \n",
        " A/B testing with this filter to see if booking rates improve and the average time to make a booking. We should be consistently collecting data from new listings, as well as new reviews from previous listings and use them to constantly our model. There may be cases in which we have to reclassify previously classified properties if we have new significant information about the properties. \n",
        "\n",
        "**Regression Task Deployment:<BR>**\n",
        "The type of deployment for price regression is important for Airbnb in helping hosts find a suggested price the same way eBay does when you list an item for sale. On eBay the default price is based on a model that takes into account, demand and item properties. Airbnb is not this advanced, yet should be. This could be beneficial to new listers or struggling listers that perhaps are not seeing the amount of guests as desired due to greater error compared to the model predictions. Because speed and accuracy is important, a super fast and high-performing model like the Random Forest Regressor should be deployed in the backend of their application. We should consistently be doing market research to dictate whether our model may require updating (e.g. we may find our model may need updating on a seasonal basis due to supply and demand changes for Airbnb listings in certain locations). \n"
      ]
    },
    {
      "cell_type": "markdown",
      "metadata": {
        "id": "QyqpwdxNCFP2"
      },
      "source": [
        "# Exceptional Work"
      ]
    },
    {
      "cell_type": "markdown",
      "metadata": {
        "id": "3Q5A7rQZaC5C"
      },
      "source": [
        "**Old Code that is not corrected due to not be able to count toward re-submission**"
      ]
    },
    {
      "cell_type": "code",
      "metadata": {
        "id": "QVity9IuisSS"
      },
      "source": [
        "import seaborn as sns\n",
        "\n",
        "knn_cv_df = pd.DataFrame.from_dict(gs_results.cv_results_)\n",
        "knn_hp_plot = sns.lineplot(data=knn_cv_df, x='param_n_neighbors', y='mean_test_score', \n",
        "             hue='param_metric', style = 'param_weights', \n",
        "             markers = True)\n",
        "\n",
        "sns.set(rc={'figure.figsize':(20,10)})\n",
        "knn_hp_plot.set(ylabel='Accuracy', xlabel='N-Neighbors')\n",
        "plt.show()"
      ],
      "execution_count": null,
      "outputs": []
    },
    {
      "cell_type": "markdown",
      "metadata": {
        "id": "qiPutPJYi8Ir"
      },
      "source": [
        "**Grid search parameters in a parallelized fashion and visualize the performances across attributes. Which parameters are most signiﬁcant for making a good model for each classiﬁcation algorithm?**\n",
        "\n",
        "The plot above depicts how our accuracy changes as we change our hyperparameters. It appears that using Jaccard distance as our distance measure hinders our model performan substantially when compared to Euclidean and Manhattan distance measures. Also, uniform paramater weights appear to perform better across board when compared to distance weights. As our number of neighbors increase, so does our accuracy, unaninimously, irregardless of other hyperparamter settings, although it appears we reach an \"elbow point\" in our accuracy at around k = 10. "
      ]
    }
  ]
}